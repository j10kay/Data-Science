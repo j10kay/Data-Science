{
  "nbformat": 4,
  "nbformat_minor": 0,
  "metadata": {
    "kernelspec": {
      "display_name": "Python 3",
      "language": "python",
      "name": "python3"
    },
    "language_info": {
      "codemirror_mode": {
        "name": "ipython",
        "version": 3
      },
      "file_extension": ".py",
      "mimetype": "text/x-python",
      "name": "python",
      "nbconvert_exporter": "python",
      "pygments_lexer": "ipython3",
      "version": "3.7.8"
    },
    "colab": {
      "name": "Lab8_DataMungingI.ipynb",
      "provenance": [],
      "collapsed_sections": [
        "lQ7gG_1WXPIu",
        "lZkkKZY7XPI5",
        "Rh5mllr_XPJL",
        "4FAO0J3DXPJT",
        "KYS9SU7BXPJk",
        "4YYkXpmxXPJs"
      ]
    }
  },
  "cells": [
    {
      "cell_type": "markdown",
      "metadata": {
        "id": "_Y6CavwLXPG1"
      },
      "source": [
        "# What is Data Munging?\n",
        "Data wrangling, sometimes referred to as data munging, is the process of transforming and mapping data from one \"raw\" data form into another format with the intent of making it more appropriate and valuable for a variety of downstream purposes such as analytics.\n",
        "\n",
        "# Why Do We Need to Know How to Data Wrangle or Data Munge?\n",
        "“Even when they can get their hands on the right data, data scientists need to time to explore and understand it. The data may be in a format that can’t be easily analyzed, and with little to no metadata to help, the data scientist may need to seek advice from the data owner. After all this, the data still needs to be prepared for analysis. This involves formatting, cleaning and sampling the data. In some cases, scaling, decomposition and aggregation transformations are required before data scientists are ready to start training the models.”\n",
        "\n",
        "https://www.infoworld.com/article/3228245/the-80-20-data-science-dilemma.html\n",
        "\n",
        "# 80/20 Rule in Data Science\n",
        "“The reason data scientists are hired in the first place is to develop algorithms and build machine learning models—and these are typically the parts of the job that they enjoy most. Yet in most companies today, 80 percent of a data scientist’s valuable time is spent simply finding, cleaning and reorganizing huge amounts of data.” Only 20 percent of their time is spent on actual data analysis. Without the right tools, this task is insurmountable.\"\n",
        "https://www.infoworld.com/article/3228245/the-80-20-data-science-dilemma.html\n",
        "\n",
        "- Data Munging Part I: Working With Missing Values\n",
        "- Data Munging Part II: Put two datasets together to create one dataset\n",
        "\n",
        "\n",
        "# Lab 8 Data Munging: Part I\n",
        "\n",
        "In this lab we will learn how to do two things:\n",
        "\n",
        "1. Work with dataset that is missing values\n",
        "2. Use regex to remove html tags from your data\n",
        "\n",
        "For this lab, we'll need these libraries:\n",
        "\n",
        "1. Pandas: We will need Pandas to navigate our dataframe and check for each column’s data type, null values, and unique values.\n",
        "2. NumPy: This package is essential for any data science project. It has a lot of mathematical functions that operate on multi-dimensional arrays and data frames.\n",
        "3. Matplotlib & Seaborn: They are plotting and graphing libraries that we will use to visualize data in an intuitive way.\n",
        "\n",
        "Note: regex are tricky. Practice regex more using other tutorials like those at datacamp and tutorialspoint\n"
      ]
    },
    {
      "cell_type": "code",
      "metadata": {
        "id": "45sjKrTrXPG2"
      },
      "source": [
        "import pandas            as pd\n",
        "import numpy             as np\n",
        "import matplotlib.pyplot as plt\n",
        "import seaborn           as sns"
      ],
      "execution_count": 5,
      "outputs": []
    },
    {
      "cell_type": "markdown",
      "metadata": {
        "id": "g-e1PPNYXPG8"
      },
      "source": [
        "# Loading the Data\n",
        "Let’s load our data\n",
        "\n",
        "# Question 1. Write the code to load in the jeopardy.csv into your Notebook\n",
        "# Question 1a. Write the shape function to view the total rows and columns in your data\n",
        "Note: You should upload your jeopardy.csv into its own folder called data OR\n",
        "upload it into it's current folder"
      ]
    },
    {
      "cell_type": "code",
      "metadata": {
        "id": "wuw9-1jwXPG9",
        "outputId": "2411db47-709e-4f3e-b46d-b77f1b9130c7",
        "colab": {
          "resources": {
            "http://localhost:8080/nbextensions/google.colab/files.js": {
              "data": "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",
              "ok": true,
              "headers": [
                [
                  "content-type",
                  "application/javascript"
                ]
              ],
              "status": 200,
              "status_text": ""
            }
          },
          "base_uri": "https://localhost:8080/",
          "height": 73
        }
      },
      "source": [
        "from google.colab import files\n",
        "uploaded = files.upload()\n",
        "jeopardy = pd.read_csv(\"jeopardy_df.csv\")"
      ],
      "execution_count": 37,
      "outputs": [
        {
          "output_type": "display_data",
          "data": {
            "text/html": [
              "\n",
              "     <input type=\"file\" id=\"files-b156938f-c227-4b8e-81fb-9548b80f3ec6\" name=\"files[]\" multiple disabled\n",
              "        style=\"border:none\" />\n",
              "     <output id=\"result-b156938f-c227-4b8e-81fb-9548b80f3ec6\">\n",
              "      Upload widget is only available when the cell has been executed in the\n",
              "      current browser session. Please rerun this cell to enable.\n",
              "      </output>\n",
              "      <script src=\"/nbextensions/google.colab/files.js\"></script> "
            ],
            "text/plain": [
              "<IPython.core.display.HTML object>"
            ]
          },
          "metadata": {
            "tags": []
          }
        },
        {
          "output_type": "stream",
          "text": [
            "Saving jeopardy_df.csv to jeopardy_df (2).csv\n"
          ],
          "name": "stdout"
        }
      ]
    },
    {
      "cell_type": "code",
      "metadata": {
        "id": "L1V44L09ZBBC",
        "outputId": "4c2f45c2-1401-4be0-ccfc-b9fd42aa4fc8",
        "colab": {
          "base_uri": "https://localhost:8080/",
          "height": 35
        }
      },
      "source": [
        "jeopardy.shape"
      ],
      "execution_count": 41,
      "outputs": [
        {
          "output_type": "execute_result",
          "data": {
            "text/plain": [
              "(19999, 7)"
            ]
          },
          "metadata": {
            "tags": []
          },
          "execution_count": 41
        }
      ]
    },
    {
      "cell_type": "markdown",
      "metadata": {
        "id": "n2-Ty1YmXPHF"
      },
      "source": [
        "# Question 1b. Why might it be better to include all your data files under their own directory? Write the answer below.\n",
        "Answer: It allows for better structured information, it's less error prone and the scopes are well defined. \n",
        "\n",
        "# Question 2. Write the code that prints a summary of the dataframe"
      ]
    },
    {
      "cell_type": "code",
      "metadata": {
        "id": "t3Dpw8H5XPHG",
        "outputId": "0fbbe12a-ce3d-47b9-ae99-29597c0ca0e9",
        "colab": {
          "base_uri": "https://localhost:8080/",
          "height": 294
        }
      },
      "source": [
        "jeopardy = pd.DataFrame(jeopardy)\n",
        "jeopardy.describe()"
      ],
      "execution_count": 55,
      "outputs": [
        {
          "output_type": "execute_result",
          "data": {
            "text/html": [
              "<div>\n",
              "<style scoped>\n",
              "    .dataframe tbody tr th:only-of-type {\n",
              "        vertical-align: middle;\n",
              "    }\n",
              "\n",
              "    .dataframe tbody tr th {\n",
              "        vertical-align: top;\n",
              "    }\n",
              "\n",
              "    .dataframe thead th {\n",
              "        text-align: right;\n",
              "    }\n",
              "</style>\n",
              "<table border=\"1\" class=\"dataframe\">\n",
              "  <thead>\n",
              "    <tr style=\"text-align: right;\">\n",
              "      <th></th>\n",
              "      <th>Show Number</th>\n",
              "    </tr>\n",
              "  </thead>\n",
              "  <tbody>\n",
              "    <tr>\n",
              "      <th>count</th>\n",
              "      <td>19999.000000</td>\n",
              "    </tr>\n",
              "    <tr>\n",
              "      <th>mean</th>\n",
              "      <td>4312.730537</td>\n",
              "    </tr>\n",
              "    <tr>\n",
              "      <th>std</th>\n",
              "      <td>1374.121672</td>\n",
              "    </tr>\n",
              "    <tr>\n",
              "      <th>min</th>\n",
              "      <td>10.000000</td>\n",
              "    </tr>\n",
              "    <tr>\n",
              "      <th>25%</th>\n",
              "      <td>3393.000000</td>\n",
              "    </tr>\n",
              "    <tr>\n",
              "      <th>50%</th>\n",
              "      <td>4582.000000</td>\n",
              "    </tr>\n",
              "    <tr>\n",
              "      <th>75%</th>\n",
              "      <td>5431.000000</td>\n",
              "    </tr>\n",
              "    <tr>\n",
              "      <th>max</th>\n",
              "      <td>6294.000000</td>\n",
              "    </tr>\n",
              "  </tbody>\n",
              "</table>\n",
              "</div>"
            ],
            "text/plain": [
              "        Show Number\n",
              "count  19999.000000\n",
              "mean    4312.730537\n",
              "std     1374.121672\n",
              "min       10.000000\n",
              "25%     3393.000000\n",
              "50%     4582.000000\n",
              "75%     5431.000000\n",
              "max     6294.000000"
            ]
          },
          "metadata": {
            "tags": []
          },
          "execution_count": 55
        }
      ]
    },
    {
      "cell_type": "markdown",
      "metadata": {
        "id": "2sCP8EAjXPHQ"
      },
      "source": [
        "# Question 3. Write the code that prints the first 25 rows of the dataframe"
      ]
    },
    {
      "cell_type": "code",
      "metadata": {
        "id": "zPNr89jRXPHS",
        "outputId": "1e926eef-ce79-4767-b6dd-8b094871cfa6",
        "colab": {
          "base_uri": "https://localhost:8080/",
          "height": 815
        }
      },
      "source": [
        "jeopardy.head(25)"
      ],
      "execution_count": 56,
      "outputs": [
        {
          "output_type": "execute_result",
          "data": {
            "text/html": [
              "<div>\n",
              "<style scoped>\n",
              "    .dataframe tbody tr th:only-of-type {\n",
              "        vertical-align: middle;\n",
              "    }\n",
              "\n",
              "    .dataframe tbody tr th {\n",
              "        vertical-align: top;\n",
              "    }\n",
              "\n",
              "    .dataframe thead th {\n",
              "        text-align: right;\n",
              "    }\n",
              "</style>\n",
              "<table border=\"1\" class=\"dataframe\">\n",
              "  <thead>\n",
              "    <tr style=\"text-align: right;\">\n",
              "      <th></th>\n",
              "      <th>Show Number</th>\n",
              "      <th>Air Date</th>\n",
              "      <th>Round</th>\n",
              "      <th>Category</th>\n",
              "      <th>Value</th>\n",
              "      <th>Question</th>\n",
              "      <th>Answer</th>\n",
              "    </tr>\n",
              "  </thead>\n",
              "  <tbody>\n",
              "    <tr>\n",
              "      <th>0</th>\n",
              "      <td>4680</td>\n",
              "      <td>12/31/04</td>\n",
              "      <td>Jeopardy!</td>\n",
              "      <td>HISTORY</td>\n",
              "      <td>$200</td>\n",
              "      <td>For the last 8 years of his life, Galileo was ...</td>\n",
              "      <td>Copernicus</td>\n",
              "    </tr>\n",
              "    <tr>\n",
              "      <th>1</th>\n",
              "      <td>4680</td>\n",
              "      <td>12/31/04</td>\n",
              "      <td>Jeopardy!</td>\n",
              "      <td>ESPN's TOP 10 ALL-TIME ATHLETES</td>\n",
              "      <td>$200</td>\n",
              "      <td>No. 2: 1912 Olympian; football star at Carlisl...</td>\n",
              "      <td>Jim Thorpe</td>\n",
              "    </tr>\n",
              "    <tr>\n",
              "      <th>2</th>\n",
              "      <td>4680</td>\n",
              "      <td>12/31/04</td>\n",
              "      <td>Jeopardy!</td>\n",
              "      <td>EVERYBODY TALKS ABOUT IT...</td>\n",
              "      <td>$200</td>\n",
              "      <td>The city of Yuma in this state has a record av...</td>\n",
              "      <td>Arizona</td>\n",
              "    </tr>\n",
              "    <tr>\n",
              "      <th>3</th>\n",
              "      <td>4680</td>\n",
              "      <td>12/31/04</td>\n",
              "      <td>Jeopardy!</td>\n",
              "      <td>THE COMPANY LINE</td>\n",
              "      <td>$200</td>\n",
              "      <td>In 1963, live on \"The Art Linkletter Show\", th...</td>\n",
              "      <td>McDonald's</td>\n",
              "    </tr>\n",
              "    <tr>\n",
              "      <th>4</th>\n",
              "      <td>4680</td>\n",
              "      <td>12/31/04</td>\n",
              "      <td>Jeopardy!</td>\n",
              "      <td>EPITAPHS &amp; TRIBUTES</td>\n",
              "      <td>$200</td>\n",
              "      <td>Signer of the Dec. of Indep., framer of the Co...</td>\n",
              "      <td>John Adams</td>\n",
              "    </tr>\n",
              "    <tr>\n",
              "      <th>5</th>\n",
              "      <td>4680</td>\n",
              "      <td>12/31/04</td>\n",
              "      <td>Jeopardy!</td>\n",
              "      <td>3-LETTER WORDS</td>\n",
              "      <td>$200</td>\n",
              "      <td>In the title of an Aesop fable, this insect sh...</td>\n",
              "      <td>the ant</td>\n",
              "    </tr>\n",
              "    <tr>\n",
              "      <th>6</th>\n",
              "      <td>4680</td>\n",
              "      <td>12/31/04</td>\n",
              "      <td>Jeopardy!</td>\n",
              "      <td>HISTORY</td>\n",
              "      <td>$400</td>\n",
              "      <td>Built in 312 B.C. to link Rome &amp; the South of ...</td>\n",
              "      <td>the Appian Way</td>\n",
              "    </tr>\n",
              "    <tr>\n",
              "      <th>7</th>\n",
              "      <td>4680</td>\n",
              "      <td>12/31/04</td>\n",
              "      <td>Jeopardy!</td>\n",
              "      <td>ESPN's TOP 10 ALL-TIME ATHLETES</td>\n",
              "      <td>$400</td>\n",
              "      <td>No. 8: 30 steals for the Birmingham Barons; 2,...</td>\n",
              "      <td>Michael Jordan</td>\n",
              "    </tr>\n",
              "    <tr>\n",
              "      <th>8</th>\n",
              "      <td>4680</td>\n",
              "      <td>12/31/04</td>\n",
              "      <td>Jeopardy!</td>\n",
              "      <td>EVERYBODY TALKS ABOUT IT...</td>\n",
              "      <td>$400</td>\n",
              "      <td>In the winter of 1971-72, a record 1,122 inche...</td>\n",
              "      <td>Washington</td>\n",
              "    </tr>\n",
              "    <tr>\n",
              "      <th>9</th>\n",
              "      <td>4680</td>\n",
              "      <td>12/31/04</td>\n",
              "      <td>Jeopardy!</td>\n",
              "      <td>THE COMPANY LINE</td>\n",
              "      <td>$400</td>\n",
              "      <td>This housewares store was named for the packag...</td>\n",
              "      <td>Crate &amp; Barrel</td>\n",
              "    </tr>\n",
              "    <tr>\n",
              "      <th>10</th>\n",
              "      <td>4680</td>\n",
              "      <td>12/31/04</td>\n",
              "      <td>Jeopardy!</td>\n",
              "      <td>EPITAPHS &amp; TRIBUTES</td>\n",
              "      <td>$400</td>\n",
              "      <td>\"And away we go\"</td>\n",
              "      <td>Jackie Gleason</td>\n",
              "    </tr>\n",
              "    <tr>\n",
              "      <th>11</th>\n",
              "      <td>4680</td>\n",
              "      <td>12/31/04</td>\n",
              "      <td>Jeopardy!</td>\n",
              "      <td>3-LETTER WORDS</td>\n",
              "      <td>$400</td>\n",
              "      <td>Cows regurgitate this from the first stomach t...</td>\n",
              "      <td>the cud</td>\n",
              "    </tr>\n",
              "    <tr>\n",
              "      <th>12</th>\n",
              "      <td>4680</td>\n",
              "      <td>12/31/04</td>\n",
              "      <td>Jeopardy!</td>\n",
              "      <td>HISTORY</td>\n",
              "      <td>$600</td>\n",
              "      <td>In 1000 Rajaraja I of the Cholas battled to ta...</td>\n",
              "      <td>Ceylon (or Sri Lanka)</td>\n",
              "    </tr>\n",
              "    <tr>\n",
              "      <th>13</th>\n",
              "      <td>4680</td>\n",
              "      <td>12/31/04</td>\n",
              "      <td>Jeopardy!</td>\n",
              "      <td>ESPN's TOP 10 ALL-TIME ATHLETES</td>\n",
              "      <td>$600</td>\n",
              "      <td>No. 1: Lettered in hoops, football &amp; lacrosse ...</td>\n",
              "      <td>Jim Brown</td>\n",
              "    </tr>\n",
              "    <tr>\n",
              "      <th>14</th>\n",
              "      <td>4680</td>\n",
              "      <td>12/31/04</td>\n",
              "      <td>Jeopardy!</td>\n",
              "      <td>EVERYBODY TALKS ABOUT IT...</td>\n",
              "      <td>$600</td>\n",
              "      <td>On June 28, 1994 the nat'l weather service beg...</td>\n",
              "      <td>the UV index</td>\n",
              "    </tr>\n",
              "    <tr>\n",
              "      <th>15</th>\n",
              "      <td>4680</td>\n",
              "      <td>12/31/04</td>\n",
              "      <td>Jeopardy!</td>\n",
              "      <td>THE COMPANY LINE</td>\n",
              "      <td>$600</td>\n",
              "      <td>This company's Accutron watch, introduced in 1...</td>\n",
              "      <td>Bulova</td>\n",
              "    </tr>\n",
              "    <tr>\n",
              "      <th>16</th>\n",
              "      <td>4680</td>\n",
              "      <td>12/31/04</td>\n",
              "      <td>Jeopardy!</td>\n",
              "      <td>EPITAPHS &amp; TRIBUTES</td>\n",
              "      <td>$600</td>\n",
              "      <td>Outlaw: \"Murdered by a traitor and a coward wh...</td>\n",
              "      <td>Jesse James</td>\n",
              "    </tr>\n",
              "    <tr>\n",
              "      <th>17</th>\n",
              "      <td>4680</td>\n",
              "      <td>12/31/04</td>\n",
              "      <td>Jeopardy!</td>\n",
              "      <td>3-LETTER WORDS</td>\n",
              "      <td>$600</td>\n",
              "      <td>A small demon, or a mischievous child (who mig...</td>\n",
              "      <td>imp</td>\n",
              "    </tr>\n",
              "    <tr>\n",
              "      <th>18</th>\n",
              "      <td>4680</td>\n",
              "      <td>12/31/04</td>\n",
              "      <td>Jeopardy!</td>\n",
              "      <td>HISTORY</td>\n",
              "      <td>$800</td>\n",
              "      <td>Karl led the first of these Marxist organizati...</td>\n",
              "      <td>the International</td>\n",
              "    </tr>\n",
              "    <tr>\n",
              "      <th>19</th>\n",
              "      <td>4680</td>\n",
              "      <td>12/31/04</td>\n",
              "      <td>Jeopardy!</td>\n",
              "      <td>ESPN's TOP 10 ALL-TIME ATHLETES</td>\n",
              "      <td>$800</td>\n",
              "      <td>No. 10: FB/LB for Columbia U. in the 1920s; MV...</td>\n",
              "      <td>(Lou) Gehrig</td>\n",
              "    </tr>\n",
              "    <tr>\n",
              "      <th>20</th>\n",
              "      <td>4680</td>\n",
              "      <td>12/31/04</td>\n",
              "      <td>Jeopardy!</td>\n",
              "      <td>EVERYBODY TALKS ABOUT IT...</td>\n",
              "      <td>$800</td>\n",
              "      <td>Africa's lowest temperature was 11 degrees bel...</td>\n",
              "      <td>Morocco</td>\n",
              "    </tr>\n",
              "    <tr>\n",
              "      <th>21</th>\n",
              "      <td>4680</td>\n",
              "      <td>12/31/04</td>\n",
              "      <td>Jeopardy!</td>\n",
              "      <td>THE COMPANY LINE</td>\n",
              "      <td>$800</td>\n",
              "      <td>Edward Teller &amp; this man partnered in 1898 to ...</td>\n",
              "      <td>(Paul) Bonwit</td>\n",
              "    </tr>\n",
              "    <tr>\n",
              "      <th>22</th>\n",
              "      <td>4680</td>\n",
              "      <td>12/31/04</td>\n",
              "      <td>Jeopardy!</td>\n",
              "      <td>EPITAPHS &amp; TRIBUTES</td>\n",
              "      <td>$2,000</td>\n",
              "      <td>1939 Oscar winner: \"...you are a credit to you...</td>\n",
              "      <td>Hattie McDaniel (for her role in Gone with the...</td>\n",
              "    </tr>\n",
              "    <tr>\n",
              "      <th>23</th>\n",
              "      <td>4680</td>\n",
              "      <td>12/31/04</td>\n",
              "      <td>Jeopardy!</td>\n",
              "      <td>3-LETTER WORDS</td>\n",
              "      <td>$800</td>\n",
              "      <td>In geologic time one of these, shorter than an...</td>\n",
              "      <td>era</td>\n",
              "    </tr>\n",
              "    <tr>\n",
              "      <th>24</th>\n",
              "      <td>4680</td>\n",
              "      <td>12/31/04</td>\n",
              "      <td>Jeopardy!</td>\n",
              "      <td>HISTORY</td>\n",
              "      <td>$1,000</td>\n",
              "      <td>This Asian political party was founded in 1885...</td>\n",
              "      <td>the Congress Party</td>\n",
              "    </tr>\n",
              "  </tbody>\n",
              "</table>\n",
              "</div>"
            ],
            "text/plain": [
              "    Show Number  ...                                             Answer\n",
              "0          4680  ...                                         Copernicus\n",
              "1          4680  ...                                         Jim Thorpe\n",
              "2          4680  ...                                            Arizona\n",
              "3          4680  ...                                         McDonald's\n",
              "4          4680  ...                                         John Adams\n",
              "5          4680  ...                                            the ant\n",
              "6          4680  ...                                     the Appian Way\n",
              "7          4680  ...                                     Michael Jordan\n",
              "8          4680  ...                                         Washington\n",
              "9          4680  ...                                     Crate & Barrel\n",
              "10         4680  ...                                     Jackie Gleason\n",
              "11         4680  ...                                            the cud\n",
              "12         4680  ...                              Ceylon (or Sri Lanka)\n",
              "13         4680  ...                                          Jim Brown\n",
              "14         4680  ...                                       the UV index\n",
              "15         4680  ...                                             Bulova\n",
              "16         4680  ...                                        Jesse James\n",
              "17         4680  ...                                                imp\n",
              "18         4680  ...                                  the International\n",
              "19         4680  ...                                       (Lou) Gehrig\n",
              "20         4680  ...                                            Morocco\n",
              "21         4680  ...                                      (Paul) Bonwit\n",
              "22         4680  ...  Hattie McDaniel (for her role in Gone with the...\n",
              "23         4680  ...                                                era\n",
              "24         4680  ...                                 the Congress Party\n",
              "\n",
              "[25 rows x 7 columns]"
            ]
          },
          "metadata": {
            "tags": []
          },
          "execution_count": 56
        }
      ]
    },
    {
      "cell_type": "markdown",
      "metadata": {
        "id": "daBBEUGkXPHa"
      },
      "source": [
        "Now that we've seen a summary of the dataset, it may be necessary to view an entire column of data\n",
        "To print the entire Category column, I would normally write:\n",
        "print(jeopardy['Category'))\n",
        "\n",
        "What if I wanted to print the Category value for Row number 205?\n",
        "\n",
        "\n",
        "# Question 4. Write the code to print the Category, Question, and Answer values for Row Number 205"
      ]
    },
    {
      "cell_type": "code",
      "metadata": {
        "id": "ScTiuGjDXPHc"
      },
      "source": [
        "# jeopardy.loc[204, ['Category', 'Question', 'Answer']]   #commented out because it causes an error."
      ],
      "execution_count": 44,
      "outputs": []
    },
    {
      "cell_type": "markdown",
      "metadata": {
        "id": "PF8-xCRNXPHo"
      },
      "source": [
        "You should have received an error. What possibly could have went wrong?\n",
        " \n",
        "# Question 5. Post the error below (if any)\n",
        "Write you answer here.\n",
        "\n",
        "Answer: KeyError: \"None of [Index(['Category', 'Question', 'Answer'], dtype='object')] are in the [index]\"\n",
        "\n",
        "# Question 6. What's the problem with all of the category names in our dataset?\n",
        "Write you guess below as to why the column names are not being found\n",
        "\n",
        "Answer: There's most likely some whitespace in the column names that's preventing an exact match. "
      ]
    },
    {
      "cell_type": "markdown",
      "metadata": {
        "id": "jhOwCXafXPHq"
      },
      "source": [
        "# Let's begin our Exploratory Data Analysis\n",
        "\n",
        "Exploratory data analysis may involve removing extra spaces or cleaning up your data.\n",
        "It may also involve visualizing the data. \n",
        "In order to do that though, you may need to remove missing values, whitespace, or other errors that may occur in the dataset.\n",
        "\n",
        "# Removing Leading Whitespace\n",
        "\n",
        "Sometimes you will receive a dataset that has trailing or ending whitespace that occurs with the column names. This commonly occurs if data is scraped from the web.  \n",
        "This will cause errors to occur when trying to extract data from columns.\n",
        "There are two ways you can do this:\n",
        "\n",
        "1. Rename the column names to what you want them to be or\n",
        "2. Remove the whitespace in the front\n",
        "\n",
        "In some cases you may spend too much time trying to figure out what is going on with your column names. May be just easier to rename them. \n",
        "\n",
        "We're going to do both in this Lab\n",
        "\n",
        "When removing whitespace we can use the str.replace function\n",
        "jeopardy.columns=jeopardy.columns.str.replace(' ', '')\n",
        "\n",
        "# Question 7. Write the code to remove the whitespace that occurs in the jeopardy dataframe for all columns"
      ]
    },
    {
      "cell_type": "code",
      "metadata": {
        "id": "7pI9L820XPHr",
        "outputId": "29a3320b-4d49-4d5b-bdd4-3aed5d664b92",
        "colab": {
          "base_uri": "https://localhost:8080/",
          "height": 415
        }
      },
      "source": [
        "jeopardy.rename(str.strip, axis='columns', inplace=True)\n",
        "jeopardy"
      ],
      "execution_count": 57,
      "outputs": [
        {
          "output_type": "execute_result",
          "data": {
            "text/html": [
              "<div>\n",
              "<style scoped>\n",
              "    .dataframe tbody tr th:only-of-type {\n",
              "        vertical-align: middle;\n",
              "    }\n",
              "\n",
              "    .dataframe tbody tr th {\n",
              "        vertical-align: top;\n",
              "    }\n",
              "\n",
              "    .dataframe thead th {\n",
              "        text-align: right;\n",
              "    }\n",
              "</style>\n",
              "<table border=\"1\" class=\"dataframe\">\n",
              "  <thead>\n",
              "    <tr style=\"text-align: right;\">\n",
              "      <th></th>\n",
              "      <th>Show Number</th>\n",
              "      <th>Air Date</th>\n",
              "      <th>Round</th>\n",
              "      <th>Category</th>\n",
              "      <th>Value</th>\n",
              "      <th>Question</th>\n",
              "      <th>Answer</th>\n",
              "    </tr>\n",
              "  </thead>\n",
              "  <tbody>\n",
              "    <tr>\n",
              "      <th>0</th>\n",
              "      <td>4680</td>\n",
              "      <td>12/31/04</td>\n",
              "      <td>Jeopardy!</td>\n",
              "      <td>HISTORY</td>\n",
              "      <td>$200</td>\n",
              "      <td>For the last 8 years of his life, Galileo was ...</td>\n",
              "      <td>Copernicus</td>\n",
              "    </tr>\n",
              "    <tr>\n",
              "      <th>1</th>\n",
              "      <td>4680</td>\n",
              "      <td>12/31/04</td>\n",
              "      <td>Jeopardy!</td>\n",
              "      <td>ESPN's TOP 10 ALL-TIME ATHLETES</td>\n",
              "      <td>$200</td>\n",
              "      <td>No. 2: 1912 Olympian; football star at Carlisl...</td>\n",
              "      <td>Jim Thorpe</td>\n",
              "    </tr>\n",
              "    <tr>\n",
              "      <th>2</th>\n",
              "      <td>4680</td>\n",
              "      <td>12/31/04</td>\n",
              "      <td>Jeopardy!</td>\n",
              "      <td>EVERYBODY TALKS ABOUT IT...</td>\n",
              "      <td>$200</td>\n",
              "      <td>The city of Yuma in this state has a record av...</td>\n",
              "      <td>Arizona</td>\n",
              "    </tr>\n",
              "    <tr>\n",
              "      <th>3</th>\n",
              "      <td>4680</td>\n",
              "      <td>12/31/04</td>\n",
              "      <td>Jeopardy!</td>\n",
              "      <td>THE COMPANY LINE</td>\n",
              "      <td>$200</td>\n",
              "      <td>In 1963, live on \"The Art Linkletter Show\", th...</td>\n",
              "      <td>McDonald's</td>\n",
              "    </tr>\n",
              "    <tr>\n",
              "      <th>4</th>\n",
              "      <td>4680</td>\n",
              "      <td>12/31/04</td>\n",
              "      <td>Jeopardy!</td>\n",
              "      <td>EPITAPHS &amp; TRIBUTES</td>\n",
              "      <td>$200</td>\n",
              "      <td>Signer of the Dec. of Indep., framer of the Co...</td>\n",
              "      <td>John Adams</td>\n",
              "    </tr>\n",
              "    <tr>\n",
              "      <th>...</th>\n",
              "      <td>...</td>\n",
              "      <td>...</td>\n",
              "      <td>...</td>\n",
              "      <td>...</td>\n",
              "      <td>...</td>\n",
              "      <td>...</td>\n",
              "      <td>...</td>\n",
              "    </tr>\n",
              "    <tr>\n",
              "      <th>19994</th>\n",
              "      <td>3582</td>\n",
              "      <td>3/14/00</td>\n",
              "      <td>Jeopardy!</td>\n",
              "      <td>U.S. GEOGRAPHY</td>\n",
              "      <td>$200</td>\n",
              "      <td>Of 8, 12 or 18, the number of U.S. states that...</td>\n",
              "      <td>18</td>\n",
              "    </tr>\n",
              "    <tr>\n",
              "      <th>19995</th>\n",
              "      <td>3582</td>\n",
              "      <td>3/14/00</td>\n",
              "      <td>Jeopardy!</td>\n",
              "      <td>POP MUSIC PAIRINGS</td>\n",
              "      <td>$200</td>\n",
              "      <td>...&amp; the New Power Generation</td>\n",
              "      <td>Prince</td>\n",
              "    </tr>\n",
              "    <tr>\n",
              "      <th>19996</th>\n",
              "      <td>3582</td>\n",
              "      <td>3/14/00</td>\n",
              "      <td>Jeopardy!</td>\n",
              "      <td>HISTORIC PEOPLE</td>\n",
              "      <td>$200</td>\n",
              "      <td>In 1589 he was appointed professor of mathemat...</td>\n",
              "      <td>Galileo</td>\n",
              "    </tr>\n",
              "    <tr>\n",
              "      <th>19997</th>\n",
              "      <td>3582</td>\n",
              "      <td>3/14/00</td>\n",
              "      <td>Jeopardy!</td>\n",
              "      <td>1998 QUOTATIONS</td>\n",
              "      <td>$200</td>\n",
              "      <td>Before the grand jury she said, \"I'm really so...</td>\n",
              "      <td>Monica Lewinsky</td>\n",
              "    </tr>\n",
              "    <tr>\n",
              "      <th>19998</th>\n",
              "      <td>3582</td>\n",
              "      <td>3/14/00</td>\n",
              "      <td>Jeopardy!</td>\n",
              "      <td>LLAMA-RAMA</td>\n",
              "      <td>$200</td>\n",
              "      <td>Llamas are the heftiest South American members...</td>\n",
              "      <td>Camels</td>\n",
              "    </tr>\n",
              "  </tbody>\n",
              "</table>\n",
              "<p>19999 rows × 7 columns</p>\n",
              "</div>"
            ],
            "text/plain": [
              "       Show Number  ...           Answer\n",
              "0             4680  ...       Copernicus\n",
              "1             4680  ...       Jim Thorpe\n",
              "2             4680  ...          Arizona\n",
              "3             4680  ...       McDonald's\n",
              "4             4680  ...       John Adams\n",
              "...            ...  ...              ...\n",
              "19994         3582  ...               18\n",
              "19995         3582  ...           Prince\n",
              "19996         3582  ...          Galileo\n",
              "19997         3582  ...  Monica Lewinsky\n",
              "19998         3582  ...           Camels\n",
              "\n",
              "[19999 rows x 7 columns]"
            ]
          },
          "metadata": {
            "tags": []
          },
          "execution_count": 57
        }
      ]
    },
    {
      "cell_type": "markdown",
      "metadata": {
        "id": "1uw9fRTrXPH1"
      },
      "source": [
        "#  Question 8. Write the code to print the 205th row in the jeopardy dataframe for the Category, Question, and Answer columns"
      ]
    },
    {
      "cell_type": "code",
      "metadata": {
        "id": "u2osPvXOXPH3",
        "outputId": "58083c33-279a-493d-e2ca-11f6a7184f4a",
        "colab": {
          "base_uri": "https://localhost:8080/",
          "height": 87
        }
      },
      "source": [
        "jeopardy.loc[204, ['Category', 'Question', 'Answer']]"
      ],
      "execution_count": 58,
      "outputs": [
        {
          "output_type": "execute_result",
          "data": {
            "text/plain": [
              "Category                                     THE EYES HAVE IT\n",
              "Question    People say these are what you need to make it ...\n",
              "Answer                                               Contacts\n",
              "Name: 204, dtype: object"
            ]
          },
          "metadata": {
            "tags": []
          },
          "execution_count": 58
        }
      ]
    },
    {
      "cell_type": "markdown",
      "metadata": {
        "id": "GlCVkU0xXPII"
      },
      "source": [
        "Sometimes you will need to rename columns names so that they are more meaningful to your analysis.\n",
        "To rename a column we can use the rename function\n",
        "\n",
        "df.rename(columns={'Column To Be Renames': 'New Name Of Column'},\n",
        "          inplace=True)"
      ]
    },
    {
      "cell_type": "markdown",
      "metadata": {
        "id": "kuBPkYbyXPIJ"
      },
      "source": [
        "# Question 9. Write the code to rename the Category column to Genre. "
      ]
    },
    {
      "cell_type": "code",
      "metadata": {
        "id": "i_tDgFH3XPIK",
        "outputId": "cda5c4b6-6cfd-431d-c87d-ed0faf4742ca",
        "colab": {
          "base_uri": "https://localhost:8080/",
          "height": 415
        }
      },
      "source": [
        "jeopardy.rename(columns={'Category':'Genre'}, inplace=True)\n",
        "jeopardy"
      ],
      "execution_count": 59,
      "outputs": [
        {
          "output_type": "execute_result",
          "data": {
            "text/html": [
              "<div>\n",
              "<style scoped>\n",
              "    .dataframe tbody tr th:only-of-type {\n",
              "        vertical-align: middle;\n",
              "    }\n",
              "\n",
              "    .dataframe tbody tr th {\n",
              "        vertical-align: top;\n",
              "    }\n",
              "\n",
              "    .dataframe thead th {\n",
              "        text-align: right;\n",
              "    }\n",
              "</style>\n",
              "<table border=\"1\" class=\"dataframe\">\n",
              "  <thead>\n",
              "    <tr style=\"text-align: right;\">\n",
              "      <th></th>\n",
              "      <th>Show Number</th>\n",
              "      <th>Air Date</th>\n",
              "      <th>Round</th>\n",
              "      <th>Genre</th>\n",
              "      <th>Value</th>\n",
              "      <th>Question</th>\n",
              "      <th>Answer</th>\n",
              "    </tr>\n",
              "  </thead>\n",
              "  <tbody>\n",
              "    <tr>\n",
              "      <th>0</th>\n",
              "      <td>4680</td>\n",
              "      <td>12/31/04</td>\n",
              "      <td>Jeopardy!</td>\n",
              "      <td>HISTORY</td>\n",
              "      <td>$200</td>\n",
              "      <td>For the last 8 years of his life, Galileo was ...</td>\n",
              "      <td>Copernicus</td>\n",
              "    </tr>\n",
              "    <tr>\n",
              "      <th>1</th>\n",
              "      <td>4680</td>\n",
              "      <td>12/31/04</td>\n",
              "      <td>Jeopardy!</td>\n",
              "      <td>ESPN's TOP 10 ALL-TIME ATHLETES</td>\n",
              "      <td>$200</td>\n",
              "      <td>No. 2: 1912 Olympian; football star at Carlisl...</td>\n",
              "      <td>Jim Thorpe</td>\n",
              "    </tr>\n",
              "    <tr>\n",
              "      <th>2</th>\n",
              "      <td>4680</td>\n",
              "      <td>12/31/04</td>\n",
              "      <td>Jeopardy!</td>\n",
              "      <td>EVERYBODY TALKS ABOUT IT...</td>\n",
              "      <td>$200</td>\n",
              "      <td>The city of Yuma in this state has a record av...</td>\n",
              "      <td>Arizona</td>\n",
              "    </tr>\n",
              "    <tr>\n",
              "      <th>3</th>\n",
              "      <td>4680</td>\n",
              "      <td>12/31/04</td>\n",
              "      <td>Jeopardy!</td>\n",
              "      <td>THE COMPANY LINE</td>\n",
              "      <td>$200</td>\n",
              "      <td>In 1963, live on \"The Art Linkletter Show\", th...</td>\n",
              "      <td>McDonald's</td>\n",
              "    </tr>\n",
              "    <tr>\n",
              "      <th>4</th>\n",
              "      <td>4680</td>\n",
              "      <td>12/31/04</td>\n",
              "      <td>Jeopardy!</td>\n",
              "      <td>EPITAPHS &amp; TRIBUTES</td>\n",
              "      <td>$200</td>\n",
              "      <td>Signer of the Dec. of Indep., framer of the Co...</td>\n",
              "      <td>John Adams</td>\n",
              "    </tr>\n",
              "    <tr>\n",
              "      <th>...</th>\n",
              "      <td>...</td>\n",
              "      <td>...</td>\n",
              "      <td>...</td>\n",
              "      <td>...</td>\n",
              "      <td>...</td>\n",
              "      <td>...</td>\n",
              "      <td>...</td>\n",
              "    </tr>\n",
              "    <tr>\n",
              "      <th>19994</th>\n",
              "      <td>3582</td>\n",
              "      <td>3/14/00</td>\n",
              "      <td>Jeopardy!</td>\n",
              "      <td>U.S. GEOGRAPHY</td>\n",
              "      <td>$200</td>\n",
              "      <td>Of 8, 12 or 18, the number of U.S. states that...</td>\n",
              "      <td>18</td>\n",
              "    </tr>\n",
              "    <tr>\n",
              "      <th>19995</th>\n",
              "      <td>3582</td>\n",
              "      <td>3/14/00</td>\n",
              "      <td>Jeopardy!</td>\n",
              "      <td>POP MUSIC PAIRINGS</td>\n",
              "      <td>$200</td>\n",
              "      <td>...&amp; the New Power Generation</td>\n",
              "      <td>Prince</td>\n",
              "    </tr>\n",
              "    <tr>\n",
              "      <th>19996</th>\n",
              "      <td>3582</td>\n",
              "      <td>3/14/00</td>\n",
              "      <td>Jeopardy!</td>\n",
              "      <td>HISTORIC PEOPLE</td>\n",
              "      <td>$200</td>\n",
              "      <td>In 1589 he was appointed professor of mathemat...</td>\n",
              "      <td>Galileo</td>\n",
              "    </tr>\n",
              "    <tr>\n",
              "      <th>19997</th>\n",
              "      <td>3582</td>\n",
              "      <td>3/14/00</td>\n",
              "      <td>Jeopardy!</td>\n",
              "      <td>1998 QUOTATIONS</td>\n",
              "      <td>$200</td>\n",
              "      <td>Before the grand jury she said, \"I'm really so...</td>\n",
              "      <td>Monica Lewinsky</td>\n",
              "    </tr>\n",
              "    <tr>\n",
              "      <th>19998</th>\n",
              "      <td>3582</td>\n",
              "      <td>3/14/00</td>\n",
              "      <td>Jeopardy!</td>\n",
              "      <td>LLAMA-RAMA</td>\n",
              "      <td>$200</td>\n",
              "      <td>Llamas are the heftiest South American members...</td>\n",
              "      <td>Camels</td>\n",
              "    </tr>\n",
              "  </tbody>\n",
              "</table>\n",
              "<p>19999 rows × 7 columns</p>\n",
              "</div>"
            ],
            "text/plain": [
              "       Show Number  ...           Answer\n",
              "0             4680  ...       Copernicus\n",
              "1             4680  ...       Jim Thorpe\n",
              "2             4680  ...          Arizona\n",
              "3             4680  ...       McDonald's\n",
              "4             4680  ...       John Adams\n",
              "...            ...  ...              ...\n",
              "19994         3582  ...               18\n",
              "19995         3582  ...           Prince\n",
              "19996         3582  ...          Galileo\n",
              "19997         3582  ...  Monica Lewinsky\n",
              "19998         3582  ...           Camels\n",
              "\n",
              "[19999 rows x 7 columns]"
            ]
          },
          "metadata": {
            "tags": []
          },
          "execution_count": 59
        }
      ]
    },
    {
      "cell_type": "markdown",
      "metadata": {
        "id": "d_CpIpi-XPIS"
      },
      "source": [
        "# Question 10. Write the code to view the first column names and first ten rows of the data"
      ]
    },
    {
      "cell_type": "code",
      "metadata": {
        "id": "A8r-1TDgXPIT",
        "outputId": "c40ee6e3-a637-464d-caa9-913a379d9053",
        "colab": {
          "base_uri": "https://localhost:8080/",
          "height": 355
        }
      },
      "source": [
        "jeopardy.head(10)"
      ],
      "execution_count": 60,
      "outputs": [
        {
          "output_type": "execute_result",
          "data": {
            "text/html": [
              "<div>\n",
              "<style scoped>\n",
              "    .dataframe tbody tr th:only-of-type {\n",
              "        vertical-align: middle;\n",
              "    }\n",
              "\n",
              "    .dataframe tbody tr th {\n",
              "        vertical-align: top;\n",
              "    }\n",
              "\n",
              "    .dataframe thead th {\n",
              "        text-align: right;\n",
              "    }\n",
              "</style>\n",
              "<table border=\"1\" class=\"dataframe\">\n",
              "  <thead>\n",
              "    <tr style=\"text-align: right;\">\n",
              "      <th></th>\n",
              "      <th>Show Number</th>\n",
              "      <th>Air Date</th>\n",
              "      <th>Round</th>\n",
              "      <th>Genre</th>\n",
              "      <th>Value</th>\n",
              "      <th>Question</th>\n",
              "      <th>Answer</th>\n",
              "    </tr>\n",
              "  </thead>\n",
              "  <tbody>\n",
              "    <tr>\n",
              "      <th>0</th>\n",
              "      <td>4680</td>\n",
              "      <td>12/31/04</td>\n",
              "      <td>Jeopardy!</td>\n",
              "      <td>HISTORY</td>\n",
              "      <td>$200</td>\n",
              "      <td>For the last 8 years of his life, Galileo was ...</td>\n",
              "      <td>Copernicus</td>\n",
              "    </tr>\n",
              "    <tr>\n",
              "      <th>1</th>\n",
              "      <td>4680</td>\n",
              "      <td>12/31/04</td>\n",
              "      <td>Jeopardy!</td>\n",
              "      <td>ESPN's TOP 10 ALL-TIME ATHLETES</td>\n",
              "      <td>$200</td>\n",
              "      <td>No. 2: 1912 Olympian; football star at Carlisl...</td>\n",
              "      <td>Jim Thorpe</td>\n",
              "    </tr>\n",
              "    <tr>\n",
              "      <th>2</th>\n",
              "      <td>4680</td>\n",
              "      <td>12/31/04</td>\n",
              "      <td>Jeopardy!</td>\n",
              "      <td>EVERYBODY TALKS ABOUT IT...</td>\n",
              "      <td>$200</td>\n",
              "      <td>The city of Yuma in this state has a record av...</td>\n",
              "      <td>Arizona</td>\n",
              "    </tr>\n",
              "    <tr>\n",
              "      <th>3</th>\n",
              "      <td>4680</td>\n",
              "      <td>12/31/04</td>\n",
              "      <td>Jeopardy!</td>\n",
              "      <td>THE COMPANY LINE</td>\n",
              "      <td>$200</td>\n",
              "      <td>In 1963, live on \"The Art Linkletter Show\", th...</td>\n",
              "      <td>McDonald's</td>\n",
              "    </tr>\n",
              "    <tr>\n",
              "      <th>4</th>\n",
              "      <td>4680</td>\n",
              "      <td>12/31/04</td>\n",
              "      <td>Jeopardy!</td>\n",
              "      <td>EPITAPHS &amp; TRIBUTES</td>\n",
              "      <td>$200</td>\n",
              "      <td>Signer of the Dec. of Indep., framer of the Co...</td>\n",
              "      <td>John Adams</td>\n",
              "    </tr>\n",
              "    <tr>\n",
              "      <th>5</th>\n",
              "      <td>4680</td>\n",
              "      <td>12/31/04</td>\n",
              "      <td>Jeopardy!</td>\n",
              "      <td>3-LETTER WORDS</td>\n",
              "      <td>$200</td>\n",
              "      <td>In the title of an Aesop fable, this insect sh...</td>\n",
              "      <td>the ant</td>\n",
              "    </tr>\n",
              "    <tr>\n",
              "      <th>6</th>\n",
              "      <td>4680</td>\n",
              "      <td>12/31/04</td>\n",
              "      <td>Jeopardy!</td>\n",
              "      <td>HISTORY</td>\n",
              "      <td>$400</td>\n",
              "      <td>Built in 312 B.C. to link Rome &amp; the South of ...</td>\n",
              "      <td>the Appian Way</td>\n",
              "    </tr>\n",
              "    <tr>\n",
              "      <th>7</th>\n",
              "      <td>4680</td>\n",
              "      <td>12/31/04</td>\n",
              "      <td>Jeopardy!</td>\n",
              "      <td>ESPN's TOP 10 ALL-TIME ATHLETES</td>\n",
              "      <td>$400</td>\n",
              "      <td>No. 8: 30 steals for the Birmingham Barons; 2,...</td>\n",
              "      <td>Michael Jordan</td>\n",
              "    </tr>\n",
              "    <tr>\n",
              "      <th>8</th>\n",
              "      <td>4680</td>\n",
              "      <td>12/31/04</td>\n",
              "      <td>Jeopardy!</td>\n",
              "      <td>EVERYBODY TALKS ABOUT IT...</td>\n",
              "      <td>$400</td>\n",
              "      <td>In the winter of 1971-72, a record 1,122 inche...</td>\n",
              "      <td>Washington</td>\n",
              "    </tr>\n",
              "    <tr>\n",
              "      <th>9</th>\n",
              "      <td>4680</td>\n",
              "      <td>12/31/04</td>\n",
              "      <td>Jeopardy!</td>\n",
              "      <td>THE COMPANY LINE</td>\n",
              "      <td>$400</td>\n",
              "      <td>This housewares store was named for the packag...</td>\n",
              "      <td>Crate &amp; Barrel</td>\n",
              "    </tr>\n",
              "  </tbody>\n",
              "</table>\n",
              "</div>"
            ],
            "text/plain": [
              "   Show Number  ...          Answer\n",
              "0         4680  ...      Copernicus\n",
              "1         4680  ...      Jim Thorpe\n",
              "2         4680  ...         Arizona\n",
              "3         4680  ...      McDonald's\n",
              "4         4680  ...      John Adams\n",
              "5         4680  ...         the ant\n",
              "6         4680  ...  the Appian Way\n",
              "7         4680  ...  Michael Jordan\n",
              "8         4680  ...      Washington\n",
              "9         4680  ...  Crate & Barrel\n",
              "\n",
              "[10 rows x 7 columns]"
            ]
          },
          "metadata": {
            "tags": []
          },
          "execution_count": 60
        }
      ]
    },
    {
      "cell_type": "markdown",
      "metadata": {
        "id": "kQRL7rXLXPIb"
      },
      "source": [
        "# Question 11. Put the code below to change the Genre column back to Category.\n",
        "Make to use the head function to view your rename results\n"
      ]
    },
    {
      "cell_type": "code",
      "metadata": {
        "id": "6FWyDRdYXPId",
        "outputId": "cf87437b-584f-4428-89a2-cc4ff3067bfc",
        "colab": {
          "base_uri": "https://localhost:8080/",
          "height": 202
        }
      },
      "source": [
        "jeopardy.rename(columns={'Genre':'Category'}, inplace=True)\n",
        "jeopardy.head()"
      ],
      "execution_count": 61,
      "outputs": [
        {
          "output_type": "execute_result",
          "data": {
            "text/html": [
              "<div>\n",
              "<style scoped>\n",
              "    .dataframe tbody tr th:only-of-type {\n",
              "        vertical-align: middle;\n",
              "    }\n",
              "\n",
              "    .dataframe tbody tr th {\n",
              "        vertical-align: top;\n",
              "    }\n",
              "\n",
              "    .dataframe thead th {\n",
              "        text-align: right;\n",
              "    }\n",
              "</style>\n",
              "<table border=\"1\" class=\"dataframe\">\n",
              "  <thead>\n",
              "    <tr style=\"text-align: right;\">\n",
              "      <th></th>\n",
              "      <th>Show Number</th>\n",
              "      <th>Air Date</th>\n",
              "      <th>Round</th>\n",
              "      <th>Category</th>\n",
              "      <th>Value</th>\n",
              "      <th>Question</th>\n",
              "      <th>Answer</th>\n",
              "    </tr>\n",
              "  </thead>\n",
              "  <tbody>\n",
              "    <tr>\n",
              "      <th>0</th>\n",
              "      <td>4680</td>\n",
              "      <td>12/31/04</td>\n",
              "      <td>Jeopardy!</td>\n",
              "      <td>HISTORY</td>\n",
              "      <td>$200</td>\n",
              "      <td>For the last 8 years of his life, Galileo was ...</td>\n",
              "      <td>Copernicus</td>\n",
              "    </tr>\n",
              "    <tr>\n",
              "      <th>1</th>\n",
              "      <td>4680</td>\n",
              "      <td>12/31/04</td>\n",
              "      <td>Jeopardy!</td>\n",
              "      <td>ESPN's TOP 10 ALL-TIME ATHLETES</td>\n",
              "      <td>$200</td>\n",
              "      <td>No. 2: 1912 Olympian; football star at Carlisl...</td>\n",
              "      <td>Jim Thorpe</td>\n",
              "    </tr>\n",
              "    <tr>\n",
              "      <th>2</th>\n",
              "      <td>4680</td>\n",
              "      <td>12/31/04</td>\n",
              "      <td>Jeopardy!</td>\n",
              "      <td>EVERYBODY TALKS ABOUT IT...</td>\n",
              "      <td>$200</td>\n",
              "      <td>The city of Yuma in this state has a record av...</td>\n",
              "      <td>Arizona</td>\n",
              "    </tr>\n",
              "    <tr>\n",
              "      <th>3</th>\n",
              "      <td>4680</td>\n",
              "      <td>12/31/04</td>\n",
              "      <td>Jeopardy!</td>\n",
              "      <td>THE COMPANY LINE</td>\n",
              "      <td>$200</td>\n",
              "      <td>In 1963, live on \"The Art Linkletter Show\", th...</td>\n",
              "      <td>McDonald's</td>\n",
              "    </tr>\n",
              "    <tr>\n",
              "      <th>4</th>\n",
              "      <td>4680</td>\n",
              "      <td>12/31/04</td>\n",
              "      <td>Jeopardy!</td>\n",
              "      <td>EPITAPHS &amp; TRIBUTES</td>\n",
              "      <td>$200</td>\n",
              "      <td>Signer of the Dec. of Indep., framer of the Co...</td>\n",
              "      <td>John Adams</td>\n",
              "    </tr>\n",
              "  </tbody>\n",
              "</table>\n",
              "</div>"
            ],
            "text/plain": [
              "   Show Number  ...      Answer\n",
              "0         4680  ...  Copernicus\n",
              "1         4680  ...  Jim Thorpe\n",
              "2         4680  ...     Arizona\n",
              "3         4680  ...  McDonald's\n",
              "4         4680  ...  John Adams\n",
              "\n",
              "[5 rows x 7 columns]"
            ]
          },
          "metadata": {
            "tags": []
          },
          "execution_count": 61
        }
      ]
    },
    {
      "cell_type": "markdown",
      "metadata": {
        "id": "GeciUk6XXPIj"
      },
      "source": [
        "To begin exploratory analysis of the jeorpardy dataset, use the shape() function to return the dimensionality of the dataset or the total number of columns and rows of the dataframe.\n",
        "df.shape()\n",
        "where df is the name of the dataframe\n",
        "\n",
        "# Question 12. Write the code to view the number of rows and columns in the dataframe jeopardy"
      ]
    },
    {
      "cell_type": "code",
      "metadata": {
        "id": "FA2mMcACXPIj",
        "outputId": "18aef9e2-263a-4936-9150-642bbb827b3d",
        "colab": {
          "base_uri": "https://localhost:8080/",
          "height": 35
        }
      },
      "source": [
        "jeopardy.shape"
      ],
      "execution_count": 62,
      "outputs": [
        {
          "output_type": "execute_result",
          "data": {
            "text/plain": [
              "(19999, 7)"
            ]
          },
          "metadata": {
            "tags": []
          },
          "execution_count": 62
        }
      ]
    },
    {
      "cell_type": "markdown",
      "metadata": {
        "id": "48Hc-DR7XPIq"
      },
      "source": [
        "We see that our data has 20000 rows and 8 columns\n",
        "\n",
        "When you printed the first 25 rows, did you see any missing values or Not A Number values?\n",
        "\n",
        "\n",
        "\n",
        "There is an easier ways to check for missing values or Not A Number (NANs) in your dataframe rather than looking through the entire dataset manually. In some cases the missing values are shown as NaNs or just blank cells in the dataframe.\n",
        "\n",
        "There are four ways:\n",
        "\n",
        "# 1. Check for NAN under a single dataframe column\n",
        "To do this you would use the command df['column_name'].isnull().values.any()\n",
        "where df is the name of your dataframe and column_name is the name of the column\n",
        "\n",
        "Let's check for missing value under the Answer column\n",
        "\n",
        "# Question 13. Write the code to check for missing values from the Answer column "
      ]
    },
    {
      "cell_type": "code",
      "metadata": {
        "id": "zVELWlFRXPIr",
        "outputId": "0f936979-aced-444b-b4c5-5997217ec467",
        "colab": {
          "base_uri": "https://localhost:8080/",
          "height": 35
        }
      },
      "source": [
        "jeopardy['Answer'].isnull().values.any()"
      ],
      "execution_count": 63,
      "outputs": [
        {
          "output_type": "execute_result",
          "data": {
            "text/plain": [
              "True"
            ]
          },
          "metadata": {
            "tags": []
          },
          "execution_count": 63
        }
      ]
    },
    {
      "cell_type": "markdown",
      "metadata": {
        "id": "lQ7gG_1WXPIu"
      },
      "source": [
        "# Question 14. Are there NANs in the Answer column. Put your answer below\n",
        "Answer: Yes\n",
        "\n",
        "# (2) Count the NaN under a single DataFrame column:\n",
        "\n",
        "df['your column name'].isnull().sum()\n",
        "\n",
        "df is the name of your dataframe"
      ]
    },
    {
      "cell_type": "markdown",
      "metadata": {
        "id": "UDSctEzqXPIv"
      },
      "source": [
        "# Question 15. Count the NAN under the Category column. Write your answer below and run the output"
      ]
    },
    {
      "cell_type": "code",
      "metadata": {
        "id": "1AUbWZVnXPIy",
        "outputId": "14c00af6-7672-4b1d-a05c-b4754fe0eaad",
        "colab": {
          "base_uri": "https://localhost:8080/",
          "height": 35
        }
      },
      "source": [
        "jeopardy['Category'].isnull().sum()\n",
        "# output is 0 "
      ],
      "execution_count": 64,
      "outputs": [
        {
          "output_type": "execute_result",
          "data": {
            "text/plain": [
              "0"
            ]
          },
          "metadata": {
            "tags": []
          },
          "execution_count": 64
        }
      ]
    },
    {
      "cell_type": "markdown",
      "metadata": {
        "id": "lZkkKZY7XPI5"
      },
      "source": [
        "# (3) Check for NaN under an entire DataFrame:\n",
        "df.isnull().values.any()\n",
        "\n",
        "df is the name of your dataframe\n"
      ]
    },
    {
      "cell_type": "markdown",
      "metadata": {
        "id": "usPHsrxMXPI6"
      },
      "source": [
        "# Question 16. Write the answer to check the entire jeopardy dataframe for NANs.\n"
      ]
    },
    {
      "cell_type": "code",
      "metadata": {
        "id": "lE6Z1oZvXPI7",
        "outputId": "9d36e900-093a-4bcc-88b1-cd88601a3bc4",
        "colab": {
          "base_uri": "https://localhost:8080/",
          "height": 35
        }
      },
      "source": [
        "jeopardy.isnull().values.any()"
      ],
      "execution_count": 74,
      "outputs": [
        {
          "output_type": "execute_result",
          "data": {
            "text/plain": [
              "True"
            ]
          },
          "metadata": {
            "tags": []
          },
          "execution_count": 74
        }
      ]
    },
    {
      "cell_type": "markdown",
      "metadata": {
        "id": "F4C97XZwXPJE"
      },
      "source": [
        "# (4) Count the NaN under an entire DataFrame:\n",
        "\n",
        "df.isnull().sum().sum()\n",
        "\n",
        "df is the name of the dataframe\n",
        "\n",
        "# Question 17. Write the answer to count the number of missing values from the entire DataFrame\n",
        "\n",
        "Note: You can use isna or isnull\n"
      ]
    },
    {
      "cell_type": "code",
      "metadata": {
        "id": "UbH9cDz-XPJF",
        "outputId": "e1b51fbf-19ef-498d-9d87-ced5f13c2555",
        "colab": {
          "base_uri": "https://localhost:8080/",
          "height": 35
        }
      },
      "source": [
        "jeopardy.isnull().sum().sum()"
      ],
      "execution_count": 73,
      "outputs": [
        {
          "output_type": "execute_result",
          "data": {
            "text/plain": [
              "6"
            ]
          },
          "metadata": {
            "tags": []
          },
          "execution_count": 73
        }
      ]
    },
    {
      "cell_type": "markdown",
      "metadata": {
        "id": "qUmtvsVkXPJK"
      },
      "source": [
        "There are missing values that need to be dealt with \n",
        "In some cases you can replace them all if the data for each column was the same. ie all strings or all numbers."
      ]
    },
    {
      "cell_type": "markdown",
      "metadata": {
        "id": "Rh5mllr_XPJL"
      },
      "source": [
        "# Question 18. How would you treat replacing all of the missing values in your jeopardy dataset? What about for columns that are strings? What about for columns that are values?\n",
        "\n",
        "Write your answer below. \n",
        "\n",
        "Answer: I would replace int and float types with the average for that column. For strings, I would replace with empty strings. "
      ]
    },
    {
      "cell_type": "markdown",
      "metadata": {
        "id": "qyi8473xXPJL"
      },
      "source": [
        "# Getting the Index or indices of the missing values in your dataframe\n",
        "df[df['column_name'].isnull()]\n",
        "\n",
        "Note: Characters such as empty strings ‘’ or numpy.inf are not considered NA values (unless you set pandas.options.mode.use_inf_as_na = True).\n",
        "\n",
        "# Question 19. # Write the code to get the indices of the missing values in the jeopardy dataframe for the columns Question, Answer, Round, Value, Category"
      ]
    },
    {
      "cell_type": "code",
      "metadata": {
        "id": "4rp1cH6nXPJM",
        "outputId": "45d5a5d9-d93c-4471-be72-e90075bdd4ab",
        "colab": {
          "base_uri": "https://localhost:8080/",
          "height": 537
        }
      },
      "source": [
        "print(\"Question indices:\\n\", jeopardy[jeopardy['Question'].isnull()])\n",
        "print(\"\\nAnswer indices:\\n\", jeopardy[jeopardy['Answer'].isnull()])\n",
        "print(\"\\nRound indices:\\n\", jeopardy[jeopardy['Round'].isnull()])\n",
        "print(\"\\nValue indices:\\n\", jeopardy[jeopardy['Value'].isnull()])\n",
        "print(\"\\nCategory indices:\\n\", jeopardy[jeopardy['Category'].isnull()])"
      ],
      "execution_count": 87,
      "outputs": [
        {
          "output_type": "stream",
          "text": [
            "Question indices:\n",
            "      Show Number Air Date             Round  ...    Value Question        Answer\n",
            "321         5690   5/8/09         Jeopardy!  ...  $1,000       NaN        PayPal\n",
            "388         2825  12/6/96  Double Jeopardy!  ...    $200       NaN  Adolf Hitler\n",
            "\n",
            "[2 rows x 7 columns]\n",
            "\n",
            "Answer indices:\n",
            "      Show Number  ... Answer\n",
            "112         5957  ...    NaN\n",
            "260         4931  ...    NaN\n",
            "\n",
            "[2 rows x 7 columns]\n",
            "\n",
            "Round indices:\n",
            "      Show Number  ...                           Answer\n",
            "174         3751  ...  H.J. Heinz (Heinz 57 Varieties)\n",
            "\n",
            "[1 rows x 7 columns]\n",
            "\n",
            "Value indices:\n",
            "      Show Number  ...       Answer\n",
            "588         3036  ...  the kickoff\n",
            "\n",
            "[1 rows x 7 columns]\n",
            "\n",
            "Category indices:\n",
            " Empty DataFrame\n",
            "Columns: [Show Number, Air Date, Round, Category, Value, Question, Answer]\n",
            "Index: []\n"
          ],
          "name": "stdout"
        }
      ]
    },
    {
      "cell_type": "markdown",
      "metadata": {
        "id": "4FAO0J3DXPJT"
      },
      "source": [
        "# More Dealing with Missing Data \n",
        "\n",
        "In most cases you will drop or delete those rows from the dataset that you  are analyzing\n",
        "\n",
        "However, if you yare dealing with a dataset that is small and you need all the data necessary to analyze the problem, you may want to check back with the datasource to look for those missing values.\n",
        "\n",
        "In some easier cases you can check online resources to try and fill in the missing data. This is tricky those because the data on the internet is not always correct and you are taking a chance in using the values you find in your analysis."
      ]
    },
    {
      "cell_type": "markdown",
      "metadata": {
        "id": "ZeG6U43xXPJV"
      },
      "source": [
        "# Let's remove the missing values from our dataframe and print the number of rows in the dataset after removing missing data rows\n",
        "To do this we use the drop function and the syntax:\n",
        "    df.drop(index_list, inplace=True)\n",
        "    \n",
        "   where df is the data frame and the index_list is an array of row indices to remove from the data frame"
      ]
    },
    {
      "cell_type": "code",
      "metadata": {
        "id": "vL7jPMhBXPJW",
        "outputId": "71b3d575-ea15-4d64-b35a-907ef95494a9",
        "colab": {
          "base_uri": "https://localhost:8080/",
          "height": 35
        }
      },
      "source": [
        "missing_data = [321, 388, 11, 260, 174, 588]\n",
        "jeopardy.drop(missing_data, inplace=True)\n",
        "jeopardy.shape"
      ],
      "execution_count": 89,
      "outputs": [
        {
          "output_type": "execute_result",
          "data": {
            "text/plain": [
              "(19993, 7)"
            ]
          },
          "metadata": {
            "tags": []
          },
          "execution_count": 89
        }
      ]
    },
    {
      "cell_type": "markdown",
      "metadata": {
        "id": "KwlllRYIXPJe"
      },
      "source": [
        "# Now the easy way to drop missing values from your dataframe\n",
        "You can also use the dropna command \n",
        "\n",
        "df.dropna(inplace = True) \n",
        "\n",
        "where df is the dataframe\n",
        "\n",
        "# Let's move on to visualizing aspects about the data now that values are not missing\n",
        "1. Visualize the top 10 answers"
      ]
    },
    {
      "cell_type": "code",
      "metadata": {
        "id": "87C48MCiXPJf",
        "outputId": "8c79743b-3868-4f14-d6c7-482b51a78404",
        "colab": {
          "base_uri": "https://localhost:8080/",
          "height": 751
        }
      },
      "source": [
        "# Edit the code below to create a variable called top_10 that takes the top ten answers from the Answer column\n",
        "top_10 = jeopardy['Answer'].value_counts()[:10]\n",
        "print(top_10.head())\n",
        "\n",
        "mask = jeopardy['Answer'].map(lambda x: x in top_10.index.tolist())\n",
        "sns.countplot(y='Answer', data=jeopardy[mask], palette=sns.color_palette('inferno', 15), order=top_10.index.tolist())\n",
        "plt.gcf().set_size_inches(15,10)\n",
        "plt.title('Top 10 Answer Distribution', size=25)"
      ],
      "execution_count": 90,
      "outputs": [
        {
          "output_type": "stream",
          "text": [
            "Japan        22\n",
            "China        19\n",
            "India        19\n",
            "Canada       19\n",
            "Australia    19\n",
            "Name: Answer, dtype: int64\n"
          ],
          "name": "stdout"
        },
        {
          "output_type": "execute_result",
          "data": {
            "text/plain": [
              "Text(0.5, 1.0, 'Top 10 Answer Distribution')"
            ]
          },
          "metadata": {
            "tags": []
          },
          "execution_count": 90
        },
        {
          "output_type": "display_data",
          "data": {
            "image/png": "[encoded data removed]",
            "text/plain": [
              "<Figure size 1080x720 with 1 Axes>"
            ]
          },
          "metadata": {
            "tags": [],
            "needs_background": "light"
          }
        }
      ]
    },
    {
      "cell_type": "markdown",
      "metadata": {
        "id": "KYS9SU7BXPJk"
      },
      "source": [
        "# Question 20. Describe what you think the value_counts function is doing below\n",
        "Write your answer here\n",
        "\n",
        "Answer: I think it counts the number of answers that are the same and creates a frequency tag for each unique value. \n"
      ]
    },
    {
      "cell_type": "markdown",
      "metadata": {
        "id": "k_SIGlZNXPJl"
      },
      "source": [
        "# Explanation of the code above\n",
        "The value_counts() function counts the number of answers that are the same.\n",
        "This is stored in the variable top_10\n",
        "The [:10] grabs the first ten rows in the dataframe\n",
        "\n",
        "The rest of the code uses the seaborn library to create a horizontal bar to visualize the top 10 most common answers from the Jeopardy dataset."
      ]
    },
    {
      "cell_type": "code",
      "metadata": {
        "id": "bfdn-zXKXPJm",
        "outputId": "f6b42b08-e591-4d09-f4ff-0caa20a5af54",
        "colab": {
          "base_uri": "https://localhost:8080/",
          "height": 208
        }
      },
      "source": [
        "# Repeat the same process to get the top 10 most popular questions. Don't plot it\n",
        "top_10_Q = jeopardy['Question'].value_counts()[:10]\n",
        "print(top_10_Q.head(10))"
      ],
      "execution_count": 92,
      "outputs": [
        {
          "output_type": "stream",
          "text": [
            "[audio clue]                                                                                                             5\n",
            "These \"fell great oaks\"                                                                                                  2\n",
            "Poi, a luau treat, is made from these mashed roots                                                                       2\n",
            "Common in Dixie, a razorback is a wild one of these                                                                      2\n",
            "\"His pride had cast him out from heaven, with all his host of rebel angels\"                                              2\n",
            "In Nicolai's opera \"The Merry Wives of Windsor\", this fat, funny rogue gets dumped into the river in a laundry basket    2\n",
            "Adam Levine                                                                                                              2\n",
            "1967: \"We rob banks\"                                                                                                     2\n",
            "AKA \"Mad Max 2\"                                                                                                          1\n",
            "\"I'm Easy\"                                                                                                               1\n",
            "Name: Question, dtype: int64\n"
          ],
          "name": "stdout"
        }
      ]
    },
    {
      "cell_type": "markdown",
      "metadata": {
        "id": "4YYkXpmxXPJs"
      },
      "source": [
        "# Question 21. What do you notice about your Plot. Write the answer below\n",
        "Write your answer here\n",
        "\n",
        "Answer: It looks nice and Japan is the most common answer. "
      ]
    },
    {
      "cell_type": "markdown",
      "metadata": {
        "id": "ZN2G_OPuXPJu"
      },
      "source": [
        "The method we used for Question 18 won't work for this question.  \n",
        "Remove the [:10] from the end of value_counts()\n",
        "\n",
        "# Write the code without the value_counts at the end"
      ]
    },
    {
      "cell_type": "code",
      "metadata": {
        "id": "GK103GkdXPJw",
        "outputId": "16721323-6d75-41e5-a587-6658f9a317b9",
        "colab": {
          "base_uri": "https://localhost:8080/",
          "height": 121
        }
      },
      "source": [
        "answer_frequency = jeopardy['Question'].value_counts()\n",
        "print(answer_frequency.head())\n"
      ],
      "execution_count": 94,
      "outputs": [
        {
          "output_type": "stream",
          "text": [
            "[audio clue]                                                                   5\n",
            "These \"fell great oaks\"                                                        2\n",
            "Poi, a luau treat, is made from these mashed roots                             2\n",
            "Common in Dixie, a razorback is a wild one of these                            2\n",
            "\"His pride had cast him out from heaven, with all his host of rebel angels\"    2\n",
            "Name: Question, dtype: int64\n"
          ],
          "name": "stdout"
        }
      ]
    },
    {
      "cell_type": "markdown",
      "metadata": {
        "id": "KJ_p_fx2XPJ3"
      },
      "source": [
        "# Notice that [audio clue] is included as a value for the Question column\n",
        "We can only assume that Jeopardy provides a audio clue rather than a textual question to the contestant. This is not helpful for our analysis as it occurs five times in the dataset and the audio clip is not known.\n",
        "\n",
        "This value is not useful and this row should be removed\n",
        "\n",
        "# Question 22 . Write the code to remove the row with '[audio clue]' listed as a value for the Question column"
      ]
    },
    {
      "cell_type": "code",
      "metadata": {
        "id": "uEE6J5sEXPJ4"
      },
      "source": [
        "jeopardy.drop(jeopardy[jeopardy.Question == '[audio clue]'].index, inplace=True)"
      ],
      "execution_count": 95,
      "outputs": []
    },
    {
      "cell_type": "code",
      "metadata": {
        "id": "ybZmwjzCXPKB",
        "outputId": "34caf9a6-5c42-4d23-d8f7-f98ec51d751c",
        "colab": {
          "base_uri": "https://localhost:8080/",
          "height": 35
        }
      },
      "source": [
        "jeopardy.shape"
      ],
      "execution_count": 96,
      "outputs": [
        {
          "output_type": "execute_result",
          "data": {
            "text/plain": [
              "(19988, 7)"
            ]
          },
          "metadata": {
            "tags": []
          },
          "execution_count": 96
        }
      ]
    },
    {
      "cell_type": "markdown",
      "metadata": {
        "id": "ETZTsRyOXPKI"
      },
      "source": [
        "# Text Preprocessing\n",
        "Some of the values have URLs and HTML tags embedded within them\n",
        "We will need to clean that up before we can analyze the data\n",
        "\n",
        "We can use pandas regular expressions functions\n",
        "\n",
        "Instead of munging the original data, it is better to copy the data into new column\n",
        "This new column is called jeopardy['without_tags']\n",
        "\n",
        "You should never overwrite the a column in your original dataset, rather add on to it because you'll never know if and when you'll need the original data to perform another operation.\n",
        "\n",
        "# Question 23. Write the code to import the regular expression libary"
      ]
    },
    {
      "cell_type": "code",
      "metadata": {
        "id": "5dNlJrAEXPKK"
      },
      "source": [
        "import re"
      ],
      "execution_count": 99,
      "outputs": []
    },
    {
      "cell_type": "code",
      "metadata": {
        "id": "0qSlymyoXPKQ",
        "outputId": "cef0c861-955c-4a8c-e632-0a0e7594a6d3",
        "colab": {
          "base_uri": "https://localhost:8080/",
          "height": 260
        }
      },
      "source": [
        "# We will write a function called remove_tags to remove the html tags from any string you pass it\n",
        "def remove_tags(string):\n",
        "    result = re.sub('<.*?>','',string)\n",
        "    return result\n",
        "    \n",
        "jeopardy['without_tags'] = jeopardy['Question'].apply(lambda cw :remove_tags(cw))\n",
        "print(\"\\nSentences without tags:\")\n",
        "print(jeopardy['without_tags'])"
      ],
      "execution_count": 100,
      "outputs": [
        {
          "output_type": "stream",
          "text": [
            "\n",
            "Sentences without tags:\n",
            "0        For the last 8 years of his life, Galileo was ...\n",
            "1        No. 2: 1912 Olympian; football star at Carlisl...\n",
            "2        The city of Yuma in this state has a record av...\n",
            "3        In 1963, live on \"The Art Linkletter Show\", th...\n",
            "4        Signer of the Dec. of Indep., framer of the Co...\n",
            "                               ...                        \n",
            "19994    Of 8, 12 or 18, the number of U.S. states that...\n",
            "19995                        ...& the New Power Generation\n",
            "19996    In 1589 he was appointed professor of mathemat...\n",
            "19997    Before the grand jury she said, \"I'm really so...\n",
            "19998    Llamas are the heftiest South American members...\n",
            "Name: without_tags, Length: 19988, dtype: object\n"
          ],
          "name": "stdout"
        }
      ]
    },
    {
      "cell_type": "markdown",
      "metadata": {
        "id": "ga-DAjUaXPKX"
      },
      "source": [
        "# Let's double-check our work to see if that worked\n",
        "Write the code to print out the old Question column data for row 30 that still  had html tags in it. \n",
        "\n",
        "Name this variable old_html_data"
      ]
    },
    {
      "cell_type": "code",
      "metadata": {
        "id": "3Xvmo96ZXPKY",
        "outputId": "d6e7a9be-afac-491b-9dea-ac69a866bd65",
        "colab": {
          "base_uri": "https://localhost:8080/",
          "height": 35
        }
      },
      "source": [
        "old_html_data = jeopardy['Question'][29]\n",
        "print(old_html_data)"
      ],
      "execution_count": 101,
      "outputs": [
        {
          "output_type": "stream",
          "text": [
            "<a href=\"http://www.j-archive.com/media/2004-12-31_DJ_23.mp3\">Beyond ovoid abandonment, beyond ovoid betrayal... you won't believe the ending when he \"Hatches the Egg\"</a>\n"
          ],
          "name": "stdout"
        }
      ]
    },
    {
      "cell_type": "markdown",
      "metadata": {
        "id": "cWTbOUIgXPKg"
      },
      "source": [
        "# Question 24. Write the code to print out the question column for row 30 without html in it. \n",
        "Name it new_data"
      ]
    },
    {
      "cell_type": "code",
      "metadata": {
        "id": "KfRvasofXPKi",
        "outputId": "0b68b385-cd7c-4359-e776-7d347e7e342d",
        "colab": {
          "base_uri": "https://localhost:8080/",
          "height": 35
        }
      },
      "source": [
        "new_data = remove_tags(old_html_data)\n",
        "print(new_data)"
      ],
      "execution_count": 102,
      "outputs": [
        {
          "output_type": "stream",
          "text": [
            "Beyond ovoid abandonment, beyond ovoid betrayal... you won't believe the ending when he \"Hatches the Egg\"\n"
          ],
          "name": "stdout"
        }
      ]
    },
    {
      "cell_type": "markdown",
      "metadata": {
        "id": "CojO3rPYXPKp"
      },
      "source": [
        "# Making everything upper or lowercase\n",
        "Sometimes you will need to compare strings. To easily compare strings you should convert them to either upper or lowercase"
      ]
    },
    {
      "cell_type": "code",
      "metadata": {
        "id": "lYu24y0CXPKr",
        "outputId": "c12e9930-035c-43ef-f0f5-193d763aafb5",
        "colab": {
          "base_uri": "https://localhost:8080/",
          "height": 35
        }
      },
      "source": [
        "old_html_data.lower()"
      ],
      "execution_count": 103,
      "outputs": [
        {
          "output_type": "execute_result",
          "data": {
            "application/vnd.google.colaboratory.intrinsic+json": {
              "type": "string"
            },
            "text/plain": [
              "'<a href=\"http://www.j-archive.com/media/2004-12-31_dj_23.mp3\">beyond ovoid abandonment, beyond ovoid betrayal... you won\\'t believe the ending when he \"hatches the egg\"</a>'"
            ]
          },
          "metadata": {
            "tags": []
          },
          "execution_count": 103
        }
      ]
    },
    {
      "cell_type": "code",
      "metadata": {
        "id": "kfSYw9npXPKx",
        "outputId": "72e7b974-71d1-4b25-cb42-4a61ca77d567",
        "colab": {
          "base_uri": "https://localhost:8080/",
          "height": 35
        }
      },
      "source": [
        "old_html_data.upper()"
      ],
      "execution_count": 104,
      "outputs": [
        {
          "output_type": "execute_result",
          "data": {
            "application/vnd.google.colaboratory.intrinsic+json": {
              "type": "string"
            },
            "text/plain": [
              "'<A HREF=\"HTTP://WWW.J-ARCHIVE.COM/MEDIA/2004-12-31_DJ_23.MP3\">BEYOND OVOID ABANDONMENT, BEYOND OVOID BETRAYAL... YOU WON\\'T BELIEVE THE ENDING WHEN HE \"HATCHES THE EGG\"</A>'"
            ]
          },
          "metadata": {
            "tags": []
          },
          "execution_count": 104
        }
      ]
    },
    {
      "cell_type": "markdown",
      "metadata": {
        "id": "_2rgO59sXPK7"
      },
      "source": [
        "# Question 25. Write the code to change the 'Answer' column to all lower case. \n",
        "Your new column should be called jeopardary['lower_answer']\n",
        "Print row number 25 before and after turning to lower case"
      ]
    },
    {
      "cell_type": "code",
      "metadata": {
        "id": "yjmmLZv3XPK8",
        "outputId": "ec7dff60-1f4a-46f3-b21d-7e83ee7b7317",
        "colab": {
          "base_uri": "https://localhost:8080/",
          "height": 450
        }
      },
      "source": [
        "jeopardy['lower_answer'] = jeopardy['Answer'].apply(lambda cw :str(cw).lower())\n",
        "before_lower = jeopardy['Answer'][24]\n",
        "print(before_lower)\n",
        "after_lower = jeopardy['lower_answer'][24]\n",
        "print(after_lower)\n",
        "jeopardy"
      ],
      "execution_count": 108,
      "outputs": [
        {
          "output_type": "stream",
          "text": [
            "the Congress Party\n",
            "the congress party\n"
          ],
          "name": "stdout"
        },
        {
          "output_type": "execute_result",
          "data": {
            "text/html": [
              "<div>\n",
              "<style scoped>\n",
              "    .dataframe tbody tr th:only-of-type {\n",
              "        vertical-align: middle;\n",
              "    }\n",
              "\n",
              "    .dataframe tbody tr th {\n",
              "        vertical-align: top;\n",
              "    }\n",
              "\n",
              "    .dataframe thead th {\n",
              "        text-align: right;\n",
              "    }\n",
              "</style>\n",
              "<table border=\"1\" class=\"dataframe\">\n",
              "  <thead>\n",
              "    <tr style=\"text-align: right;\">\n",
              "      <th></th>\n",
              "      <th>Show Number</th>\n",
              "      <th>Air Date</th>\n",
              "      <th>Round</th>\n",
              "      <th>Category</th>\n",
              "      <th>Value</th>\n",
              "      <th>Question</th>\n",
              "      <th>Answer</th>\n",
              "      <th>without_tags</th>\n",
              "      <th>lower_answer</th>\n",
              "    </tr>\n",
              "  </thead>\n",
              "  <tbody>\n",
              "    <tr>\n",
              "      <th>0</th>\n",
              "      <td>4680</td>\n",
              "      <td>12/31/04</td>\n",
              "      <td>Jeopardy!</td>\n",
              "      <td>HISTORY</td>\n",
              "      <td>$200</td>\n",
              "      <td>For the last 8 years of his life, Galileo was ...</td>\n",
              "      <td>Copernicus</td>\n",
              "      <td>For the last 8 years of his life, Galileo was ...</td>\n",
              "      <td>copernicus</td>\n",
              "    </tr>\n",
              "    <tr>\n",
              "      <th>1</th>\n",
              "      <td>4680</td>\n",
              "      <td>12/31/04</td>\n",
              "      <td>Jeopardy!</td>\n",
              "      <td>ESPN's TOP 10 ALL-TIME ATHLETES</td>\n",
              "      <td>$200</td>\n",
              "      <td>No. 2: 1912 Olympian; football star at Carlisl...</td>\n",
              "      <td>Jim Thorpe</td>\n",
              "      <td>No. 2: 1912 Olympian; football star at Carlisl...</td>\n",
              "      <td>jim thorpe</td>\n",
              "    </tr>\n",
              "    <tr>\n",
              "      <th>2</th>\n",
              "      <td>4680</td>\n",
              "      <td>12/31/04</td>\n",
              "      <td>Jeopardy!</td>\n",
              "      <td>EVERYBODY TALKS ABOUT IT...</td>\n",
              "      <td>$200</td>\n",
              "      <td>The city of Yuma in this state has a record av...</td>\n",
              "      <td>Arizona</td>\n",
              "      <td>The city of Yuma in this state has a record av...</td>\n",
              "      <td>arizona</td>\n",
              "    </tr>\n",
              "    <tr>\n",
              "      <th>3</th>\n",
              "      <td>4680</td>\n",
              "      <td>12/31/04</td>\n",
              "      <td>Jeopardy!</td>\n",
              "      <td>THE COMPANY LINE</td>\n",
              "      <td>$200</td>\n",
              "      <td>In 1963, live on \"The Art Linkletter Show\", th...</td>\n",
              "      <td>McDonald's</td>\n",
              "      <td>In 1963, live on \"The Art Linkletter Show\", th...</td>\n",
              "      <td>mcdonald's</td>\n",
              "    </tr>\n",
              "    <tr>\n",
              "      <th>4</th>\n",
              "      <td>4680</td>\n",
              "      <td>12/31/04</td>\n",
              "      <td>Jeopardy!</td>\n",
              "      <td>EPITAPHS &amp; TRIBUTES</td>\n",
              "      <td>$200</td>\n",
              "      <td>Signer of the Dec. of Indep., framer of the Co...</td>\n",
              "      <td>John Adams</td>\n",
              "      <td>Signer of the Dec. of Indep., framer of the Co...</td>\n",
              "      <td>john adams</td>\n",
              "    </tr>\n",
              "    <tr>\n",
              "      <th>...</th>\n",
              "      <td>...</td>\n",
              "      <td>...</td>\n",
              "      <td>...</td>\n",
              "      <td>...</td>\n",
              "      <td>...</td>\n",
              "      <td>...</td>\n",
              "      <td>...</td>\n",
              "      <td>...</td>\n",
              "      <td>...</td>\n",
              "    </tr>\n",
              "    <tr>\n",
              "      <th>19994</th>\n",
              "      <td>3582</td>\n",
              "      <td>3/14/00</td>\n",
              "      <td>Jeopardy!</td>\n",
              "      <td>U.S. GEOGRAPHY</td>\n",
              "      <td>$200</td>\n",
              "      <td>Of 8, 12 or 18, the number of U.S. states that...</td>\n",
              "      <td>18</td>\n",
              "      <td>Of 8, 12 or 18, the number of U.S. states that...</td>\n",
              "      <td>18</td>\n",
              "    </tr>\n",
              "    <tr>\n",
              "      <th>19995</th>\n",
              "      <td>3582</td>\n",
              "      <td>3/14/00</td>\n",
              "      <td>Jeopardy!</td>\n",
              "      <td>POP MUSIC PAIRINGS</td>\n",
              "      <td>$200</td>\n",
              "      <td>...&amp; the New Power Generation</td>\n",
              "      <td>Prince</td>\n",
              "      <td>...&amp; the New Power Generation</td>\n",
              "      <td>prince</td>\n",
              "    </tr>\n",
              "    <tr>\n",
              "      <th>19996</th>\n",
              "      <td>3582</td>\n",
              "      <td>3/14/00</td>\n",
              "      <td>Jeopardy!</td>\n",
              "      <td>HISTORIC PEOPLE</td>\n",
              "      <td>$200</td>\n",
              "      <td>In 1589 he was appointed professor of mathemat...</td>\n",
              "      <td>Galileo</td>\n",
              "      <td>In 1589 he was appointed professor of mathemat...</td>\n",
              "      <td>galileo</td>\n",
              "    </tr>\n",
              "    <tr>\n",
              "      <th>19997</th>\n",
              "      <td>3582</td>\n",
              "      <td>3/14/00</td>\n",
              "      <td>Jeopardy!</td>\n",
              "      <td>1998 QUOTATIONS</td>\n",
              "      <td>$200</td>\n",
              "      <td>Before the grand jury she said, \"I'm really so...</td>\n",
              "      <td>Monica Lewinsky</td>\n",
              "      <td>Before the grand jury she said, \"I'm really so...</td>\n",
              "      <td>monica lewinsky</td>\n",
              "    </tr>\n",
              "    <tr>\n",
              "      <th>19998</th>\n",
              "      <td>3582</td>\n",
              "      <td>3/14/00</td>\n",
              "      <td>Jeopardy!</td>\n",
              "      <td>LLAMA-RAMA</td>\n",
              "      <td>$200</td>\n",
              "      <td>Llamas are the heftiest South American members...</td>\n",
              "      <td>Camels</td>\n",
              "      <td>Llamas are the heftiest South American members...</td>\n",
              "      <td>camels</td>\n",
              "    </tr>\n",
              "  </tbody>\n",
              "</table>\n",
              "<p>19988 rows × 9 columns</p>\n",
              "</div>"
            ],
            "text/plain": [
              "       Show Number  ...     lower_answer\n",
              "0             4680  ...       copernicus\n",
              "1             4680  ...       jim thorpe\n",
              "2             4680  ...          arizona\n",
              "3             4680  ...       mcdonald's\n",
              "4             4680  ...       john adams\n",
              "...            ...  ...              ...\n",
              "19994         3582  ...               18\n",
              "19995         3582  ...           prince\n",
              "19996         3582  ...          galileo\n",
              "19997         3582  ...  monica lewinsky\n",
              "19998         3582  ...           camels\n",
              "\n",
              "[19988 rows x 9 columns]"
            ]
          },
          "metadata": {
            "tags": []
          },
          "execution_count": 108
        }
      ]
    }
  ]
}