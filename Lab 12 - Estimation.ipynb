{
  "nbformat": 4,
  "nbformat_minor": 0,
  "metadata": {
    "kernelspec": {
      "display_name": "Python 3",
      "language": "python",
      "name": "python3"
    },
    "language_info": {
      "codemirror_mode": {
        "name": "ipython",
        "version": 3
      },
      "file_extension": ".py",
      "mimetype": "text/x-python",
      "name": "python",
      "nbconvert_exporter": "python",
      "pygments_lexer": "ipython3",
      "version": "3.7.6"
    },
    "colab": {
      "name": "Lab 12 - October 30.ipynb",
      "provenance": [],
      "collapsed_sections": []
    },
    "widgets": {
      "application/vnd.jupyter.widget-state+json": {
        "16589e14460644119ce4274cf07857cd": {
          "model_module": "@jupyter-widgets/controls",
          "model_name": "VBoxModel",
          "state": {
            "_view_name": "VBoxView",
            "_dom_classes": [
              "widget-interact"
            ],
            "_model_name": "VBoxModel",
            "_view_module": "@jupyter-widgets/controls",
            "_model_module_version": "1.5.0",
            "_view_count": null,
            "_view_module_version": "1.5.0",
            "box_style": "",
            "layout": "IPY_MODEL_2c1c2aed5e36440b9c7349be75740ec6",
            "_model_module": "@jupyter-widgets/controls",
            "children": [
              "IPY_MODEL_769ff2f8c6144115a899939bbdbda23f",
              "IPY_MODEL_d22cc8a7cfd14d54bd12b9184a5c1659",
              "IPY_MODEL_7edd0a73b71246818c5716080084de87"
            ]
          }
        },
        "2c1c2aed5e36440b9c7349be75740ec6": {
          "model_module": "@jupyter-widgets/base",
          "model_name": "LayoutModel",
          "state": {
            "_view_name": "LayoutView",
            "grid_template_rows": null,
            "right": null,
            "justify_content": null,
            "_view_module": "@jupyter-widgets/base",
            "overflow": null,
            "_model_module_version": "1.2.0",
            "_view_count": null,
            "flex_flow": null,
            "width": null,
            "min_width": null,
            "border": null,
            "align_items": null,
            "bottom": null,
            "_model_module": "@jupyter-widgets/base",
            "top": null,
            "grid_column": null,
            "overflow_y": null,
            "overflow_x": null,
            "grid_auto_flow": null,
            "grid_area": null,
            "grid_template_columns": null,
            "flex": null,
            "_model_name": "LayoutModel",
            "justify_items": null,
            "grid_row": null,
            "max_height": null,
            "align_content": null,
            "visibility": null,
            "align_self": null,
            "height": null,
            "min_height": null,
            "padding": null,
            "grid_auto_rows": null,
            "grid_gap": null,
            "max_width": null,
            "order": null,
            "_view_module_version": "1.2.0",
            "grid_template_areas": null,
            "object_position": null,
            "object_fit": null,
            "grid_auto_columns": null,
            "margin": null,
            "display": null,
            "left": null
          }
        },
        "769ff2f8c6144115a899939bbdbda23f": {
          "model_module": "@jupyter-widgets/controls",
          "model_name": "DropdownModel",
          "state": {
            "_options_labels": [
              "Alabama",
              "Alaska",
              "Arizona",
              "Arkansas",
              "California",
              "Colorado",
              "Connecticut",
              "Delaware",
              "Florida",
              "Georgia",
              "Hawaii",
              "Idaho",
              "Illinois",
              "Indiana",
              "Iowa",
              "Kansas",
              "Kentucky",
              "Louisiana",
              "Maine",
              "Maryland",
              "Massachuse",
              "Michigan",
              "Minnesota",
              "Mississippi",
              "Missouri",
              "Montana",
              "Nebraska",
              "Nevada",
              "New Hampshire",
              "New Jersey",
              "New Mexico",
              "New York",
              "North Carolina",
              "North Dakota",
              "Ohio",
              "Oklahoma",
              "Oregon",
              "Pennsylvania",
              "Rhode Isla",
              "South Carolina",
              "South Dakota",
              "Tennessee",
              "Texas",
              "Utah",
              "Vermont",
              "Virginia",
              "Washington",
              "West Virginia",
              "Wisconsin",
              "Wyoming"
            ],
            "_view_name": "DropdownView",
            "style": "IPY_MODEL_0ffd335780d0496b8d08ca135de05e4b",
            "_dom_classes": [],
            "description": "state1",
            "_model_name": "DropdownModel",
            "index": 12,
            "_view_module": "@jupyter-widgets/controls",
            "_model_module_version": "1.5.0",
            "_view_count": null,
            "disabled": false,
            "_view_module_version": "1.5.0",
            "description_tooltip": null,
            "_model_module": "@jupyter-widgets/controls",
            "layout": "IPY_MODEL_d04ad632052346c498cb7bf75be395d1"
          }
        },
        "d22cc8a7cfd14d54bd12b9184a5c1659": {
          "model_module": "@jupyter-widgets/controls",
          "model_name": "DropdownModel",
          "state": {
            "_options_labels": [
              "Alabama",
              "Alaska",
              "Arizona",
              "Arkansas",
              "California",
              "Colorado",
              "Connecticut",
              "Delaware",
              "Florida",
              "Georgia",
              "Hawaii",
              "Idaho",
              "Illinois",
              "Indiana",
              "Iowa",
              "Kansas",
              "Kentucky",
              "Louisiana",
              "Maine",
              "Maryland",
              "Massachuse",
              "Michigan",
              "Minnesota",
              "Mississippi",
              "Missouri",
              "Montana",
              "Nebraska",
              "Nevada",
              "New Hampshire",
              "New Jersey",
              "New Mexico",
              "New York",
              "North Carolina",
              "North Dakota",
              "Ohio",
              "Oklahoma",
              "Oregon",
              "Pennsylvania",
              "Rhode Isla",
              "South Carolina",
              "South Dakota",
              "Tennessee",
              "Texas",
              "Utah",
              "Vermont",
              "Virginia",
              "Washington",
              "West Virginia",
              "Wisconsin",
              "Wyoming"
            ],
            "_view_name": "DropdownView",
            "style": "IPY_MODEL_785cef480bac4b00813fd5a60383923a",
            "_dom_classes": [],
            "description": "state2",
            "_model_name": "DropdownModel",
            "index": 37,
            "_view_module": "@jupyter-widgets/controls",
            "_model_module_version": "1.5.0",
            "_view_count": null,
            "disabled": false,
            "_view_module_version": "1.5.0",
            "description_tooltip": null,
            "_model_module": "@jupyter-widgets/controls",
            "layout": "IPY_MODEL_e617c2a0132a4fd787c70732c1100e99"
          }
        },
        "7edd0a73b71246818c5716080084de87": {
          "model_module": "@jupyter-widgets/output",
          "model_name": "OutputModel",
          "state": {
            "_view_name": "OutputView",
            "msg_id": "",
            "_dom_classes": [],
            "_model_name": "OutputModel",
            "outputs": [
              {
                "output_type": "display_data",
                "metadata": {
                  "tags": [],
                  "needs_background": "light"
                },
                "image/png": "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\n",
                "text/plain": "<Figure size 432x288 with 1 Axes>"
              }
            ],
            "_view_module": "@jupyter-widgets/output",
            "_model_module_version": "1.0.0",
            "_view_count": null,
            "_view_module_version": "1.0.0",
            "layout": "IPY_MODEL_2aca655df9f848be86ee1502fe101846",
            "_model_module": "@jupyter-widgets/output"
          }
        },
        "0ffd335780d0496b8d08ca135de05e4b": {
          "model_module": "@jupyter-widgets/controls",
          "model_name": "DescriptionStyleModel",
          "state": {
            "_view_name": "StyleView",
            "_model_name": "DescriptionStyleModel",
            "description_width": "",
            "_view_module": "@jupyter-widgets/base",
            "_model_module_version": "1.5.0",
            "_view_count": null,
            "_view_module_version": "1.2.0",
            "_model_module": "@jupyter-widgets/controls"
          }
        },
        "d04ad632052346c498cb7bf75be395d1": {
          "model_module": "@jupyter-widgets/base",
          "model_name": "LayoutModel",
          "state": {
            "_view_name": "LayoutView",
            "grid_template_rows": null,
            "right": null,
            "justify_content": null,
            "_view_module": "@jupyter-widgets/base",
            "overflow": null,
            "_model_module_version": "1.2.0",
            "_view_count": null,
            "flex_flow": null,
            "width": null,
            "min_width": null,
            "border": null,
            "align_items": null,
            "bottom": null,
            "_model_module": "@jupyter-widgets/base",
            "top": null,
            "grid_column": null,
            "overflow_y": null,
            "overflow_x": null,
            "grid_auto_flow": null,
            "grid_area": null,
            "grid_template_columns": null,
            "flex": null,
            "_model_name": "LayoutModel",
            "justify_items": null,
            "grid_row": null,
            "max_height": null,
            "align_content": null,
            "visibility": null,
            "align_self": null,
            "height": null,
            "min_height": null,
            "padding": null,
            "grid_auto_rows": null,
            "grid_gap": null,
            "max_width": null,
            "order": null,
            "_view_module_version": "1.2.0",
            "grid_template_areas": null,
            "object_position": null,
            "object_fit": null,
            "grid_auto_columns": null,
            "margin": null,
            "display": null,
            "left": null
          }
        },
        "785cef480bac4b00813fd5a60383923a": {
          "model_module": "@jupyter-widgets/controls",
          "model_name": "DescriptionStyleModel",
          "state": {
            "_view_name": "StyleView",
            "_model_name": "DescriptionStyleModel",
            "description_width": "",
            "_view_module": "@jupyter-widgets/base",
            "_model_module_version": "1.5.0",
            "_view_count": null,
            "_view_module_version": "1.2.0",
            "_model_module": "@jupyter-widgets/controls"
          }
        },
        "e617c2a0132a4fd787c70732c1100e99": {
          "model_module": "@jupyter-widgets/base",
          "model_name": "LayoutModel",
          "state": {
            "_view_name": "LayoutView",
            "grid_template_rows": null,
            "right": null,
            "justify_content": null,
            "_view_module": "@jupyter-widgets/base",
            "overflow": null,
            "_model_module_version": "1.2.0",
            "_view_count": null,
            "flex_flow": null,
            "width": null,
            "min_width": null,
            "border": null,
            "align_items": null,
            "bottom": null,
            "_model_module": "@jupyter-widgets/base",
            "top": null,
            "grid_column": null,
            "overflow_y": null,
            "overflow_x": null,
            "grid_auto_flow": null,
            "grid_area": null,
            "grid_template_columns": null,
            "flex": null,
            "_model_name": "LayoutModel",
            "justify_items": null,
            "grid_row": null,
            "max_height": null,
            "align_content": null,
            "visibility": null,
            "align_self": null,
            "height": null,
            "min_height": null,
            "padding": null,
            "grid_auto_rows": null,
            "grid_gap": null,
            "max_width": null,
            "order": null,
            "_view_module_version": "1.2.0",
            "grid_template_areas": null,
            "object_position": null,
            "object_fit": null,
            "grid_auto_columns": null,
            "margin": null,
            "display": null,
            "left": null
          }
        },
        "2aca655df9f848be86ee1502fe101846": {
          "model_module": "@jupyter-widgets/base",
          "model_name": "LayoutModel",
          "state": {
            "_view_name": "LayoutView",
            "grid_template_rows": null,
            "right": null,
            "justify_content": null,
            "_view_module": "@jupyter-widgets/base",
            "overflow": null,
            "_model_module_version": "1.2.0",
            "_view_count": null,
            "flex_flow": null,
            "width": null,
            "min_width": null,
            "border": null,
            "align_items": null,
            "bottom": null,
            "_model_module": "@jupyter-widgets/base",
            "top": null,
            "grid_column": null,
            "overflow_y": null,
            "overflow_x": null,
            "grid_auto_flow": null,
            "grid_area": null,
            "grid_template_columns": null,
            "flex": null,
            "_model_name": "LayoutModel",
            "justify_items": null,
            "grid_row": null,
            "max_height": null,
            "align_content": null,
            "visibility": null,
            "align_self": null,
            "height": null,
            "min_height": null,
            "padding": null,
            "grid_auto_rows": null,
            "grid_gap": null,
            "max_width": null,
            "order": null,
            "_view_module_version": "1.2.0",
            "grid_template_areas": null,
            "object_position": null,
            "object_fit": null,
            "grid_auto_columns": null,
            "margin": null,
            "display": null,
            "left": null
          }
        }
      }
    }
  },
  "cells": [
    {
      "cell_type": "markdown",
      "metadata": {
        "id": "PBVz4roFlQ7E"
      },
      "source": [
        "# Lab 12: A/B Testing and Estimation\n",
        "\n",
        "Welcome to Lab 12 ! In this lab, we'll be taking a look at topics covered in chapters 11, 12, and 13.\n",
        "\n",
        "Outline:\n",
        "\n",
        "     1: A/B Testing\n",
        "    \n",
        "     2: Murder Rates\n",
        "     \n",
        "     3: The Death Penalty\n",
        "     \n",
        "     4: Thai Restaurants\n",
        "     \n",
        "     5: Interpreting Confidence Intervals\n",
        "     \n",
        "Run the cells below to get started.     "
      ]
    },
    {
      "cell_type": "code",
      "metadata": {
        "id": "JAWw0crolQ7G",
        "outputId": "263833a6-09b5-4f19-a3f0-107665a633d0",
        "colab": {
          "base_uri": "https://localhost:8080/"
        }
      },
      "source": [
        "from datascience import *\n",
        "import pandas as pd\n",
        "import numpy as np \n",
        "import matplotlib\n",
        "%matplotlib inline\n",
        "import matplotlib.pyplot as plt\n",
        "plt.style.use('fivethirtyeight')"
      ],
      "execution_count": 1,
      "outputs": [
        {
          "output_type": "stream",
          "text": [
            "/usr/local/lib/python3.6/dist-packages/datascience/tables.py:17: MatplotlibDeprecationWarning: The 'warn' parameter of use() is deprecated since Matplotlib 3.1 and will be removed in 3.3.  If any parameter follows 'warn', they should be pass as keyword, not positionally.\n",
            "  matplotlib.use('agg', warn=False)\n",
            "/usr/local/lib/python3.6/dist-packages/datascience/util.py:10: MatplotlibDeprecationWarning: The 'warn' parameter of use() is deprecated since Matplotlib 3.1 and will be removed in 3.3.  If any parameter follows 'warn', they should be pass as keyword, not positionally.\n",
            "  matplotlib.use('agg', warn=False)\n"
          ],
          "name": "stderr"
        }
      ]
    },
    {
      "cell_type": "code",
      "metadata": {
        "id": "7D1AePkOjvUl",
        "outputId": "c90a6387-f0f3-459d-94ca-c11ab88c744d",
        "colab": {
          "resources": {
            "http://localhost:8080/nbextensions/google.colab/files.js": {
              "data": "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",
              "ok": true,
              "headers": [
                [
                  "content-type",
                  "application/javascript"
                ]
              ],
              "status": 200,
              "status_text": ""
            }
          },
          "base_uri": "https://localhost:8080/",
          "height": 108
        }
      },
      "source": [
        "from google.colab import files\n",
        "uploaded = files.upload()"
      ],
      "execution_count": 4,
      "outputs": [
        {
          "output_type": "display_data",
          "data": {
            "text/html": [
              "\n",
              "     <input type=\"file\" id=\"files-5786a50b-704e-47b7-a3d3-b455e9ce4c9b\" name=\"files[]\" multiple disabled\n",
              "        style=\"border:none\" />\n",
              "     <output id=\"result-5786a50b-704e-47b7-a3d3-b455e9ce4c9b\">\n",
              "      Upload widget is only available when the cell has been executed in the\n",
              "      current browser session. Please rerun this cell to enable.\n",
              "      </output>\n",
              "      <script src=\"/nbextensions/google.colab/files.js\"></script> "
            ],
            "text/plain": [
              "<IPython.core.display.HTML object>"
            ]
          },
          "metadata": {
            "tags": []
          }
        },
        {
          "output_type": "stream",
          "text": [
            "Saving crime_rates.csv to crime_rates.csv\n",
            "Saving votes.csv to votes.csv\n"
          ],
          "name": "stdout"
        }
      ]
    },
    {
      "cell_type": "markdown",
      "metadata": {
        "id": "_uZ-G0kTlQ7K"
      },
      "source": [
        "## 1. A/B Testing\n",
        "\n",
        "A/B testing is a form of hypothesis testing that allows you to make comparisons between two distributions.\n",
        "\n",
        "You'll almost never be explicitly asked to perform an A/B test. Make sure you can identify situations where the test is appropriate and know how to correctly implement each step."
      ]
    },
    {
      "cell_type": "markdown",
      "metadata": {
        "id": "qvi7-XWalQ7L"
      },
      "source": [
        "**Question 1:** The following statements are the unordered steps of an A/B hypothesis test:\n",
        "\n",
        "Choose a test statistic (typically the difference in means between two categories)\n",
        "\n",
        "Shuffle the labels of the original sample, find your simulated test statistic, and repeat many times\n",
        "\n",
        "   1. Find the value of the observed test statistic\n",
        "\n",
        "   2. Calculate the p-value based off your observed and simulated test statistics\n",
        "\n",
        "   3. Define a null and alternate model\n",
        "\n",
        "   4. Use the p-value and p-value cutoff to draw a conclusion about the null hypothesis\n",
        "\n",
        "Make an array called ab_test_order that contains the correct order of an A/B test, where the first item of the array is the first step of an A/B test and the last item of the array is the last step of an A/B test"
      ]
    },
    {
      "cell_type": "code",
      "metadata": {
        "id": "yHr3Sw94lQ7M",
        "outputId": "4acd7989-361f-4ed4-bb15-a52b762bf471",
        "colab": {
          "base_uri": "https://localhost:8080/"
        }
      },
      "source": [
        "ab_test_order = [3, 1, 2, 4]\n",
        "ab_test_order"
      ],
      "execution_count": 3,
      "outputs": [
        {
          "output_type": "execute_result",
          "data": {
            "text/plain": [
              "[3, 1, 2, 4]"
            ]
          },
          "metadata": {
            "tags": []
          },
          "execution_count": 3
        }
      ]
    },
    {
      "cell_type": "markdown",
      "metadata": {
        "id": "EzaUNSVPlQ7P"
      },
      "source": [
        "**Question 2:** If the null hypothesis of an A/B test is correct, should the order of labels affect the differences in means between each group? Why do we shuffle labels in an A/B test?"
      ]
    },
    {
      "cell_type": "markdown",
      "metadata": {
        "id": "q1p5sdzKlQ7P"
      },
      "source": [
        "No. We shuffle labels to effectively test the null hypothesis."
      ]
    },
    {
      "cell_type": "markdown",
      "metadata": {
        "id": "fqSCjXT1lQ7Q"
      },
      "source": [
        "## 2: Murder Rates\n",
        "\n",
        "Punishment for crime has many [philosophical justifications](http://plato.stanford.edu/entries/punishment/#ThePun).  An important one is that fear of punishment may *deter* people from committing crimes.\n",
        "\n",
        "In the United States, some jurisdictions execute people who are convicted of particularly serious crimes, such as murder.  This punishment is called the *death penalty* or *capital punishment*.  The death penalty is controversial, and deterrence has been one focal point of the debate.  There are other reasons to support or oppose the death penalty, but in this project we'll focus on deterrence.\n",
        "\n",
        "The key question about deterrence is:\n",
        "\n",
        "> Through our exploration, does instituting a death penalty for murder actually reduce the number of murders?\n",
        "\n",
        "You might have a strong intuition in one direction, but the evidence turns out to be surprisingly complex.  Different sides have variously argued that the death penalty has no deterrent effect and that each execution prevents 8 murders, all using statistical arguments!  We'll try to come to our own conclusion.\n",
        "\n",
        "#### The data\n",
        "\n",
        "The main data source for this lab comes from a [paper](http://cjlf.org/deathpenalty/DezRubShepDeterFinal.pdf) by three researchers, Dezhbakhsh, Rubin, and Shepherd.  The dataset contains rates of various violent crimes for every year 1960-2003 (44 years) in every US state.  The researchers compiled the data from the FBI's Uniform Crime Reports.\n",
        "\n",
        "Since crimes are committed by people, not states, we need to account for the number of people in each state when we're looking at state-level data.  Murder rates are calculated as follows:\n",
        "\n",
        "$$\\text{murder rate for state X in year Y} = \\frac{\\text{number of murders in state X in year Y}}{\\text{population in state X in year Y}}*100000$$\n",
        "\n",
        "(Murder is rare, so we multiply by 100,000 just to avoid dealing with tiny numbers.)"
      ]
    },
    {
      "cell_type": "code",
      "metadata": {
        "id": "H-IYRkC-lQ7Q",
        "outputId": "5c62a84a-e1f4-43e9-a811-5d9ccd9d43e6",
        "colab": {
          "base_uri": "https://localhost:8080/",
          "height": 385
        }
      },
      "source": [
        "murder_rates = Table.read_table('crime_rates.csv')\n",
        "murder_rates = murder_rates.select('State', 'Year', 'Population', 'Murder Rate')\n",
        "murder_rates"
      ],
      "execution_count": 11,
      "outputs": [
        {
          "output_type": "execute_result",
          "data": {
            "text/html": [
              "<table border=\"1\" class=\"dataframe\">\n",
              "    <thead>\n",
              "        <tr>\n",
              "            <th>State</th> <th>Year</th> <th>Population</th> <th>Murder Rate</th>\n",
              "        </tr>\n",
              "    </thead>\n",
              "    <tbody>\n",
              "        <tr>\n",
              "            <td>Alaska</td> <td>1960</td> <td>226167    </td> <td>10.2       </td>\n",
              "        </tr>\n",
              "        <tr>\n",
              "            <td>Alaska</td> <td>1961</td> <td>234000    </td> <td>11.5       </td>\n",
              "        </tr>\n",
              "        <tr>\n",
              "            <td>Alaska</td> <td>1962</td> <td>246000    </td> <td>4.5        </td>\n",
              "        </tr>\n",
              "        <tr>\n",
              "            <td>Alaska</td> <td>1963</td> <td>248000    </td> <td>6.5        </td>\n",
              "        </tr>\n",
              "        <tr>\n",
              "            <td>Alaska</td> <td>1964</td> <td>250000    </td> <td>10.4       </td>\n",
              "        </tr>\n",
              "        <tr>\n",
              "            <td>Alaska</td> <td>1965</td> <td>253000    </td> <td>6.3        </td>\n",
              "        </tr>\n",
              "        <tr>\n",
              "            <td>Alaska</td> <td>1966</td> <td>272000    </td> <td>12.9       </td>\n",
              "        </tr>\n",
              "        <tr>\n",
              "            <td>Alaska</td> <td>1967</td> <td>272000    </td> <td>9.6        </td>\n",
              "        </tr>\n",
              "        <tr>\n",
              "            <td>Alaska</td> <td>1968</td> <td>277000    </td> <td>10.5       </td>\n",
              "        </tr>\n",
              "        <tr>\n",
              "            <td>Alaska</td> <td>1969</td> <td>282000    </td> <td>10.6       </td>\n",
              "        </tr>\n",
              "    </tbody>\n",
              "</table>\n",
              "<p>... (2190 rows omitted)</p>"
            ],
            "text/plain": [
              "State  | Year | Population | Murder Rate\n",
              "Alaska | 1960 | 226167     | 10.2\n",
              "Alaska | 1961 | 234000     | 11.5\n",
              "Alaska | 1962 | 246000     | 4.5\n",
              "Alaska | 1963 | 248000     | 6.5\n",
              "Alaska | 1964 | 250000     | 10.4\n",
              "Alaska | 1965 | 253000     | 6.3\n",
              "Alaska | 1966 | 272000     | 12.9\n",
              "Alaska | 1967 | 272000     | 9.6\n",
              "Alaska | 1968 | 277000     | 10.5\n",
              "Alaska | 1969 | 282000     | 10.6\n",
              "... (2190 rows omitted)"
            ]
          },
          "metadata": {
            "tags": []
          },
          "execution_count": 11
        }
      ]
    },
    {
      "cell_type": "markdown",
      "metadata": {
        "id": "r2HBwOw5lQ7U"
      },
      "source": [
        "Murder rates vary over time, and different states exhibit different trends. The rates in some states change dramatically from year to year, while others are quite stable. Let's plot a couple, just to see the variety.\n",
        "\n",
        "**Question 1:** Create a table called `ak_mn` that will hold the years and murder rates for alaska and minnesota such that the result looks like this:\n",
        "\n",
        "| Year | Murder rate in Alaska | Murder rate in Minnesota |\n",
        "|------|-----------------------|--------------------------|\n",
        "| 1960 | 10.2                  | 1.2                      |\n",
        "| 1961 | 11.5                  | 1                        |\n",
        "| 1962 | 4.5                   | 0.9                      |\n",
        "\n",
        "<center>... (41 rows omitted)</center>"
      ]
    },
    {
      "cell_type": "markdown",
      "metadata": {
        "id": "I4mFNhrMlQ7U"
      },
      "source": [
        "**Question 2:** Using the table `ak_mn`, draw a line plot that compares the murder rate in Alaska and the murder rate in Minnesota over time."
      ]
    },
    {
      "cell_type": "code",
      "metadata": {
        "id": "YOFb5tRRlQ7V",
        "outputId": "d13ce01f-7725-402f-e8fe-4125674a3c83",
        "colab": {
          "base_uri": "https://localhost:8080/",
          "height": 385
        }
      },
      "source": [
        "ak = murder_rates.where('State', 'Alaska').drop('State', 'Population').relabeled(1, 'Murder rate in Alaska')\n",
        "mn = murder_rates.where('State', 'Minnesota').drop('State', 'Population').relabeled(1, 'Murder rate in Minnesota')\n",
        "\n",
        "ak_mn = ak.join('Year', mn)\n",
        "ak_mn"
      ],
      "execution_count": 12,
      "outputs": [
        {
          "output_type": "execute_result",
          "data": {
            "text/html": [
              "<table border=\"1\" class=\"dataframe\">\n",
              "    <thead>\n",
              "        <tr>\n",
              "            <th>Year</th> <th>Murder rate in Alaska</th> <th>Murder rate in Minnesota</th>\n",
              "        </tr>\n",
              "    </thead>\n",
              "    <tbody>\n",
              "        <tr>\n",
              "            <td>1960</td> <td>10.2                 </td> <td>1.2                     </td>\n",
              "        </tr>\n",
              "        <tr>\n",
              "            <td>1961</td> <td>11.5                 </td> <td>1                       </td>\n",
              "        </tr>\n",
              "        <tr>\n",
              "            <td>1962</td> <td>4.5                  </td> <td>0.9                     </td>\n",
              "        </tr>\n",
              "        <tr>\n",
              "            <td>1963</td> <td>6.5                  </td> <td>1.2                     </td>\n",
              "        </tr>\n",
              "        <tr>\n",
              "            <td>1964</td> <td>10.4                 </td> <td>1.4                     </td>\n",
              "        </tr>\n",
              "        <tr>\n",
              "            <td>1965</td> <td>6.3                  </td> <td>1.4                     </td>\n",
              "        </tr>\n",
              "        <tr>\n",
              "            <td>1966</td> <td>12.9                 </td> <td>2.2                     </td>\n",
              "        </tr>\n",
              "        <tr>\n",
              "            <td>1967</td> <td>9.6                  </td> <td>1.6                     </td>\n",
              "        </tr>\n",
              "        <tr>\n",
              "            <td>1968</td> <td>10.5                 </td> <td>2.2                     </td>\n",
              "        </tr>\n",
              "        <tr>\n",
              "            <td>1969</td> <td>10.6                 </td> <td>1.9                     </td>\n",
              "        </tr>\n",
              "    </tbody>\n",
              "</table>\n",
              "<p>... (34 rows omitted)</p>"
            ],
            "text/plain": [
              "Year | Murder rate in Alaska | Murder rate in Minnesota\n",
              "1960 | 10.2                  | 1.2\n",
              "1961 | 11.5                  | 1\n",
              "1962 | 4.5                   | 0.9\n",
              "1963 | 6.5                   | 1.2\n",
              "1964 | 10.4                  | 1.4\n",
              "1965 | 6.3                   | 1.4\n",
              "1966 | 12.9                  | 2.2\n",
              "1967 | 9.6                   | 1.6\n",
              "1968 | 10.5                  | 2.2\n",
              "1969 | 10.6                  | 1.9\n",
              "... (34 rows omitted)"
            ]
          },
          "metadata": {
            "tags": []
          },
          "execution_count": 12
        }
      ]
    },
    {
      "cell_type": "code",
      "metadata": {
        "id": "TtzKqQvXo1vR",
        "outputId": "8f6a4a1a-befd-4799-8314-80c11d2e2893",
        "colab": {
          "base_uri": "https://localhost:8080/",
          "height": 279
        }
      },
      "source": [
        "ak_mn.plot('Year')"
      ],
      "execution_count": 13,
      "outputs": [
        {
          "output_type": "display_data",
          "data": {
            "image/png": "[encoded data removed]",
            "text/plain": [
              "<Figure size 432x288 with 1 Axes>"
            ]
          },
          "metadata": {
            "tags": [],
            "needs_background": "light"
          }
        }
      ]
    },
    {
      "cell_type": "markdown",
      "metadata": {
        "id": "CawOD1IClQ7Y"
      },
      "source": [
        "Now what about the murder rates of other states? Say, for example, California and New York? Run the cell below to plot the murder rates of different pairs of states."
      ]
    },
    {
      "cell_type": "code",
      "metadata": {
        "id": "TW2zZ6t6lQ7Y",
        "outputId": "c4be6124-96dc-403e-e4dd-494d83783530",
        "colab": {
          "base_uri": "https://localhost:8080/",
          "height": 343,
          "referenced_widgets": [
            "16589e14460644119ce4274cf07857cd",
            "2c1c2aed5e36440b9c7349be75740ec6",
            "769ff2f8c6144115a899939bbdbda23f",
            "d22cc8a7cfd14d54bd12b9184a5c1659",
            "7edd0a73b71246818c5716080084de87",
            "0ffd335780d0496b8d08ca135de05e4b",
            "d04ad632052346c498cb7bf75be395d1",
            "785cef480bac4b00813fd5a60383923a",
            "e617c2a0132a4fd787c70732c1100e99",
            "2aca655df9f848be86ee1502fe101846"
          ]
        }
      },
      "source": [
        "# Compare the murder rates of any two states by filling in the blanks below\n",
        "\n",
        "from ipywidgets import interact, interactive, fixed, interact_manual\n",
        "import ipywidgets as widgets\n",
        "\n",
        "m_rates = Table.read_table('crime_rates.csv').select('State', 'Year', 'Population', 'Murder Rate')\n",
        "m_rates.set_format(\"Population\", NumberFormatter)\n",
        "\n",
        "def state(state1, state2):\n",
        "    state1_table = m_rates.where('State', state1).drop('State', 'Population').relabeled(1, 'Murder rate in {}'.format(state1))\n",
        "    state2_table = m_rates.where('State', state2).drop('State', 'Population').relabeled(1, 'Murder rate in {}'.format(state2))\n",
        "    s1_s2 = state1_table.join('Year', state2_table)\n",
        "    s1_s2.plot('Year')\n",
        "    plt.show()\n",
        "\n",
        "states_array = m_rates.group('State').column('State')\n",
        "\n",
        "_ = interact(state,\n",
        "             state1=widgets.Dropdown(options=list(states_array),value='California'),\n",
        "             state2=widgets.Dropdown(options=list(states_array),value='New York')\n",
        "           )"
      ],
      "execution_count": 14,
      "outputs": [
        {
          "output_type": "display_data",
          "data": {
            "application/vnd.jupyter.widget-view+json": {
              "model_id": "16589e14460644119ce4274cf07857cd",
              "version_minor": 0,
              "version_major": 2
            },
            "text/plain": [
              "interactive(children=(Dropdown(description='state1', index=4, options=('Alabama', 'Alaska', 'Arizona', 'Arkans…"
            ]
          },
          "metadata": {
            "tags": []
          }
        }
      ]
    },
    {
      "cell_type": "markdown",
      "metadata": {
        "id": "SrZ3X5tNlQ7b"
      },
      "source": [
        "## 3. The Death Penalty\n",
        "\n",
        "Some US states have the death penalty, and others don't, and laws have changed over time. In addition to changes in murder rates, we will also consider whether the death penalty was in force in each state and each year.\n",
        "\n",
        "Using this information, we would like to investigate how the presence of the death penalty affects the murder rate of a state."
      ]
    },
    {
      "cell_type": "markdown",
      "metadata": {
        "id": "WrHXNLJWlQ7c"
      },
      "source": [
        "**Question 1:** We want to know whether the death penalty *causes* a change in the murder rate.  Why is it not sufficient to compare murder rates in places and times when the death penalty was in force with places and times when it wasn't?\n"
      ]
    },
    {
      "cell_type": "markdown",
      "metadata": {
        "id": "lMWxFbQNlQ7d"
      },
      "source": [
        "There could be other confounding factors that prevent us from establishing a causal relationship."
      ]
    },
    {
      "cell_type": "markdown",
      "metadata": {
        "id": "geATEmGNlQ7d"
      },
      "source": [
        "### A Natural Experiment\n",
        "\n",
        "In order to attempt to investigate the causal relationship between the death penalty and murder rates, we're going to take advantage of a *natural experiment*.  A **natural experiment** happens when something other than experimental design applies a treatment to one group and not to another (control) group, and we have some hope that the treatment and control groups don't have any other systematic differences.\n",
        "\n",
        "Our natural experiment is this: in 1972, a Supreme Court decision called *Furman v. Georgia* banned the death penalty throughout the US.  Suddenly, many states went from having the death penalty to not having the death penalty.\n",
        "\n",
        "As a first step, let's see how murder rates changed before and after the court decision.  We'll define the test as follows:\n",
        "\n",
        "> **Population:** All the states that had the death penalty before the 1972 abolition.  (There is no control group for the states that already lacked the death penalty in 1972, so we must omit them.)  This includes all US states **except** Alaska, Hawaii, Maine, Michigan, Wisconsin, and Minnesota.\n",
        "\n",
        "> **Treatment group:** The states in that population, in 1973 (the year after 1972).\n",
        "\n",
        "> **Control group:** The states in that population, in 1971 (the year before 1972).\n",
        "\n",
        "> **Null hypothesis:** Murder rates in 1971 and 1973 come from the same distribution.\n",
        "\n",
        "> **Alternative hypothesis:** Murder rates were higher in 1973 than they were in 1971.\n",
        "\n",
        "Our alternative hypothesis is related to our suspicion that murder rates increase when the death penalty is eliminated.  "
      ]
    },
    {
      "cell_type": "markdown",
      "metadata": {
        "id": "r00kCkhElQ7e"
      },
      "source": [
        "**Question 2:** Should we use an A/B test to test these hypotheses? If yes, what is our \"A\" group and what is our \"B\" group?"
      ]
    },
    {
      "cell_type": "markdown",
      "metadata": {
        "id": "YzBC5O-HlQ7f"
      },
      "source": [
        "*Write your answer here, replacing this text.*"
      ]
    },
    {
      "cell_type": "markdown",
      "metadata": {
        "id": "8uJNIVs8lQ7f"
      },
      "source": [
        "The `death_penalty` table below describes whether each state allowed the death penalty in 1971."
      ]
    },
    {
      "cell_type": "code",
      "metadata": {
        "id": "JfknOg5TlQ7g",
        "outputId": "81e62074-045b-4373-ba96-fe563adb2467",
        "colab": {
          "base_uri": "https://localhost:8080/",
          "height": 385
        }
      },
      "source": [
        "non_death_penalty_states = pd.array(['Alaska', 'Hawaii', 'Maine', 'Michigan', 'Wisconsin', 'Minnesota'])\n",
        "\n",
        "def had_death_penalty_in_1971(state):\n",
        "    \"\"\"Returns True if the argument is the name of a state that had the death penalty in 1971.\"\"\"\n",
        "    return state not in non_death_penalty_states\n",
        "\n",
        "\n",
        "states = murder_rates.group('State').select('State')\n",
        "death_penalty = states.with_column('Death Penalty', states.apply(had_death_penalty_in_1971, 0))\n",
        "death_penalty\n"
      ],
      "execution_count": 18,
      "outputs": [
        {
          "output_type": "execute_result",
          "data": {
            "text/html": [
              "<table border=\"1\" class=\"dataframe\">\n",
              "    <thead>\n",
              "        <tr>\n",
              "            <th>State</th> <th>Death Penalty</th>\n",
              "        </tr>\n",
              "    </thead>\n",
              "    <tbody>\n",
              "        <tr>\n",
              "            <td>Alabama    </td> <td>True         </td>\n",
              "        </tr>\n",
              "        <tr>\n",
              "            <td>Alaska     </td> <td>False        </td>\n",
              "        </tr>\n",
              "        <tr>\n",
              "            <td>Arizona    </td> <td>True         </td>\n",
              "        </tr>\n",
              "        <tr>\n",
              "            <td>Arkansas   </td> <td>True         </td>\n",
              "        </tr>\n",
              "        <tr>\n",
              "            <td>California </td> <td>True         </td>\n",
              "        </tr>\n",
              "        <tr>\n",
              "            <td>Colorado   </td> <td>True         </td>\n",
              "        </tr>\n",
              "        <tr>\n",
              "            <td>Connecticut</td> <td>True         </td>\n",
              "        </tr>\n",
              "        <tr>\n",
              "            <td>Delaware   </td> <td>True         </td>\n",
              "        </tr>\n",
              "        <tr>\n",
              "            <td>Florida    </td> <td>True         </td>\n",
              "        </tr>\n",
              "        <tr>\n",
              "            <td>Georgia    </td> <td>True         </td>\n",
              "        </tr>\n",
              "    </tbody>\n",
              "</table>\n",
              "<p>... (40 rows omitted)</p>"
            ],
            "text/plain": [
              "State       | Death Penalty\n",
              "Alabama     | True\n",
              "Alaska      | False\n",
              "Arizona     | True\n",
              "Arkansas    | True\n",
              "California  | True\n",
              "Colorado    | True\n",
              "Connecticut | True\n",
              "Delaware    | True\n",
              "Florida     | True\n",
              "Georgia     | True\n",
              "... (40 rows omitted)"
            ]
          },
          "metadata": {
            "tags": []
          },
          "execution_count": 18
        }
      ]
    },
    {
      "cell_type": "markdown",
      "metadata": {
        "id": "12nV3xTolQ7j"
      },
      "source": [
        "**Question 3:** Use the `death_penalty` and `murder_rates` tables to find murder rates in 1971 for states with the death penalty before the abolition. Create a new table `preban_rates` that contains the same information as `murder_rates`, along with a column `Death Penalty` that contains booleans (`True` or `False`) describing if states had the death penalty in 1971."
      ]
    },
    {
      "cell_type": "code",
      "metadata": {
        "id": "zxObvE3xlQ7j",
        "outputId": "37b00df2-b9c5-45bb-fccd-3fa4d0d6c856",
        "colab": {
          "base_uri": "https://localhost:8080/",
          "height": 385
        }
      },
      "source": [
        "preban_rates = murder_rates.where(\"Year\", 1971).join(\"State\", death_penalty.where(\"Death Penalty\", True))\n",
        "preban_rates"
      ],
      "execution_count": 19,
      "outputs": [
        {
          "output_type": "execute_result",
          "data": {
            "text/html": [
              "<table border=\"1\" class=\"dataframe\">\n",
              "    <thead>\n",
              "        <tr>\n",
              "            <th>State</th> <th>Year</th> <th>Population</th> <th>Murder Rate</th> <th>Death Penalty</th>\n",
              "        </tr>\n",
              "    </thead>\n",
              "    <tbody>\n",
              "        <tr>\n",
              "            <td>Alabama    </td> <td>1971</td> <td>3479000   </td> <td>15.1       </td> <td>True         </td>\n",
              "        </tr>\n",
              "        <tr>\n",
              "            <td>Arizona    </td> <td>1971</td> <td>1849000   </td> <td>6.7        </td> <td>True         </td>\n",
              "        </tr>\n",
              "        <tr>\n",
              "            <td>Arkansas   </td> <td>1971</td> <td>1944000   </td> <td>10.5       </td> <td>True         </td>\n",
              "        </tr>\n",
              "        <tr>\n",
              "            <td>California </td> <td>1971</td> <td>20223000  </td> <td>8.1        </td> <td>True         </td>\n",
              "        </tr>\n",
              "        <tr>\n",
              "            <td>Colorado   </td> <td>1971</td> <td>2283000   </td> <td>6.5        </td> <td>True         </td>\n",
              "        </tr>\n",
              "        <tr>\n",
              "            <td>Connecticut</td> <td>1971</td> <td>3081000   </td> <td>3.1        </td> <td>True         </td>\n",
              "        </tr>\n",
              "        <tr>\n",
              "            <td>Delaware   </td> <td>1971</td> <td>558000    </td> <td>6.1        </td> <td>True         </td>\n",
              "        </tr>\n",
              "        <tr>\n",
              "            <td>Florida    </td> <td>1971</td> <td>7041000   </td> <td>13.3       </td> <td>True         </td>\n",
              "        </tr>\n",
              "        <tr>\n",
              "            <td>Georgia    </td> <td>1971</td> <td>4664000   </td> <td>16         </td> <td>True         </td>\n",
              "        </tr>\n",
              "        <tr>\n",
              "            <td>Idaho      </td> <td>1971</td> <td>732000    </td> <td>3.3        </td> <td>True         </td>\n",
              "        </tr>\n",
              "    </tbody>\n",
              "</table>\n",
              "<p>... (34 rows omitted)</p>"
            ],
            "text/plain": [
              "State       | Year | Population | Murder Rate | Death Penalty\n",
              "Alabama     | 1971 | 3479000    | 15.1        | True\n",
              "Arizona     | 1971 | 1849000    | 6.7         | True\n",
              "Arkansas    | 1971 | 1944000    | 10.5        | True\n",
              "California  | 1971 | 20223000   | 8.1         | True\n",
              "Colorado    | 1971 | 2283000    | 6.5         | True\n",
              "Connecticut | 1971 | 3081000    | 3.1         | True\n",
              "Delaware    | 1971 | 558000     | 6.1         | True\n",
              "Florida     | 1971 | 7041000    | 13.3        | True\n",
              "Georgia     | 1971 | 4664000    | 16          | True\n",
              "Idaho       | 1971 | 732000     | 3.3         | True\n",
              "... (34 rows omitted)"
            ]
          },
          "metadata": {
            "tags": []
          },
          "execution_count": 19
        }
      ]
    },
    {
      "cell_type": "markdown",
      "metadata": {
        "id": "zfpUBEJNlQ7n"
      },
      "source": [
        "**Question 4:** Create a table `postban_rates` that contains the same information as preban_rates, but for 1973 instead of 1971. postban_rates should only contain the states found in preban_rates."
      ]
    },
    {
      "cell_type": "code",
      "metadata": {
        "id": "n1NQXvSSlQ7o",
        "outputId": "e4a79bc6-62a0-469c-a82e-3f2af2cc3578",
        "colab": {
          "base_uri": "https://localhost:8080/",
          "height": 385
        }
      },
      "source": [
        "postban_rates = murder_rates.where(\"Year\", 1973).join(\"State\", preban_rates).select(\"State\", \"Year\",\"Population\", \"Murder Rate\")\n",
        "postban_rates = postban_rates.with_column(\"Death Penalty\", False)\n",
        "postban_rates = postban_rates.sort(\"State\")\n",
        "postban_rates"
      ],
      "execution_count": 20,
      "outputs": [
        {
          "output_type": "execute_result",
          "data": {
            "text/html": [
              "<table border=\"1\" class=\"dataframe\">\n",
              "    <thead>\n",
              "        <tr>\n",
              "            <th>State</th> <th>Year</th> <th>Population</th> <th>Murder Rate</th> <th>Death Penalty</th>\n",
              "        </tr>\n",
              "    </thead>\n",
              "    <tbody>\n",
              "        <tr>\n",
              "            <td>Alabama    </td> <td>1973</td> <td>3539000   </td> <td>13.2       </td> <td>False        </td>\n",
              "        </tr>\n",
              "        <tr>\n",
              "            <td>Arizona    </td> <td>1973</td> <td>2058000   </td> <td>8.1        </td> <td>False        </td>\n",
              "        </tr>\n",
              "        <tr>\n",
              "            <td>Arkansas   </td> <td>1973</td> <td>2037000   </td> <td>8.8        </td> <td>False        </td>\n",
              "        </tr>\n",
              "        <tr>\n",
              "            <td>California </td> <td>1973</td> <td>20601000  </td> <td>9          </td> <td>False        </td>\n",
              "        </tr>\n",
              "        <tr>\n",
              "            <td>Colorado   </td> <td>1973</td> <td>2437000   </td> <td>7.9        </td> <td>False        </td>\n",
              "        </tr>\n",
              "        <tr>\n",
              "            <td>Connecticut</td> <td>1973</td> <td>3076000   </td> <td>3.3        </td> <td>False        </td>\n",
              "        </tr>\n",
              "        <tr>\n",
              "            <td>Delaware   </td> <td>1973</td> <td>576000    </td> <td>5.9        </td> <td>False        </td>\n",
              "        </tr>\n",
              "        <tr>\n",
              "            <td>Florida    </td> <td>1973</td> <td>7678000   </td> <td>15.4       </td> <td>False        </td>\n",
              "        </tr>\n",
              "        <tr>\n",
              "            <td>Georgia    </td> <td>1973</td> <td>4786000   </td> <td>17.4       </td> <td>False        </td>\n",
              "        </tr>\n",
              "        <tr>\n",
              "            <td>Idaho      </td> <td>1973</td> <td>770000    </td> <td>2.6        </td> <td>False        </td>\n",
              "        </tr>\n",
              "    </tbody>\n",
              "</table>\n",
              "<p>... (34 rows omitted)</p>"
            ],
            "text/plain": [
              "State       | Year | Population | Murder Rate | Death Penalty\n",
              "Alabama     | 1973 | 3539000    | 13.2        | False\n",
              "Arizona     | 1973 | 2058000    | 8.1         | False\n",
              "Arkansas    | 1973 | 2037000    | 8.8         | False\n",
              "California  | 1973 | 20601000   | 9           | False\n",
              "Colorado    | 1973 | 2437000    | 7.9         | False\n",
              "Connecticut | 1973 | 3076000    | 3.3         | False\n",
              "Delaware    | 1973 | 576000     | 5.9         | False\n",
              "Florida     | 1973 | 7678000    | 15.4        | False\n",
              "Georgia     | 1973 | 4786000    | 17.4        | False\n",
              "Idaho       | 1973 | 770000     | 2.6         | False\n",
              "... (34 rows omitted)"
            ]
          },
          "metadata": {
            "tags": []
          },
          "execution_count": 20
        }
      ]
    },
    {
      "cell_type": "markdown",
      "metadata": {
        "id": "2Op5nw4ylQ7v"
      },
      "source": [
        "**Question 5** Use `preban_rates_copy` and `postban_rates` to create a table `change_in_death_rates` that contains each state's population, murder rate, and whether or not that state had the death penalty for both 1971 and 1973. \n",
        "\n",
        "*Hint:* `tbl_1.append(tbl_2)` with create a new table that includes rows from both `tbl_1` and `tbl_2`. Both tables must have the exactly the same columns, in the same order."
      ]
    },
    {
      "cell_type": "code",
      "metadata": {
        "id": "V-xbqXtdlQ7w",
        "outputId": "38572ebc-d225-4493-aef1-922a5c319bb5",
        "colab": {
          "base_uri": "https://localhost:8080/",
          "height": 385
        }
      },
      "source": [
        "preban_rates_copy = preban_rates.copy()\n",
        "change_in_death_rates = preban_rates_copy.append(postban_rates)\n",
        "change_in_death_rates"
      ],
      "execution_count": 21,
      "outputs": [
        {
          "output_type": "execute_result",
          "data": {
            "text/html": [
              "<table border=\"1\" class=\"dataframe\">\n",
              "    <thead>\n",
              "        <tr>\n",
              "            <th>State</th> <th>Year</th> <th>Population</th> <th>Murder Rate</th> <th>Death Penalty</th>\n",
              "        </tr>\n",
              "    </thead>\n",
              "    <tbody>\n",
              "        <tr>\n",
              "            <td>Alabama    </td> <td>1971</td> <td>3479000   </td> <td>15.1       </td> <td>True         </td>\n",
              "        </tr>\n",
              "        <tr>\n",
              "            <td>Arizona    </td> <td>1971</td> <td>1849000   </td> <td>6.7        </td> <td>True         </td>\n",
              "        </tr>\n",
              "        <tr>\n",
              "            <td>Arkansas   </td> <td>1971</td> <td>1944000   </td> <td>10.5       </td> <td>True         </td>\n",
              "        </tr>\n",
              "        <tr>\n",
              "            <td>California </td> <td>1971</td> <td>20223000  </td> <td>8.1        </td> <td>True         </td>\n",
              "        </tr>\n",
              "        <tr>\n",
              "            <td>Colorado   </td> <td>1971</td> <td>2283000   </td> <td>6.5        </td> <td>True         </td>\n",
              "        </tr>\n",
              "        <tr>\n",
              "            <td>Connecticut</td> <td>1971</td> <td>3081000   </td> <td>3.1        </td> <td>True         </td>\n",
              "        </tr>\n",
              "        <tr>\n",
              "            <td>Delaware   </td> <td>1971</td> <td>558000    </td> <td>6.1        </td> <td>True         </td>\n",
              "        </tr>\n",
              "        <tr>\n",
              "            <td>Florida    </td> <td>1971</td> <td>7041000   </td> <td>13.3       </td> <td>True         </td>\n",
              "        </tr>\n",
              "        <tr>\n",
              "            <td>Georgia    </td> <td>1971</td> <td>4664000   </td> <td>16         </td> <td>True         </td>\n",
              "        </tr>\n",
              "        <tr>\n",
              "            <td>Idaho      </td> <td>1971</td> <td>732000    </td> <td>3.3        </td> <td>True         </td>\n",
              "        </tr>\n",
              "    </tbody>\n",
              "</table>\n",
              "<p>... (78 rows omitted)</p>"
            ],
            "text/plain": [
              "State       | Year | Population | Murder Rate | Death Penalty\n",
              "Alabama     | 1971 | 3479000    | 15.1        | True\n",
              "Arizona     | 1971 | 1849000    | 6.7         | True\n",
              "Arkansas    | 1971 | 1944000    | 10.5        | True\n",
              "California  | 1971 | 20223000   | 8.1         | True\n",
              "Colorado    | 1971 | 2283000    | 6.5         | True\n",
              "Connecticut | 1971 | 3081000    | 3.1         | True\n",
              "Delaware    | 1971 | 558000     | 6.1         | True\n",
              "Florida     | 1971 | 7041000    | 13.3        | True\n",
              "Georgia     | 1971 | 4664000    | 16          | True\n",
              "Idaho       | 1971 | 732000     | 3.3         | True\n",
              "... (78 rows omitted)"
            ]
          },
          "metadata": {
            "tags": []
          },
          "execution_count": 21
        }
      ]
    },
    {
      "cell_type": "markdown",
      "metadata": {
        "id": "oQ9uGfuWlQ70"
      },
      "source": [
        "**Question 6:** Create a table `rate_means` that contains the average murder rates for the states that had the death penalty and the states that didn't have the death penalty. It should have two columns: one indicating if the penalty was in place, and one that contains the average murder rate for each group."
      ]
    },
    {
      "cell_type": "code",
      "metadata": {
        "id": "VeTie1vUlQ71",
        "outputId": "1576a228-dca1-4fdd-869b-50c3a863d4ac",
        "colab": {
          "base_uri": "https://localhost:8080/",
          "height": 110
        }
      },
      "source": [
        "rate_means = change_in_death_rates.group(\"Death Penalty\", np.average).drop(\"Population average\",\"Year average\",\"State average\")\n",
        "rate_means"
      ],
      "execution_count": 22,
      "outputs": [
        {
          "output_type": "execute_result",
          "data": {
            "text/html": [
              "<table border=\"1\" class=\"dataframe\">\n",
              "    <thead>\n",
              "        <tr>\n",
              "            <th>Death Penalty</th> <th>Murder Rate average</th>\n",
              "        </tr>\n",
              "    </thead>\n",
              "    <tbody>\n",
              "        <tr>\n",
              "            <td>False        </td> <td>8.12045            </td>\n",
              "        </tr>\n",
              "        <tr>\n",
              "            <td>True         </td> <td>7.51364            </td>\n",
              "        </tr>\n",
              "    </tbody>\n",
              "</table>"
            ],
            "text/plain": [
              "Death Penalty | Murder Rate average\n",
              "False         | 8.12045\n",
              "True          | 7.51364"
            ]
          },
          "metadata": {
            "tags": []
          },
          "execution_count": 22
        }
      ]
    },
    {
      "cell_type": "markdown",
      "metadata": {
        "id": "9OOfQFC-lQ73"
      },
      "source": [
        "**Question 7:** We want to figure out if there is a difference between the distribution of death rates in 1971 and 1973. Specifically, we want to test if murder rates were higher in 1973 than they were in 1971. \n",
        "\n",
        "What should the test statistic be? How does it help us differentiate whether the data supports the null and alternative? "
      ]
    },
    {
      "cell_type": "markdown",
      "metadata": {
        "id": "hO1AKJvplQ74"
      },
      "source": [
        "The test statistic should be 0.6068181600659095. The value is greater than 0, favoring the null hypothesis. (1971 murder rate > 1973 murder rate)"
      ]
    },
    {
      "cell_type": "markdown",
      "metadata": {
        "id": "nbJwOc3mlQ74"
      },
      "source": [
        "**Question 8:** Set `observed_difference` to the observed test statistic using the `rate_means` table "
      ]
    },
    {
      "cell_type": "code",
      "metadata": {
        "id": "kYtq8vJ8lQ75",
        "outputId": "7c24307b-5083-468a-fbdc-223e8dd0a030",
        "colab": {
          "base_uri": "https://localhost:8080/"
        }
      },
      "source": [
        "observed_difference = rate_means.column(\"Murder Rate average\").item(0) - rate_means.column(\"Murder Rate average\").item(1)\n",
        "observed_difference"
      ],
      "execution_count": 23,
      "outputs": [
        {
          "output_type": "execute_result",
          "data": {
            "text/plain": [
              "0.6068181600659095"
            ]
          },
          "metadata": {
            "tags": []
          },
          "execution_count": 23
        }
      ]
    },
    {
      "cell_type": "markdown",
      "metadata": {
        "id": "tNtnkXHzlQ7-"
      },
      "source": [
        "**Question 9:** Given a table like `change_in_death_rates`, a value column `label`, and a group column `group_label`, write a function that calculates the appropriate test statistic."
      ]
    },
    {
      "cell_type": "code",
      "metadata": {
        "id": "1BI7x5LilQ7_",
        "outputId": "d9402bc5-2127-45af-d96f-de39c309619f",
        "colab": {
          "base_uri": "https://localhost:8080/"
        }
      },
      "source": [
        "def find_test_stat(table, labels_col, values_col):\n",
        "    reductions = table.select(labels_col, values_col)\n",
        "    means_table = reductions.group(labels_col, np.average)\n",
        "    averages = means_table.column(1)\n",
        "    return averages.item(0) - averages.item(1)\n",
        "\n",
        "find_test_stat(change_in_death_rates, \"Death Penalty\", \"Murder Rate\")"
      ],
      "execution_count": 24,
      "outputs": [
        {
          "output_type": "execute_result",
          "data": {
            "text/plain": [
              "0.6068181600659095"
            ]
          },
          "metadata": {
            "tags": []
          },
          "execution_count": 24
        }
      ]
    },
    {
      "cell_type": "markdown",
      "metadata": {
        "id": "KzN3JwD8lQ8C"
      },
      "source": [
        "When we run a simulation for A/B testing, we resample by shuffling the labels of the original sample. If the null hypothesis is true and the murder rate distributions are the same, we expect that the difference in mean death rates will be not change when \"Death Penalty\" labels are changed."
      ]
    },
    {
      "cell_type": "markdown",
      "metadata": {
        "id": "l2QMN463lQ8D"
      },
      "source": [
        "**Question 10:** Write a function `simulate_and_test_statistic` to compute one trial of our A/B test. Your function should run a simulation and return a test statistic.\n",
        "\n",
        "Note: The test here is fairly lenient, if you have an issue with the following questions, make sure to take a look at your answer to **Question 9** . Specifically, make sure that you are taking the directionality of our alternative hypothesis into account."
      ]
    },
    {
      "cell_type": "code",
      "metadata": {
        "id": "zl3p45A-lQ8D",
        "outputId": "88be28b2-f6b5-451e-9eb9-938d5dc98f07",
        "colab": {
          "base_uri": "https://localhost:8080/"
        }
      },
      "source": [
        "def simulate_and_test_statistic(table, labels_col, values_col):\n",
        "    shuffled_column = table.sample(with_replacement = False).column(values_col)\n",
        "    new_table = table.drop(values_col).with_column(\"Shuffled Label\", shuffled_column)\n",
        "    return find_test_stat(new_table, labels_col, \"Shuffled Label\")\n",
        "\n",
        "simulate_and_test_statistic(change_in_death_rates, \"Death Penalty\", \"Murder Rate\")"
      ],
      "execution_count": 25,
      "outputs": [
        {
          "output_type": "execute_result",
          "data": {
            "text/plain": [
              "1.0295455034340906"
            ]
          },
          "metadata": {
            "tags": []
          },
          "execution_count": 25
        }
      ]
    },
    {
      "cell_type": "markdown",
      "metadata": {
        "id": "EJXYzuuDlQ8G"
      },
      "source": [
        "**Question 11:** Simulate 5000 trials of our A/B test and store the test statistics in an array called `differences`"
      ]
    },
    {
      "cell_type": "code",
      "metadata": {
        "id": "H4zG2yZylQ8H",
        "outputId": "54ff6371-5f16-4ab6-ca76-615f6f23a70a",
        "colab": {
          "base_uri": "https://localhost:8080/"
        }
      },
      "source": [
        "# This cell might take a couple seconds to run\n",
        "differences = []\n",
        "for i in np.arange(5000):\n",
        "    trial = simulate_and_test_statistic(change_in_death_rates, \"Death Penalty\", \"Murder Rate\")\n",
        "    differences = np.append(differences, trial)   \n",
        "                                                 \n",
        "differences"
      ],
      "execution_count": 26,
      "outputs": [
        {
          "output_type": "execute_result",
          "data": {
            "text/plain": [
              "array([-0.7795454 ,  1.35681817,  1.55681819, ..., -0.03863634,\n",
              "       -0.42954544, -1.82499994])"
            ]
          },
          "metadata": {
            "tags": []
          },
          "execution_count": 26
        }
      ]
    },
    {
      "cell_type": "markdown",
      "metadata": {
        "id": "1K71uPR6lQ8K"
      },
      "source": [
        "Run the cell below to view a histogram of your simulated test statistics plotted with your observed test statistic"
      ]
    },
    {
      "cell_type": "markdown",
      "metadata": {
        "id": "EGPyB_01lQ8L"
      },
      "source": [
        "**Question 12:** Create  a histogram of your simulated test statistics plotted with your observed test statistic"
      ]
    },
    {
      "cell_type": "code",
      "metadata": {
        "id": "_vGiocQalQ8L",
        "outputId": "d861d294-f571-457b-b821-a258f9b2b41c",
        "colab": {
          "base_uri": "https://localhost:8080/",
          "height": 281
        }
      },
      "source": [
        "Table().with_column(\"Mean Differences\", differences).hist()"
      ],
      "execution_count": 27,
      "outputs": [
        {
          "output_type": "display_data",
          "data": {
            "image/png": "[encoded data removed]",
            "text/plain": [
              "<Figure size 432x288 with 1 Axes>"
            ]
          },
          "metadata": {
            "tags": [],
            "needs_background": "light"
          }
        }
      ]
    },
    {
      "cell_type": "markdown",
      "metadata": {
        "id": "sliHztMzlQ8P"
      },
      "source": [
        "**Question 13:** Find the p-value for your test and assign it to `empirical_P`"
      ]
    },
    {
      "cell_type": "code",
      "metadata": {
        "id": "S29-OyYKlQ8Q",
        "outputId": "850b9cf6-c2eb-47b0-dc97-a207fb21bdfa",
        "colab": {
          "base_uri": "https://localhost:8080/"
        }
      },
      "source": [
        "empirical_P = sum(differences) >= observed_difference / 5000\n",
        "empirical_P"
      ],
      "execution_count": 29,
      "outputs": [
        {
          "output_type": "execute_result",
          "data": {
            "text/plain": [
              "True"
            ]
          },
          "metadata": {
            "tags": []
          },
          "execution_count": 29
        }
      ]
    },
    {
      "cell_type": "markdown",
      "metadata": {
        "id": "xpn-Si09lQ8Z"
      },
      "source": [
        "**Question 13:** Using a 5% P-value cutoff, draw a conclusion about the null and alternative hypotheses. Describe your findings using simple, non-technical language. What does your analysis tell you about murder rates after the death penalty was suspended? What can you claim about causation from your statistical analysis?"
      ]
    },
    {
      "cell_type": "markdown",
      "metadata": {
        "id": "ernS7oWblQ8e"
      },
      "source": [
        "The null hypothesis is correct. The murder rate was unaffected by the death penalty. There are most likely confounding factors in the data. "
      ]
    },
    {
      "cell_type": "markdown",
      "metadata": {
        "id": "9j6XJW6alQ8h"
      },
      "source": [
        "## 4. Thai Restaurants\n",
        "\n",
        "\n",
        "Ben and Frank are trying see what the best Thai restaurant in Berkeley is. They survey 1500 UC Berkeley students selected uniformly at random, and ask each student what Thai restaurant is the best (*Note: this data is fabricated for the purposes of this homework*). The choices of Thai restaurant are Lucky House, Imm Thai, Thai Temple, and Thai Basil. After compiling the results, Ben and Frank release the following percentages from their sample:\n",
        "\n",
        "|Thai Restaurant  | Percentage|\n",
        "|:------------:|:------------:|\n",
        "|Lucky House | 8% |\n",
        "|Imm Thai | 52% |\n",
        "|Thai Temple | 25% |\n",
        "|Thai Basil | 15% |\n",
        "\n",
        "These percentages represent a uniform random sample of the population of UC Berkeley students. We will attempt to estimate the corresponding *parameters*, or the percentage of the votes that each restaurant will receive from the entire population (the entire population is all UC Berkeley students). We will use confidence intervals to compute a range of values that reflects the uncertainty of our estimates.\n",
        "\n",
        "The table `votes` contains the results of the survey."
      ]
    },
    {
      "cell_type": "code",
      "metadata": {
        "id": "piE7UEZ7lQ8l"
      },
      "source": [
        "# Just run this cell\n",
        "votes = Table.read_table('votes.csv')\n",
        "#votes"
      ],
      "execution_count": 32,
      "outputs": []
    },
    {
      "cell_type": "markdown",
      "metadata": {
        "id": "ZvIVVQ3-lQ8t"
      },
      "source": [
        "**Question 1:** Complete the function `one_resampled_percentage` below. It should return Imm Thai's **percentage** of votes after simulating one bootstrap sample of `tbl`.\n",
        "\n",
        "**Note:** `tbl` will always be in the same format as `votes`."
      ]
    },
    {
      "cell_type": "code",
      "metadata": {
        "id": "KXaghdkFlQ8w",
        "outputId": "ef5ee954-ac51-4c49-9f72-37acf3255898",
        "colab": {
          "base_uri": "https://localhost:8080/"
        }
      },
      "source": [
        "def one_resampled_percentage(tbl):\n",
        "    tb1_sample = tbl.sample()\n",
        "    number_of_votes = votes.num_rows\n",
        "    vote_percentage = (np.count_nonzero(tb1_sample.where('Vote', are.equal_to('Imm Thai')).column('Vote')) / number_of_votes) * 100\n",
        "    return vote_percentage\n",
        "\n",
        "one_resampled_percentage(votes)"
      ],
      "execution_count": 33,
      "outputs": [
        {
          "output_type": "execute_result",
          "data": {
            "text/plain": [
              "51.93333333333333"
            ]
          },
          "metadata": {
            "tags": []
          },
          "execution_count": 33
        }
      ]
    },
    {
      "cell_type": "markdown",
      "metadata": {
        "id": "OIjaQDNDlQ84"
      },
      "source": [
        "**Question 2:** Complete the `percentages_in_resamples` function such that it returns an array of 2500 bootstrapped estimates of the percentage of voters who will vote for Imm Thai. You should use the `one_resampled_percentage` function you wrote above.\n",
        "\n",
        "*Note:* There are no public tests for this question, the autograder cell below will return 0.0% passed. "
      ]
    },
    {
      "cell_type": "code",
      "metadata": {
        "id": "eiFiajbLs7ge",
        "outputId": "4ef94d5b-e5c2-4fd9-f9be-c4b5427a8b92",
        "colab": {
          "base_uri": "https://localhost:8080/"
        }
      },
      "source": [
        "def percentages_in_resamples():\n",
        "    imm_percentage = make_array()\n",
        "    for i in np.arange(2500):\n",
        "        sample = one_resampled_percentage(votes)\n",
        "        imm_percentage = np.append(imm_percentage, sample)\n",
        "    return imm_percentage\n",
        "\n",
        "percentages_in_resamples()"
      ],
      "execution_count": 35,
      "outputs": [
        {
          "output_type": "execute_result",
          "data": {
            "text/plain": [
              "array([51.33333333, 53.06666667, 48.93333333, ..., 54.4       ,\n",
              "       53.4       , 52.2       ])"
            ]
          },
          "metadata": {
            "tags": []
          },
          "execution_count": 35
        }
      ]
    },
    {
      "cell_type": "markdown",
      "metadata": {
        "id": "qY7b5iexlQ88"
      },
      "source": [
        "**Question 3:** Create a histogram of the calculated statistic for the 2,500 bootstrap estimates of the percentage of voters who voted for Imm Thai.\n",
        "\n",
        "**Note:** Use the function created in **Question 2**."
      ]
    },
    {
      "cell_type": "code",
      "metadata": {
        "id": "BcPKntVZlQ8-",
        "outputId": "f4ee1f86-4183-4439-d7f6-b6147f0e987d",
        "colab": {
          "base_uri": "https://localhost:8080/",
          "height": 281
        }
      },
      "source": [
        "resampled_percentages = percentages_in_resamples()\n",
        "Table().with_column('Estimated Percentage', resampled_percentages).hist('Estimated Percentage')"
      ],
      "execution_count": 36,
      "outputs": [
        {
          "output_type": "display_data",
          "data": {
            "image/png": "[encoded data removed]",
            "text/plain": [
              "<Figure size 432x288 with 1 Axes>"
            ]
          },
          "metadata": {
            "tags": [],
            "needs_background": "light"
          }
        }
      ]
    },
    {
      "cell_type": "markdown",
      "metadata": {
        "id": "237gPN0hlQ9E"
      },
      "source": [
        "Based on what the original Thai restaurant percentages were, does the graph seem reasonable? \n",
        "\n",
        "YES!"
      ]
    },
    {
      "cell_type": "markdown",
      "metadata": {
        "id": "DPWJUAn-lQ9E"
      },
      "source": [
        "**Question 3:** Using the array `resampled_percentages`, find the values at the two edges of the middle 95% of the bootstrapped percentage estimates. (Compute the lower and upper ends of the interval, named `imm_lower_bound` and `imm_upper_bound`, respectively.)"
      ]
    },
    {
      "cell_type": "code",
      "metadata": {
        "id": "xoizKIK_lQ9F",
        "outputId": "37621852-beaf-4eeb-a52c-80cff06c9c0f",
        "colab": {
          "base_uri": "https://localhost:8080/"
        }
      },
      "source": [
        "imm_lower_bound = percentile(2.5, resampled_percentages)\n",
        "imm_upper_bound = percentile(97.5, resampled_percentages)\n",
        "print(\"imm_lower_bound:\", imm_lower_bound)\n",
        "print(\"imm_upper_bound:\", imm_upper_bound)"
      ],
      "execution_count": 37,
      "outputs": [
        {
          "output_type": "stream",
          "text": [
            "imm_lower_bound: 49.6\n",
            "imm_upper_bound: 54.400000000000006\n"
          ],
          "name": "stdout"
        }
      ]
    },
    {
      "cell_type": "markdown",
      "metadata": {
        "id": "XW6pIn38lQ-a"
      },
      "source": [
        "**Question 4:** The survey results seem to indicate that Imm Thai is beating all the other Thai restaurants combined among voters. We would like to use confidence intervals to determine a range of likely values for Imm Thai's true lead over all the other restaurants combined. The calculation for Imm Thai's lead over Lucky House, Thai Temple, and Thai Basil combined is:\n",
        "\n",
        "$$\\text{Imm Thai's % of the vote} - \\text{(Lucky House's % of the vote + Thai Temple's % of the vote + Thai Basil's % of the vote)}$$\n",
        "\n",
        "Define the function `one_resampled_difference` that returns **exactly one value** of Imm Thai's percentage lead over Lucky House, Thai Temple, and Thai Basil combined from one bootstrap sample of `tbl`."
      ]
    },
    {
      "cell_type": "code",
      "metadata": {
        "id": "Ebygce1AlQ-h"
      },
      "source": [
        "def one_resampled_difference(tbl):\n",
        "    bootstrap = tbl.sample()\n",
        "    imm_percentage = np.count_nonzero(bootstrap.where('Vote', 'Imm Thai').column('Vote'))/bootstrap.num_rows\n",
        "    lh_percentage = np.count_nonzero(bootstrap.where('Vote', 'Lucky House').column('Vote'))/bootstrap.num_rows\n",
        "    tt_percentage = np.count_nonzero(bootstrap.where('Vote', 'Thai Temple').column('Vote'))/bootstrap.num_rows\n",
        "    tb_percentage = np.count_nonzero(bootstrap.where('Vote', 'Thai Basil').column('Vote'))/bootstrap.num_rows\n",
        "    return imm_percentage - (lh_percentage + tt_percentage + tb_percentage)"
      ],
      "execution_count": 38,
      "outputs": []
    },
    {
      "cell_type": "markdown",
      "metadata": {
        "id": "kNji-aNflQ_f"
      },
      "source": [
        "**Question 5:**\n",
        "Write a function called `leads_in_resamples` that finds 2,500 bootstrapped estimates (the result of calling `one_resampled_difference`) of Imm Thai's lead over Lucky House, Thai Temple, and Thai Basil combined. **Plot a histogram** of the resulting samples. \n",
        "\n",
        "**Note:** Imm Thai's lead can be negative."
      ]
    },
    {
      "cell_type": "code",
      "metadata": {
        "id": "pbul41oilQ_h",
        "outputId": "9f660d62-282f-43a5-8f11-d3ab9d601eaa",
        "colab": {
          "base_uri": "https://localhost:8080/",
          "height": 395
        }
      },
      "source": [
        "def leads_in_resamples():\n",
        "    resampled_leads = []\n",
        "    for i in np.arange(2500):\n",
        "        bootstrap = votes.sample()\n",
        "        imm_percentage = np.count_nonzero(bootstrap.where('Vote', 'Imm Thai').column('Vote'))/bootstrap.num_rows\n",
        "        lh_percentage = np.count_nonzero(bootstrap.where('Vote', 'Lucky House').column('Vote'))/bootstrap.num_rows\n",
        "        tt_percentage = np.count_nonzero(bootstrap.where('Vote', 'Thai Temple').column('Vote'))/bootstrap.num_rows\n",
        "        tb_percentage = np.count_nonzero(bootstrap.where('Vote', 'Thai Basil').column('Vote'))/bootstrap.num_rows\n",
        "        difference = imm_percentage - (lh_percentage + tt_percentage + tb_percentage)\n",
        "        resampled_leads = np.append(resampled_leads, difference)\n",
        "    return resampled_leads\n",
        "\n",
        "sampled_leads = leads_in_resamples()\n",
        "Table().with_column('Estimated Lead', sampled_leads).hist('Estimated Lead')"
      ],
      "execution_count": 39,
      "outputs": [
        {
          "output_type": "display_data",
          "data": {
            "image/png": "[encoded data removed]",
            "text/plain": [
              "<Figure size 432x288 with 1 Axes>"
            ]
          },
          "metadata": {
            "tags": [],
            "needs_background": "light"
          }
        }
      ]
    },
    {
      "cell_type": "markdown",
      "metadata": {
        "id": "nj4DtB5vlQ_p"
      },
      "source": [
        "**Question 6:** Use the simulated data from Question 5 to compute an approximate 95% confidence interval for Imm Thai's true lead over Lucky House, Thai Temple, and Thai Basil combined.\n"
      ]
    },
    {
      "cell_type": "code",
      "metadata": {
        "id": "tli1iagKlQ_p",
        "outputId": "c5f86fc4-0eaa-4a25-f3b7-7d12fe43cdba",
        "colab": {
          "base_uri": "https://localhost:8080/"
        }
      },
      "source": [
        "diff_lower_bound = percentile(2.5, sampled_leads)\n",
        "diff_upper_bound = percentile(97.5, sampled_leads)\n",
        "print(\"Bootstrapped 95% confidence interval for Imm Thai's true lead over Lucky House, Thai Temple, and Thai Basil combined: [{:f}, {:f}]\".format(diff_lower_bound, diff_upper_bound))"
      ],
      "execution_count": 40,
      "outputs": [
        {
          "output_type": "stream",
          "text": [
            "Bootstrapped 95% confidence interval for Imm Thai's true lead over Lucky House, Thai Temple, and Thai Basil combined: [-0.010667, 0.088000]\n"
          ],
          "name": "stdout"
        }
      ]
    },
    {
      "cell_type": "markdown",
      "metadata": {
        "id": "gGbfGBNVlQ_z"
      },
      "source": [
        "## 2. Interpreting Confidence Intervals\n",
        "The staff computed the following 95% confidence interval for the percentage of Imm Thai voters: \n",
        "\n",
        "$$[49.40, 54.47]$$\n",
        "\n",
        "(Your answer may have been a bit different; that doesn't mean it was wrong!)\n",
        "\n",
        "**Question 1:** Can we say there is a 95% probability that the interval [49.40, 54.47] contains the true percentage of the population that votes for Imm Thai as the best Berkeley Thai restaurant? Answer \"yes\" or \"no\" and explain your reasoning. "
      ]
    },
    {
      "cell_type": "markdown",
      "metadata": {
        "id": "FRUFxLQglQ_2"
      },
      "source": [
        "No, the students are the population not the tested statistic. "
      ]
    },
    {
      "cell_type": "markdown",
      "metadata": {
        "id": "6NEWHn-4lQ_3"
      },
      "source": [
        "**Question 2:** The staff also created 70%, 90%, and 99% confidence intervals from the same sample, but we forgot to label which confidence interval represented which percentages! Match each confidence level (70%, 90%, 99%) with its corresponding interval in the cell below (e.g. __ % CI: [49.87, 54.0] $\\rightarrow$ replace the blank with one of the three confidence levels). **Then**, explain your thought process and how you came up with your answers.\n",
        "\n",
        "The intervals are below:\n",
        "\n",
        "* [49.87, 54.00]\n",
        "* [50.67, 53.27]\n",
        "* [48.80, 55.40]"
      ]
    },
    {
      "cell_type": "markdown",
      "metadata": {
        "id": "pqLkHJvIlQ_4"
      },
      "source": [
        "The difference between upper and lower bounds was matched to the appropriate confidence interval. The larger the confidence level, the less accurate the interval. Hence, the accuracies for [50.67, 53.27], [49.87, 54.00] and [48.80, 55.40] are 70%, 90% and 99% respectively."
      ]
    },
    {
      "cell_type": "markdown",
      "metadata": {
        "id": "tqyp26ItlQ_8"
      },
      "source": [
        "**Question 3:**\n",
        "Suppose we produced 5,000 new samples (each one a uniform random sample of 1,500 voters/students) from the population and created a 95% confidence interval from each one. Roughly how many of those 5,000 intervals do you expect will actually contain the true percentage of the population?\n",
        "\n",
        "Assign your answer to `true_percentage_intervals`."
      ]
    },
    {
      "cell_type": "code",
      "metadata": {
        "id": "UXS-AbKAlQ_9",
        "outputId": "bcaf24da-3788-4e1a-8c08-01bffcef360a",
        "colab": {
          "base_uri": "https://localhost:8080/"
        }
      },
      "source": [
        "true_percentage_intervals = 0.95 * 5000\n",
        "true_percentage_intervals"
      ],
      "execution_count": 42,
      "outputs": [
        {
          "output_type": "execute_result",
          "data": {
            "text/plain": [
              "4750.0"
            ]
          },
          "metadata": {
            "tags": []
          },
          "execution_count": 42
        }
      ]
    },
    {
      "cell_type": "markdown",
      "metadata": {
        "id": "j-r30UrTlRAF"
      },
      "source": [
        "Recall the second bootstrap confidence interval you created, which estimated Imm Thai's lead over Lucky House, Thai Temple, and Thai Basil combined. Among\n",
        "voters in the sample, Imm Thai's lead was 4%. The staff's 95% confidence interval for the true lead (in the population of all voters) was\n",
        "\n",
        "$$[-0.80, 8.80]$$\n",
        "\n",
        "Suppose we are interested in testing a simple yes-or-no question:\n",
        "\n",
        "> \"Is the percentage of votes for Imm Thai tied with the percentage of votes for Lucky House, Thai Temple, and Thai Basil combined?\"\n",
        "\n",
        "Our null hypothesis is that the percentages are equal, or equivalently, that Imm Thai's lead is exactly 0. Our alternative hypothesis is that Imm Thai's lead is not equal to 0.  In the questions below, don't compute any confidence interval yourself - use only the staff's 95% confidence interval.\n",
        "\n",
        "**Question 4:** Say we use a 5% P-value cutoff.  Do we reject the null, fail to reject the null, or are we unable to tell using our staff confidence interval?\n",
        "\n",
        "Assign `restaurants_tied` to the number corresponding to the correct answer.\n",
        "\n",
        "1. Reject the null / Data is consistent with the alternative hypothesis\n",
        "2. Fail to reject the null / Data is consistent with the null hypothesis\n",
        "3. Unable to tell using our staff confidence interval\n",
        "\n",
        "*Hint:* If you're confused, take a look at [this chapter](https://www.inferentialthinking.com/chapters/13/4/using-confidence-intervals.html) of the textbook."
      ]
    },
    {
      "cell_type": "code",
      "metadata": {
        "id": "k54KenZylRAH"
      },
      "source": [
        "restaurants_tied = 2"
      ],
      "execution_count": 43,
      "outputs": []
    },
    {
      "cell_type": "markdown",
      "metadata": {
        "id": "9LYH2y6QlRAP"
      },
      "source": [
        "**Question 5:**\n",
        "What if, instead, we use a P-value cutoff of 1%? Do we reject the null, fail to reject the null, or are we unable to tell using our staff confidence interval?\n",
        "\n",
        "Assign `cutoff_one_percent` to the number corresponding to the correct answer.\n",
        "\n",
        "1. Reject the null / Data is consistent with the alternative hypothesis\n",
        "2. Fail to reject the null / Data is consistent with the null hypothesis\n",
        "3. Unable to tell using our staff confidence interval"
      ]
    },
    {
      "cell_type": "code",
      "metadata": {
        "id": "QDJPljdLlRAR"
      },
      "source": [
        "cutoff_one_percent = 3"
      ],
      "execution_count": 44,
      "outputs": []
    },
    {
      "cell_type": "markdown",
      "metadata": {
        "id": "T-D_UC7zlRAc"
      },
      "source": [
        "**Question 6:**\n",
        "What if we use a P-value cutoff of 10%? Do we reject, fail to reject, or are we unable to tell using our confidence interval?\n",
        "\n",
        "Assign `cutoff_ten_percent` to the number corresponding to the correct answer.\n",
        "\n",
        "1. Reject the null / Data is consistent with the alternative hypothesis\n",
        "2. Fail to reject the null / Data is consistent with the null hypothesis\n",
        "3. Unable to tell using our staff confidence interval"
      ]
    },
    {
      "cell_type": "code",
      "metadata": {
        "id": "0D8qve3xlRAd"
      },
      "source": [
        "cutoff_ten_percent = 2"
      ],
      "execution_count": 45,
      "outputs": []
    }
  ]
}