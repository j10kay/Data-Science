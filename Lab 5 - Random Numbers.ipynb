{
  "nbformat": 4,
  "nbformat_minor": 0,
  "metadata": {
    "kernelspec": {
      "display_name": "Python 3",
      "language": "python",
      "name": "python3"
    },
    "language_info": {
      "codemirror_mode": {
        "name": "ipython",
        "version": 3
      },
      "file_extension": ".py",
      "mimetype": "text/x-python",
      "name": "python",
      "nbconvert_exporter": "python",
      "pygments_lexer": "ipython3",
      "version": "3.7.6"
    },
    "colab": {
      "name": "Lab 5 - September 17.ipynb",
      "provenance": [],
      "collapsed_sections": []
    }
  },
  "cells": [
    {
      "cell_type": "markdown",
      "metadata": {
        "id": "j9ot6klMdZ7F",
        "colab_type": "text"
      },
      "source": [
        "# Lab 5 - Randomness, Simulations, and Probabilities"
      ]
    },
    {
      "cell_type": "code",
      "metadata": {
        "id": "6jZcbum1dZ7G",
        "colab_type": "code",
        "colab": {
          "resources": {
            "http://localhost:8080/nbextensions/google.colab/files.js": {
              "data": "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",
              "ok": true,
              "headers": [
                [
                  "content-type",
                  "application/javascript"
                ]
              ],
              "status": 200,
              "status_text": ""
            }
          },
          "base_uri": "https://localhost:8080/",
          "height": 73
        },
        "outputId": "65c8d90b-25a1-4fb2-e0e7-d1005615a8cc"
      },
      "source": [
        "import pandas as pd\n",
        "import numpy as np \n",
        "import matplotlib\n",
        "%matplotlib inline\n",
        "import matplotlib.pyplot as plt\n",
        "from google.colab import files\n",
        "uploaded = files.upload()\n",
        "plt.style.use('fivethirtyeight')"
      ],
      "execution_count": null,
      "outputs": [
        {
          "output_type": "display_data",
          "data": {
            "text/html": [
              "\n",
              "     <input type=\"file\" id=\"files-181c69f4-3868-4134-b009-99649c542f8d\" name=\"files[]\" multiple disabled\n",
              "        style=\"border:none\" />\n",
              "     <output id=\"result-181c69f4-3868-4134-b009-99649c542f8d\">\n",
              "      Upload widget is only available when the cell has been executed in the\n",
              "      current browser session. Please rerun this cell to enable.\n",
              "      </output>\n",
              "      <script src=\"/nbextensions/google.colab/files.js\"></script> "
            ],
            "text/plain": [
              "<IPython.core.display.HTML object>"
            ]
          },
          "metadata": {
            "tags": []
          }
        },
        {
          "output_type": "stream",
          "text": [
            "Saving deck.csv to deck.csv\n"
          ],
          "name": "stdout"
        }
      ]
    },
    {
      "cell_type": "markdown",
      "metadata": {
        "id": "zE0bD0iUdZ7L",
        "colab_type": "text"
      },
      "source": [
        "## 1. Randomness using `np.random`\n",
        "\n",
        "**Randomization** is a method based on chance alone by which the individuals or items to be studied are assigned to a treatment group based on chance. Two primary reasons why randomization is used is to:\n",
        "\n",
        "    1) Minimize the differences among groups by equally distributing people with \n",
        "       particular characteristics among all the trial arms. \n",
        "    \n",
        "    2) Eliminate the presence of bias.\n",
        "\n",
        "The **np.random** library contains a wide variety of functions that can be used to randomize our data. There are many different functions we can use from this library. Documentation for all of the methods can be found here: https://docs.scipy.org/doc/numpy-1.14.0/reference/routines.random.html\n",
        "\n",
        "For this lab, we'll stick to using **`np.random.randint.()`** and **`np.random.choice()`**."
      ]
    },
    {
      "cell_type": "markdown",
      "metadata": {
        "id": "ZY1i8gIidZ7L",
        "colab_type": "text"
      },
      "source": [
        "**`np.random.choice.()`** picks one item at random from the given array. It is equally likely to pick any of the items. Run the cell below several times, and observe how the results change."
      ]
    },
    {
      "cell_type": "code",
      "metadata": {
        "id": "RRUwwYE7dZ7M",
        "colab_type": "code",
        "colab": {
          "base_uri": "https://localhost:8080/",
          "height": 35
        },
        "outputId": "863bbc64-7dfb-4295-d166-f9c2b524e1ec"
      },
      "source": [
        "nachos = ['cheese', 'salsa', 'both', 'neither']\n",
        "np.random.choice(nachos)"
      ],
      "execution_count": null,
      "outputs": [
        {
          "output_type": "execute_result",
          "data": {
            "application/vnd.google.colaboratory.intrinsic+json": {
              "type": "string"
            },
            "text/plain": [
              "'salsa'"
            ]
          },
          "metadata": {
            "tags": []
          },
          "execution_count": 4
        }
      ]
    },
    {
      "cell_type": "markdown",
      "metadata": {
        "id": "2jS5bYD6dZ7P",
        "colab_type": "text"
      },
      "source": [
        "To repeat this process multiple times, pass the **size** parameter in as an int `n` as the second argument to return `n` different random choices. By default, **`np.random.choice()`** samples **with replacement** ( but we can change that if we want to ) and returns an *array* of items. \n",
        "\n",
        "Run the next cell to see an example of sampling with replacement 10 times from the `nachos` array."
      ]
    },
    {
      "cell_type": "code",
      "metadata": {
        "id": "fMDyMpbJdZ7Q",
        "colab_type": "code",
        "colab": {
          "base_uri": "https://localhost:8080/",
          "height": 52
        },
        "outputId": "01ca46ba-d997-4017-87a6-0406b0460b0c"
      },
      "source": [
        "# Run this cell a couple times\n",
        "np.random.choice(nachos, size =10)"
      ],
      "execution_count": null,
      "outputs": [
        {
          "output_type": "execute_result",
          "data": {
            "text/plain": [
              "array(['neither', 'salsa', 'neither', 'salsa', 'cheese', 'neither',\n",
              "       'both', 'both', 'neither', 'salsa'], dtype='<U7')"
            ]
          },
          "metadata": {
            "tags": []
          },
          "execution_count": 5
        }
      ]
    },
    {
      "cell_type": "markdown",
      "metadata": {
        "id": "OQJPH2u0dZ7T",
        "colab_type": "text"
      },
      "source": [
        "The **size** parameter can be used to specify rows and colums, so we can create NxN or NxM arrays depending on what we're trying to do."
      ]
    },
    {
      "cell_type": "code",
      "metadata": {
        "id": "-N6reGkadZ7U",
        "colab_type": "code",
        "colab": {
          "base_uri": "https://localhost:8080/",
          "height": 69
        },
        "outputId": "d2e61fa6-a1e6-4447-c87d-ac4e8502567e"
      },
      "source": [
        "# Run this cell a couple times\n",
        "np.random.choice(nachos, size =[3,2])"
      ],
      "execution_count": null,
      "outputs": [
        {
          "output_type": "execute_result",
          "data": {
            "text/plain": [
              "array([['both', 'cheese'],\n",
              "       ['cheese', 'cheese'],\n",
              "       ['cheese', 'both']], dtype='<U7')"
            ]
          },
          "metadata": {
            "tags": []
          },
          "execution_count": 6
        }
      ]
    },
    {
      "cell_type": "markdown",
      "metadata": {
        "id": "sUJ4n8gwdZ7X",
        "colab_type": "text"
      },
      "source": [
        "Notice that using **`np.random.choice()`** is good when we are working with categorical data. When we're working with numerical data, we'll want to use **`np.random.randint()`**."
      ]
    },
    {
      "cell_type": "code",
      "metadata": {
        "id": "pHyhy3OkdZ7X",
        "colab_type": "code",
        "colab": {
          "base_uri": "https://localhost:8080/",
          "height": 35
        },
        "outputId": "1bc88d7e-e7da-435f-b9cb-9ba5ab305afa"
      },
      "source": [
        "# Run this cell a couple times\n",
        "np.random.randint(5)"
      ],
      "execution_count": null,
      "outputs": [
        {
          "output_type": "execute_result",
          "data": {
            "text/plain": [
              "0"
            ]
          },
          "metadata": {
            "tags": []
          },
          "execution_count": 7
        }
      ]
    },
    {
      "cell_type": "markdown",
      "metadata": {
        "id": "L_hiwEf9dZ7a",
        "colab_type": "text"
      },
      "source": [
        "Similar to **`np.random.choice()`**, **`np.random.randint()`** has parameters **high** and **size** as optional parameters. Note that **low** is inclusive and **high** is exclusive."
      ]
    },
    {
      "cell_type": "code",
      "metadata": {
        "id": "wzdyBXPgdZ7b",
        "colab_type": "code",
        "colab": {
          "base_uri": "https://localhost:8080/",
          "height": 35
        },
        "outputId": "e079cfb7-84b2-452c-ba2d-a4fec1d39835"
      },
      "source": [
        "# Run this cell a couple times\n",
        "one_to_five = np.random.randint(low = 5, high = 11, size = 3)\n",
        "one_to_five"
      ],
      "execution_count": null,
      "outputs": [
        {
          "output_type": "execute_result",
          "data": {
            "text/plain": [
              "array([ 9,  7, 10])"
            ]
          },
          "metadata": {
            "tags": []
          },
          "execution_count": 8
        }
      ]
    },
    {
      "cell_type": "markdown",
      "metadata": {
        "id": "rajHzESbdZ7e",
        "colab_type": "text"
      },
      "source": [
        "**Question 1:** Using **np.random.choice()**, write a function called `create_boggle_board` that generates a random boggle board. The function should have three parameteers: dxct, rows, columns. Dxct should be a list of all the letters of the alphabet, while rows and columns should the number of rows and columns on the board. Print out a sample boggle board using the function."
      ]
    },
    {
      "cell_type": "code",
      "metadata": {
        "id": "9TwxvW2VdZ7f",
        "colab_type": "code",
        "colab": {
          "base_uri": "https://localhost:8080/",
          "height": 104
        },
        "outputId": "527ccc82-cb15-48b8-e731-dd068b4f8090"
      },
      "source": [
        "def create_boggle_board(dxct, rows, columns):\n",
        "  return np.random.choice(dxct, size =[rows,columns])\n",
        "\n",
        "alphabets =  ['a', 'b', 'c', 'd', 'e', 'f', 'g', 'h', 'i', 'j', 'k', 'l', 'm', 'n', 'o', 'p', 'q', 'r', 's', 't', 'u', 'v', 'w', 'x', 'y', 'z']\n",
        "print(create_boggle_board(alphabets, 5, 5))\n"
      ],
      "execution_count": null,
      "outputs": [
        {
          "output_type": "stream",
          "text": [
            "[['n' 'j' 'x' 'l' 'o']\n",
            " ['l' 'c' 'w' 'e' 'b']\n",
            " ['x' 'j' 'l' 't' 'g']\n",
            " ['j' 'i' 'i' 'r' 'y']\n",
            " ['d' 'x' 'l' 'b' 'l']]\n"
          ],
          "name": "stdout"
        }
      ]
    },
    {
      "cell_type": "markdown",
      "metadata": {
        "id": "UlFupl8kdZ7i",
        "colab_type": "text"
      },
      "source": [
        "**Question 2:** Using **np.random.randint()**, generate an array called `one_to_seven` that contains 100 values between one and seven (inclusive), ie [1,7]. Then create a histogram displaying the distribution of the generated values. Your x-axis should be titled \"Values.\" Your y-axis should be titled \"Frequency.\" Your title should be \"Distribution of random values from 1 to 7.\""
      ]
    },
    {
      "cell_type": "code",
      "metadata": {
        "id": "qfwplM4ldZ7i",
        "colab_type": "code",
        "colab": {
          "base_uri": "https://localhost:8080/",
          "height": 325
        },
        "outputId": "cc4f80bd-06aa-4502-8e13-8a59f420740a"
      },
      "source": [
        "one_to_seven = np.random.randint(low = 1, high = 8, size = 100)\n",
        "plt.hist(one_to_seven, bins = 7, facecolor='red', edgecolor='black', linewidth=1.2)\n",
        "plt.xlabel('Values')\n",
        "plt.ylabel('Frequency')\n",
        "plt.title('Distribution of random values from 1 to 7')\n",
        "plt.show()"
      ],
      "execution_count": null,
      "outputs": [
        {
          "output_type": "display_data",
          "data": {
            "image/png": "[encoded data removed]",
            "text/plain": [
              "<Figure size 432x288 with 1 Axes>"
            ]
          },
          "metadata": {
            "tags": []
          }
        }
      ]
    },
    {
      "cell_type": "markdown",
      "metadata": {
        "id": "kj5DvCuwdZ7n",
        "colab_type": "text"
      },
      "source": [
        "## 2. Simulating with Descriptive Statistics\n",
        "\n",
        "**Simulation** is the process of using a computer to mimic a physical experiment. In this class, those experiments will almost invariably involve chance.\n",
        "\n",
        "Simulating involves four steps:\n",
        "\n",
        "    Step 1: What to Simulate \n",
        "   \n",
        "    Step 2: Simulating One Value\n",
        "   \n",
        "    Step 3: Number of Repetitions\n",
        "   \n",
        "    Step 4: Coding the Simulation\n",
        "    \n",
        "Let's do some simple simulations with some real-world examples."
      ]
    },
    {
      "cell_type": "markdown",
      "metadata": {
        "id": "PitsfW94dZ7o",
        "colab_type": "text"
      },
      "source": [
        "**Question 1:** Whammy time ! Write a program  to simulate a game of Whammy 'n' number of times. \n",
        "\n",
        "Your program should have three functions:\n",
        "    \n",
        "  1) The first function called `whammy_x_1` should create a random NxM grid from parameters \n",
        "     `whammy_prizes`, `rows`, and `columns`. `whammy_prizes`, and should \n",
        "     have the string values: 'Whammy',\"$100\", \"$500\", \"$1000\", \"$5000\", 'Whammy' \n",
        "     ( Yes, there are two whammy values ). This function should randomnly return one of the values on the grid.\n",
        "      \n",
        "  2) The second function called `whammy_x_n` should take the same parameters \n",
        "     as `whammy_x_1` with the addition of the parameter called `reps`. 'reps', \n",
        "     which stands for \"repitions\", will represent the number of times we want to run our \n",
        "     simulation.  This function should randomnly populate and return an array called \n",
        "     `whammy_results`,by calling `whammy_x_1` 'n' number of times, where 'n' is equal\n",
        "     to reps\n",
        "     \n",
        "  3) The third function called `whammy_bar_plot` should take the array returned \n",
        "     from the second function as a parameter. Using that array, create a bar plot\n",
        "     that shows the count ( or frequency ) of each possible value in he `whammy_results`\n",
        "     array. Your chart should have a title, a labeled x-axis and a labeled y-axis. Each bar on\n",
        "     your x-axis should have a label name. Your labels should accuretely convey the information\n",
        "     you're trying to communicate.\n",
        "\n",
        "\n",
        "When you call your second function, you can pass **1000** in for the number of simulations\n",
        "     \n",
        "**Note:** You can read up about the game Whammy at this link: https://gameshows.fandom.com/wiki/The_Whammy\n",
        "\n",
        "\n",
        "      "
      ]
    },
    {
      "cell_type": "code",
      "metadata": {
        "id": "ojDb3B65dZ7o",
        "colab_type": "code",
        "colab": {
          "base_uri": "https://localhost:8080/",
          "height": 343
        },
        "outputId": "955c6e49-fa2c-4f99-ff22-883d98efa476"
      },
      "source": [
        "def whammy_x_1(whammy_prizes, rows, columns):\n",
        "  whammy_grid = np.random.choice(whammy_prizes, size =[rows,columns])\n",
        "  return np.random.choice(whammy_grid.ravel())\n",
        "\n",
        "whammy_prizes = ['Whammy',\"$100\", \"$500\", \"$1000\", \"$5000\", 'Whammy']\n",
        "print(whammy_x_1(whammy_prizes, 5, 5))\n",
        "\n",
        "def whammy_x_n(whammy_prizes, rows, columns, reps):\n",
        "  whammy_results = [0 for x in range(reps)]\n",
        "  for index in range(len(whammy_results)):\n",
        "    whammy_results[index] = whammy_x_1(whammy_prizes, rows, columns)\n",
        "  return whammy_results\n",
        "\n",
        "whammy_x_1000 = whammy_x_n(whammy_prizes, 5, 5, 1000)\n",
        "\n",
        "def whammy_bar_plot(whammy_results):\n",
        "\n",
        "  results = list(set(whammy_results))\n",
        "  results_count = [whammy_results.count(x) for x in set(whammy_results)]\n",
        "  plt.bar(results, results_count, color='red', width=0.5, edgecolor='black', linewidth=1.5)\n",
        "  plt.xlabel(\"Choices\")\n",
        "  plt.ylabel('Frequency')\n",
        "  plt.title(\"Frequency of random whammy choices\")\n",
        "  plt.show\n",
        "\n",
        "whammy_bar_plot(whammy_x_1000)"
      ],
      "execution_count": null,
      "outputs": [
        {
          "output_type": "stream",
          "text": [
            "Whammy\n"
          ],
          "name": "stdout"
        },
        {
          "output_type": "display_data",
          "data": {
            "image/png": "[encoded data removed]",
            "text/plain": [
              "<Figure size 432x288 with 1 Axes>"
            ]
          },
          "metadata": {
            "tags": []
          }
        }
      ]
    },
    {
      "cell_type": "markdown",
      "metadata": {
        "id": "NJc077t-dZ7r",
        "colab_type": "text"
      },
      "source": [
        "**Question 2:** Whammy time again ! Modify your `whammy_prizes` array from Question 1 to  contain randomly generated values in between 1000 and 10000 (exclusive). Using the steps done in Question 1, randomnly populate the `whammy_results` array and plot the distribution of results using a histogram. Your code should be packaged in functions. Be sure to label **all** parts of your histogram properly. \n",
        "\n",
        "**Note:** Your bins can stride by **500** or **1000**, and the number of simulations you run should be **1000**."
      ]
    },
    {
      "cell_type": "code",
      "metadata": {
        "id": "FxkVVyyRdZ7t",
        "colab_type": "code",
        "colab": {
          "base_uri": "https://localhost:8080/",
          "height": 325
        },
        "outputId": "48d92aed-ef15-4bd7-9044-a68ac8b4c44e"
      },
      "source": [
        "import math \n",
        "\n",
        "whammy_prizes = list(np.random.randint(low=1000, high=10000, size=50))\n",
        "\n",
        "whammy_x_1000 = whammy_x_n(whammy_prizes, 10, 10, 1000)\n",
        "\n",
        "def whammy_hist_plot(whammy_results):\n",
        "  w = 1000\n",
        "  n = math.ceil((max(whammy_results) - min(whammy_results))/w)\n",
        "  plt.hist(whammy_results, bins = n, facecolor='red', edgecolor='black', linewidth=1.2)\n",
        "  plt.xlabel('Choices')\n",
        "  plt.ylabel('Frequency')\n",
        "  plt.title('Distribution of random whammy choices')\n",
        "  #plt.xticks(rotation=90)\n",
        "  plt.show()\n",
        "\n",
        "whammy_hist_plot(whammy_x_1000)"
      ],
      "execution_count": null,
      "outputs": [
        {
          "output_type": "display_data",
          "data": {
            "image/png": "[encoded data removed]",
            "text/plain": [
              "<Figure size 432x288 with 1 Axes>"
            ]
          },
          "metadata": {
            "tags": []
          }
        }
      ]
    },
    {
      "cell_type": "markdown",
      "metadata": {
        "id": "9-qLiPRNdZ7w",
        "colab_type": "text"
      },
      "source": [
        "## 3. Using Simulations to get Probabilities \n",
        "\n",
        "**Note:** Reading from Chapter 9.5 of the Computational and Inferential Textbook will make understanding this section simpler.\n",
        "\n",
        "A **probability** is a number that reflects the chance or likelihood that a particular event will occur.\n",
        "\n",
        "Probabilities can be understood in various ways, but in data science, probabilities will be understood as **relative frequencies**.The ways in which probabilities are calculated and combined are consistent across the different interpretations.\n",
        "\n",
        "By convention, probabilities are numbers between 0 and 1, or, equivalently, 0% and 100%. Impossible events have probability 0. Events that are certain have probability 1.\n",
        "\n",
        "Using a \"deck of cards\", lets ask some questions to understand probablities better.\n",
        "\n",
        "**Note:** A playing card has a \"suit\" (\"♠︎\", \"♣︎\", \"♥︎\", or \"♦︎\") and a \"rank\" (2 through 10, J, Q, K, or A).  There are 4 suits and 13 ranks, so there are $4 \\times 13 = 52$ different cards."
      ]
    },
    {
      "cell_type": "code",
      "metadata": {
        "id": "qug-xrk1dZ7w",
        "colab_type": "code",
        "colab": {
          "base_uri": "https://localhost:8080/",
          "height": 1000
        },
        "outputId": "7d99e193-07ed-4115-bfee-326dcf96cbd6"
      },
      "source": [
        "cards = pd.read_csv('deck.csv')\n",
        "suits = [\"♠︎\", \"♣︎\", \"♥︎\",\"♦︎\"]\n",
        "cards"
      ],
      "execution_count": null,
      "outputs": [
        {
          "output_type": "execute_result",
          "data": {
            "text/html": [
              "<div>\n",
              "<style scoped>\n",
              "    .dataframe tbody tr th:only-of-type {\n",
              "        vertical-align: middle;\n",
              "    }\n",
              "\n",
              "    .dataframe tbody tr th {\n",
              "        vertical-align: top;\n",
              "    }\n",
              "\n",
              "    .dataframe thead th {\n",
              "        text-align: right;\n",
              "    }\n",
              "</style>\n",
              "<table border=\"1\" class=\"dataframe\">\n",
              "  <thead>\n",
              "    <tr style=\"text-align: right;\">\n",
              "      <th></th>\n",
              "      <th>Rank</th>\n",
              "      <th>Suit</th>\n",
              "    </tr>\n",
              "  </thead>\n",
              "  <tbody>\n",
              "    <tr>\n",
              "      <th>0</th>\n",
              "      <td>2</td>\n",
              "      <td>♠︎</td>\n",
              "    </tr>\n",
              "    <tr>\n",
              "      <th>1</th>\n",
              "      <td>2</td>\n",
              "      <td>♣︎</td>\n",
              "    </tr>\n",
              "    <tr>\n",
              "      <th>2</th>\n",
              "      <td>2</td>\n",
              "      <td>♥︎</td>\n",
              "    </tr>\n",
              "    <tr>\n",
              "      <th>3</th>\n",
              "      <td>2</td>\n",
              "      <td>♦︎</td>\n",
              "    </tr>\n",
              "    <tr>\n",
              "      <th>4</th>\n",
              "      <td>3</td>\n",
              "      <td>♠︎</td>\n",
              "    </tr>\n",
              "    <tr>\n",
              "      <th>5</th>\n",
              "      <td>3</td>\n",
              "      <td>♣︎</td>\n",
              "    </tr>\n",
              "    <tr>\n",
              "      <th>6</th>\n",
              "      <td>3</td>\n",
              "      <td>♥︎</td>\n",
              "    </tr>\n",
              "    <tr>\n",
              "      <th>7</th>\n",
              "      <td>3</td>\n",
              "      <td>♦︎</td>\n",
              "    </tr>\n",
              "    <tr>\n",
              "      <th>8</th>\n",
              "      <td>4</td>\n",
              "      <td>♠︎</td>\n",
              "    </tr>\n",
              "    <tr>\n",
              "      <th>9</th>\n",
              "      <td>4</td>\n",
              "      <td>♣︎</td>\n",
              "    </tr>\n",
              "    <tr>\n",
              "      <th>10</th>\n",
              "      <td>4</td>\n",
              "      <td>♥︎</td>\n",
              "    </tr>\n",
              "    <tr>\n",
              "      <th>11</th>\n",
              "      <td>4</td>\n",
              "      <td>♦︎</td>\n",
              "    </tr>\n",
              "    <tr>\n",
              "      <th>12</th>\n",
              "      <td>5</td>\n",
              "      <td>♠︎</td>\n",
              "    </tr>\n",
              "    <tr>\n",
              "      <th>13</th>\n",
              "      <td>5</td>\n",
              "      <td>♣︎</td>\n",
              "    </tr>\n",
              "    <tr>\n",
              "      <th>14</th>\n",
              "      <td>5</td>\n",
              "      <td>♥︎</td>\n",
              "    </tr>\n",
              "    <tr>\n",
              "      <th>15</th>\n",
              "      <td>5</td>\n",
              "      <td>♦︎</td>\n",
              "    </tr>\n",
              "    <tr>\n",
              "      <th>16</th>\n",
              "      <td>6</td>\n",
              "      <td>♠︎</td>\n",
              "    </tr>\n",
              "    <tr>\n",
              "      <th>17</th>\n",
              "      <td>6</td>\n",
              "      <td>♣︎</td>\n",
              "    </tr>\n",
              "    <tr>\n",
              "      <th>18</th>\n",
              "      <td>6</td>\n",
              "      <td>♥︎</td>\n",
              "    </tr>\n",
              "    <tr>\n",
              "      <th>19</th>\n",
              "      <td>6</td>\n",
              "      <td>♦︎</td>\n",
              "    </tr>\n",
              "    <tr>\n",
              "      <th>20</th>\n",
              "      <td>7</td>\n",
              "      <td>♠︎</td>\n",
              "    </tr>\n",
              "    <tr>\n",
              "      <th>21</th>\n",
              "      <td>7</td>\n",
              "      <td>♣︎</td>\n",
              "    </tr>\n",
              "    <tr>\n",
              "      <th>22</th>\n",
              "      <td>7</td>\n",
              "      <td>♥︎</td>\n",
              "    </tr>\n",
              "    <tr>\n",
              "      <th>23</th>\n",
              "      <td>7</td>\n",
              "      <td>♦︎</td>\n",
              "    </tr>\n",
              "    <tr>\n",
              "      <th>24</th>\n",
              "      <td>8</td>\n",
              "      <td>♠︎</td>\n",
              "    </tr>\n",
              "    <tr>\n",
              "      <th>25</th>\n",
              "      <td>8</td>\n",
              "      <td>♣︎</td>\n",
              "    </tr>\n",
              "    <tr>\n",
              "      <th>26</th>\n",
              "      <td>8</td>\n",
              "      <td>♥︎</td>\n",
              "    </tr>\n",
              "    <tr>\n",
              "      <th>27</th>\n",
              "      <td>8</td>\n",
              "      <td>♦︎</td>\n",
              "    </tr>\n",
              "    <tr>\n",
              "      <th>28</th>\n",
              "      <td>9</td>\n",
              "      <td>♠︎</td>\n",
              "    </tr>\n",
              "    <tr>\n",
              "      <th>29</th>\n",
              "      <td>9</td>\n",
              "      <td>♣︎</td>\n",
              "    </tr>\n",
              "    <tr>\n",
              "      <th>30</th>\n",
              "      <td>9</td>\n",
              "      <td>♥︎</td>\n",
              "    </tr>\n",
              "    <tr>\n",
              "      <th>31</th>\n",
              "      <td>9</td>\n",
              "      <td>♦︎</td>\n",
              "    </tr>\n",
              "    <tr>\n",
              "      <th>32</th>\n",
              "      <td>10</td>\n",
              "      <td>♠︎</td>\n",
              "    </tr>\n",
              "    <tr>\n",
              "      <th>33</th>\n",
              "      <td>10</td>\n",
              "      <td>♣︎</td>\n",
              "    </tr>\n",
              "    <tr>\n",
              "      <th>34</th>\n",
              "      <td>10</td>\n",
              "      <td>♥︎</td>\n",
              "    </tr>\n",
              "    <tr>\n",
              "      <th>35</th>\n",
              "      <td>10</td>\n",
              "      <td>♦︎</td>\n",
              "    </tr>\n",
              "    <tr>\n",
              "      <th>36</th>\n",
              "      <td>J</td>\n",
              "      <td>♠︎</td>\n",
              "    </tr>\n",
              "    <tr>\n",
              "      <th>37</th>\n",
              "      <td>J</td>\n",
              "      <td>♣︎</td>\n",
              "    </tr>\n",
              "    <tr>\n",
              "      <th>38</th>\n",
              "      <td>J</td>\n",
              "      <td>♥︎</td>\n",
              "    </tr>\n",
              "    <tr>\n",
              "      <th>39</th>\n",
              "      <td>J</td>\n",
              "      <td>♦︎</td>\n",
              "    </tr>\n",
              "    <tr>\n",
              "      <th>40</th>\n",
              "      <td>Q</td>\n",
              "      <td>♠︎</td>\n",
              "    </tr>\n",
              "    <tr>\n",
              "      <th>41</th>\n",
              "      <td>Q</td>\n",
              "      <td>♣︎</td>\n",
              "    </tr>\n",
              "    <tr>\n",
              "      <th>42</th>\n",
              "      <td>Q</td>\n",
              "      <td>♥︎</td>\n",
              "    </tr>\n",
              "    <tr>\n",
              "      <th>43</th>\n",
              "      <td>Q</td>\n",
              "      <td>♦︎</td>\n",
              "    </tr>\n",
              "    <tr>\n",
              "      <th>44</th>\n",
              "      <td>K</td>\n",
              "      <td>♠︎</td>\n",
              "    </tr>\n",
              "    <tr>\n",
              "      <th>45</th>\n",
              "      <td>K</td>\n",
              "      <td>♣︎</td>\n",
              "    </tr>\n",
              "    <tr>\n",
              "      <th>46</th>\n",
              "      <td>K</td>\n",
              "      <td>♥︎</td>\n",
              "    </tr>\n",
              "    <tr>\n",
              "      <th>47</th>\n",
              "      <td>K</td>\n",
              "      <td>♦︎</td>\n",
              "    </tr>\n",
              "    <tr>\n",
              "      <th>48</th>\n",
              "      <td>A</td>\n",
              "      <td>♠︎</td>\n",
              "    </tr>\n",
              "    <tr>\n",
              "      <th>49</th>\n",
              "      <td>A</td>\n",
              "      <td>♣︎</td>\n",
              "    </tr>\n",
              "    <tr>\n",
              "      <th>50</th>\n",
              "      <td>A</td>\n",
              "      <td>♥︎</td>\n",
              "    </tr>\n",
              "    <tr>\n",
              "      <th>51</th>\n",
              "      <td>A</td>\n",
              "      <td>♦︎</td>\n",
              "    </tr>\n",
              "  </tbody>\n",
              "</table>\n",
              "</div>"
            ],
            "text/plain": [
              "   Rank Suit\n",
              "0     2   ♠︎\n",
              "1     2   ♣︎\n",
              "2     2   ♥︎\n",
              "3     2   ♦︎\n",
              "4     3   ♠︎\n",
              "5     3   ♣︎\n",
              "6     3   ♥︎\n",
              "7     3   ♦︎\n",
              "8     4   ♠︎\n",
              "9     4   ♣︎\n",
              "10    4   ♥︎\n",
              "11    4   ♦︎\n",
              "12    5   ♠︎\n",
              "13    5   ♣︎\n",
              "14    5   ♥︎\n",
              "15    5   ♦︎\n",
              "16    6   ♠︎\n",
              "17    6   ♣︎\n",
              "18    6   ♥︎\n",
              "19    6   ♦︎\n",
              "20    7   ♠︎\n",
              "21    7   ♣︎\n",
              "22    7   ♥︎\n",
              "23    7   ♦︎\n",
              "24    8   ♠︎\n",
              "25    8   ♣︎\n",
              "26    8   ♥︎\n",
              "27    8   ♦︎\n",
              "28    9   ♠︎\n",
              "29    9   ♣︎\n",
              "30    9   ♥︎\n",
              "31    9   ♦︎\n",
              "32   10   ♠︎\n",
              "33   10   ♣︎\n",
              "34   10   ♥︎\n",
              "35   10   ♦︎\n",
              "36    J   ♠︎\n",
              "37    J   ♣︎\n",
              "38    J   ♥︎\n",
              "39    J   ♦︎\n",
              "40    Q   ♠︎\n",
              "41    Q   ♣︎\n",
              "42    Q   ♥︎\n",
              "43    Q   ♦︎\n",
              "44    K   ♠︎\n",
              "45    K   ♣︎\n",
              "46    K   ♥︎\n",
              "47    K   ♦︎\n",
              "48    A   ♠︎\n",
              "49    A   ♣︎\n",
              "50    A   ♥︎\n",
              "51    A   ♦︎"
            ]
          },
          "metadata": {
            "tags": []
          },
          "execution_count": 44
        }
      ]
    },
    {
      "cell_type": "markdown",
      "metadata": {
        "id": "cAFsxMv2dZ70",
        "colab_type": "text"
      },
      "source": [
        "**Question 1:** Write a function that simulates drawing from a deck of 52 cards **once**, and answer the following question:\n",
        "        \n",
        "        What is the probability that you will draw a card with the suit \"♠︎\" and rank \"5\" ?\n",
        "        \n",
        "**Note:** Your answer should be a **single value**."
      ]
    },
    {
      "cell_type": "code",
      "metadata": {
        "id": "ANi2lVuQdZ70",
        "colab_type": "code",
        "colab": {
          "base_uri": "https://localhost:8080/",
          "height": 35
        },
        "outputId": "08fd8850-1153-4590-e863-44704110f3af"
      },
      "source": [
        "def draw_from_deck(deck):\n",
        "  rank_choice = np.random.choice([\"1\", \"2\", \"3\", \"4\", \"5\", \"6\", \"7\", \"8\", \"9\", \"10\", \"J\", \"Q\", \"K\", \"A\"])\n",
        "  suit_choice = np.random.choice([\"♠︎\", \"♣︎\", \"♥︎\",\"♦︎\"])\n",
        "  return rank_choice + suit_choice\n",
        "\n",
        "draw_from_deck(cards)\n",
        "# What is the probability that you will draw a card with the suit \"♠︎\" and rank \"5\" ? The probability of drawing card 5♠︎ from a deck of 52 cards is 1/52. "
      ],
      "execution_count": null,
      "outputs": [
        {
          "output_type": "execute_result",
          "data": {
            "application/vnd.google.colaboratory.intrinsic+json": {
              "type": "string"
            },
            "text/plain": [
              "'A♦︎'"
            ]
          },
          "metadata": {
            "tags": []
          },
          "execution_count": 59
        }
      ]
    },
    {
      "cell_type": "markdown",
      "metadata": {
        "id": "Rli3jlgSdZ73",
        "colab_type": "text"
      },
      "source": [
        "**Question 2:** Write a function that simulates drawing from a deck of 52 cards **4 times without replacement**, and answer the following question:\n",
        "        \n",
        "        What is the probability that you will draw a card with suit \"♣︎\" ?\n",
        "        \n",
        "**Note:** Your answer should be a **table** with 2 columns and four rows. The column names should be \"Draw\" and \"Probability\", and should show the probability of drawing rank '10' on the corresponding draw."
      ]
    },
    {
      "cell_type": "code",
      "metadata": {
        "id": "xpssDujYdZ74",
        "colab_type": "code",
        "colab": {
          "base_uri": "https://localhost:8080/",
          "height": 171
        },
        "outputId": "33ce2b9b-4167-4ab9-f86d-64e23b20df43"
      },
      "source": [
        "def draw_from_deck_without_replacement(deck, number_of_draws):\n",
        "\n",
        "  data = {}\n",
        "\n",
        "  for i in range(number_of_draws):\n",
        "    rank_choice = np.random.choice(deck['Rank'])\n",
        "    suit_choice = np.random.choice(deck['Suit'])\n",
        "    draw = rank_choice+suit_choice\n",
        "    rank_counts = deck['Rank'].value_counts().to_dict()\n",
        "    probability = rank_counts['10']/len(deck)\n",
        "    data[i] = [draw, probability]\n",
        "    rank_index = deck.index[deck['Rank'] == rank_choice].tolist() \n",
        "    suit_index = deck.index[deck['Suit'] == suit_choice].tolist()\n",
        "    relevant_index = set(rank_index).intersection(set(suit_index))\n",
        "    relevant_index = list(relevant_index)[0]\n",
        "    deck = deck.drop(index=relevant_index)\n",
        "\n",
        "  return pd.DataFrame.from_dict(data, orient='index', columns=['Draw', 'Probability'])\n",
        "\n",
        "new_deck = cards\n",
        "draw_from_deck_without_replacement(cards, 4)\n",
        "# What is the probability that you will draw a card with suit \"♣︎\" ? The probability of drawing a card with suit \"♣︎\" from a deck of 52 cards is 13/52 which is simplified as 1/4. "
      ],
      "execution_count": null,
      "outputs": [
        {
          "output_type": "execute_result",
          "data": {
            "text/html": [
              "<div>\n",
              "<style scoped>\n",
              "    .dataframe tbody tr th:only-of-type {\n",
              "        vertical-align: middle;\n",
              "    }\n",
              "\n",
              "    .dataframe tbody tr th {\n",
              "        vertical-align: top;\n",
              "    }\n",
              "\n",
              "    .dataframe thead th {\n",
              "        text-align: right;\n",
              "    }\n",
              "</style>\n",
              "<table border=\"1\" class=\"dataframe\">\n",
              "  <thead>\n",
              "    <tr style=\"text-align: right;\">\n",
              "      <th></th>\n",
              "      <th>Draw</th>\n",
              "      <th>Probability</th>\n",
              "    </tr>\n",
              "  </thead>\n",
              "  <tbody>\n",
              "    <tr>\n",
              "      <th>0</th>\n",
              "      <td>2♠︎</td>\n",
              "      <td>0.076923</td>\n",
              "    </tr>\n",
              "    <tr>\n",
              "      <th>1</th>\n",
              "      <td>Q♠︎</td>\n",
              "      <td>0.078431</td>\n",
              "    </tr>\n",
              "    <tr>\n",
              "      <th>2</th>\n",
              "      <td>7♦︎</td>\n",
              "      <td>0.080000</td>\n",
              "    </tr>\n",
              "    <tr>\n",
              "      <th>3</th>\n",
              "      <td>J♥︎</td>\n",
              "      <td>0.081633</td>\n",
              "    </tr>\n",
              "  </tbody>\n",
              "</table>\n",
              "</div>"
            ],
            "text/plain": [
              "  Draw  Probability\n",
              "0  2♠︎     0.076923\n",
              "1  Q♠︎     0.078431\n",
              "2  7♦︎     0.080000\n",
              "3  J♥︎     0.081633"
            ]
          },
          "metadata": {
            "tags": []
          },
          "execution_count": 108
        }
      ]
    },
    {
      "cell_type": "markdown",
      "metadata": {
        "id": "SYXm0QeydZ76",
        "colab_type": "text"
      },
      "source": [
        "**Question 3:** Write a function that simulates drawing from a deck of 52 cards **10 times without replacement**, and answer the following question:\n",
        "        \n",
        "        What is the probability that you will draw a card with suit \"♥︎\" and \"♦︎\"?\n",
        "\n",
        "**Note:** Your answer should be a **table** with 2 columns and 10 rows. The column names should be \"Draw\" and \"Probability\", and should show the probability of drawing suit \"♥︎\" or \"♦︎\" on the corresponding draw."
      ]
    },
    {
      "cell_type": "code",
      "metadata": {
        "id": "MgjHA9f8dZ77",
        "colab_type": "code",
        "colab": {
          "base_uri": "https://localhost:8080/",
          "height": 355
        },
        "outputId": "15fd4e84-66cf-46d6-dfbb-347587ef3fba"
      },
      "source": [
        "def draw_from_deck_without_replacement(deck, number_of_draws):\n",
        "\n",
        "  data = {}\n",
        "\n",
        "  for i in range(number_of_draws):\n",
        "    rank_choice = np.random.choice(deck['Rank'])\n",
        "    suit_choice = np.random.choice(deck['Suit'])\n",
        "    draw = rank_choice+suit_choice\n",
        "    suit_counts = deck['Suit'].value_counts().to_dict()\n",
        "    probability = (suit_counts['♥︎'] + suit_counts['♦︎'])/len(deck)\n",
        "    data[i] = [draw, probability]\n",
        "    rank_index = deck.index[deck['Rank'] == rank_choice].tolist() \n",
        "    suit_index = deck.index[deck['Suit'] == suit_choice].tolist()\n",
        "    relevant_index = set(rank_index).intersection(set(suit_index))\n",
        "    relevant_index = list(relevant_index)[0]\n",
        "    deck = deck.drop(index=relevant_index)\n",
        "\n",
        "  return pd.DataFrame.from_dict(data, orient='index', columns=['Draw', 'Probability'])\n",
        "\n",
        "new_deck = cards\n",
        "draw_from_deck_without_replacement(cards, 10)\n",
        "# What is the probability that you will draw a card with suit \"♥︎\" and \"♦︎\"? The probability of drawing a card from both suits is 0.\n",
        "# What is the probability that you will draw a card with suit \"♥︎\" or \"♦︎\"? The probability of drawing a card from either suit out of a deck of 52 is 26/52 which is simplified as 1/2."
      ],
      "execution_count": null,
      "outputs": [
        {
          "output_type": "execute_result",
          "data": {
            "text/html": [
              "<div>\n",
              "<style scoped>\n",
              "    .dataframe tbody tr th:only-of-type {\n",
              "        vertical-align: middle;\n",
              "    }\n",
              "\n",
              "    .dataframe tbody tr th {\n",
              "        vertical-align: top;\n",
              "    }\n",
              "\n",
              "    .dataframe thead th {\n",
              "        text-align: right;\n",
              "    }\n",
              "</style>\n",
              "<table border=\"1\" class=\"dataframe\">\n",
              "  <thead>\n",
              "    <tr style=\"text-align: right;\">\n",
              "      <th></th>\n",
              "      <th>Draw</th>\n",
              "      <th>Probability</th>\n",
              "    </tr>\n",
              "  </thead>\n",
              "  <tbody>\n",
              "    <tr>\n",
              "      <th>0</th>\n",
              "      <td>Q♣︎</td>\n",
              "      <td>0.500000</td>\n",
              "    </tr>\n",
              "    <tr>\n",
              "      <th>1</th>\n",
              "      <td>2♠︎</td>\n",
              "      <td>0.509804</td>\n",
              "    </tr>\n",
              "    <tr>\n",
              "      <th>2</th>\n",
              "      <td>10♠︎</td>\n",
              "      <td>0.520000</td>\n",
              "    </tr>\n",
              "    <tr>\n",
              "      <th>3</th>\n",
              "      <td>3♣︎</td>\n",
              "      <td>0.530612</td>\n",
              "    </tr>\n",
              "    <tr>\n",
              "      <th>4</th>\n",
              "      <td>8♣︎</td>\n",
              "      <td>0.541667</td>\n",
              "    </tr>\n",
              "    <tr>\n",
              "      <th>5</th>\n",
              "      <td>8♥︎</td>\n",
              "      <td>0.553191</td>\n",
              "    </tr>\n",
              "    <tr>\n",
              "      <th>6</th>\n",
              "      <td>5♦︎</td>\n",
              "      <td>0.543478</td>\n",
              "    </tr>\n",
              "    <tr>\n",
              "      <th>7</th>\n",
              "      <td>J♦︎</td>\n",
              "      <td>0.533333</td>\n",
              "    </tr>\n",
              "    <tr>\n",
              "      <th>8</th>\n",
              "      <td>J♠︎</td>\n",
              "      <td>0.522727</td>\n",
              "    </tr>\n",
              "    <tr>\n",
              "      <th>9</th>\n",
              "      <td>10♣︎</td>\n",
              "      <td>0.534884</td>\n",
              "    </tr>\n",
              "  </tbody>\n",
              "</table>\n",
              "</div>"
            ],
            "text/plain": [
              "   Draw  Probability\n",
              "0   Q♣︎     0.500000\n",
              "1   2♠︎     0.509804\n",
              "2  10♠︎     0.520000\n",
              "3   3♣︎     0.530612\n",
              "4   8♣︎     0.541667\n",
              "5   8♥︎     0.553191\n",
              "6   5♦︎     0.543478\n",
              "7   J♦︎     0.533333\n",
              "8   J♠︎     0.522727\n",
              "9  10♣︎     0.534884"
            ]
          },
          "metadata": {
            "tags": []
          },
          "execution_count": 112
        }
      ]
    },
    {
      "cell_type": "markdown",
      "metadata": {
        "id": "joLk9XH_dZ79",
        "colab_type": "text"
      },
      "source": [
        "**Question 4:** Write a function that simulates drawing from a deck of 52 cards **1000 times with replacement**, and answer the following question:\n",
        "\n",
        "        What is the probability that you will draw a card with a rank between 2 and 10 ( inclusive ) ?\n",
        "        \n",
        "**Note:** Your answer should be a a **histogram** and should show the frequency distribution of the values between 2 and 10 ( inclusive ). Be sure to label **all** parts of your histogram properly. "
      ]
    },
    {
      "cell_type": "code",
      "metadata": {
        "id": "qzME-6FGdZ7-",
        "colab_type": "code",
        "colab": {
          "base_uri": "https://localhost:8080/",
          "height": 325
        },
        "outputId": "8ac389c4-28b3-4b03-c5d8-d4b673446ee2"
      },
      "source": [
        "def draw_from_deck_with_replacement(deck, number_of_draws):\n",
        "  draws = []\n",
        "  rank_frequency = {}\n",
        "  unwanted_ranks = {'A', 'J', 'K', 'Q'}\n",
        "\n",
        "  for i in range(number_of_draws):\n",
        "    rank_choice = np.random.choice(deck['Rank'])\n",
        "    suit_choice = np.random.choice(deck['Suit'])\n",
        "    draw = rank_choice+suit_choice\n",
        "    if rank_choice not in unwanted_ranks:\n",
        "      draws.append(int(rank_choice))\n",
        "      if rank_choice in rank_frequency:\n",
        "        rank_frequency[rank_choice] += 1\n",
        "      else:\n",
        "        rank_frequency[rank_choice] = 1\n",
        "\n",
        "  draws.sort()\n",
        "  plt.hist(draws, bins=8, facecolor='red', edgecolor='black', linewidth=1.2)\n",
        "  plt.xlabel('Ranks')\n",
        "  plt.ylabel('Frequency')\n",
        "  plt.title('Frequency distribuion of choices')\n",
        "  #plt.xticks(rotation=90)\n",
        "  plt.show()\n",
        "\n",
        "new_deck = cards\n",
        "draw_from_deck_with_replacement(cards, 1000)\n",
        "# What is the probability that you will draw a card with a rank between 2 and 10 (inclusive)? The probability of drawing a card from the relevant rank is 36/52 which is 9/13 when simplified."
      ],
      "execution_count": null,
      "outputs": [
        {
          "output_type": "display_data",
          "data": {
            "image/png": "[encoded data removed]",
            "text/plain": [
              "<Figure size 432x288 with 1 Axes>"
            ]
          },
          "metadata": {
            "tags": []
          }
        }
      ]
    },
    {
      "cell_type": "markdown",
      "metadata": {
        "id": "JhBrs0sVdZ8B",
        "colab_type": "text"
      },
      "source": [
        "**Question 5:** Write a function that simulates drawing from a deck of 52 cards **50 times with replacement** and answer the following question:\n",
        "\n",
        "        What is the probability that you will draw a card with a rank that is a letter (J, Q, K, A) ?\n",
        "        \n",
        "**Note:** You should have **two** answers: \n",
        "    \n",
        "   (1) The first should be a **table** with 2 columns and 50 rows. The column names should \n",
        "    be \"Draw\" and \"Probability\", and should show the probability of drawing rank with a letter on the corresponding draw.\n",
        "    \n",
        "   (2) The second should be a **scatterplot** of the table from answer (1)."
      ]
    },
    {
      "cell_type": "code",
      "metadata": {
        "id": "9Mh5MxcidZ8B",
        "colab_type": "code",
        "colab": {
          "base_uri": "https://localhost:8080/",
          "height": 1000
        },
        "outputId": "c6a1846d-76b0-42ea-a30e-d2533ffe4319"
      },
      "source": [
        "def draw_from_deck_with_replacement(deck, number_of_draws):\n",
        "\n",
        "  data = {}\n",
        "\n",
        "  for i in range(number_of_draws):\n",
        "    rank_choice = np.random.choice(deck['Rank'])\n",
        "    suit_choice = np.random.choice(deck['Suit'])\n",
        "    draw = rank_choice+suit_choice\n",
        "    rank_counts = deck['Rank'].value_counts().to_dict()\n",
        "    probability = (rank_counts['J'] + rank_counts['Q'] + rank_counts['K'] + rank_counts['A'])/len(deck)\n",
        "    data[i] = [draw, probability]\n",
        "\n",
        "  return pd.DataFrame.from_dict(data, orient='index', columns=['Draw', 'Probability'])\n",
        "\n",
        "new_deck = cards\n",
        "new_df = draw_from_deck_with_replacement(new_deck, 50)\n",
        "print(new_df)\n",
        "plt.scatter(new_df[\"Draw\"], new_df[\"Probability\"], c='red', alpha=0.5)\n",
        "plt.title('Draw and probability Correlation')\n",
        "plt.xlabel('Draw')\n",
        "plt.xticks(rotation=90)\n",
        "matplotlib.rc('xtick', labelsize=5) \n",
        "plt.ylabel('Probability')\n",
        "\n",
        "# What is the probability that you will draw a card with a rank that is a letter (J, Q, K, A)? The probability that you will draw a card in one of these suits is 16/52 which is 4/13 simplified. "
      ],
      "execution_count": null,
      "outputs": [
        {
          "output_type": "stream",
          "text": [
            "    Draw  Probability\n",
            "0    J♠︎     0.307692\n",
            "1    7♠︎     0.307692\n",
            "2    3♥︎     0.307692\n",
            "3    6♠︎     0.307692\n",
            "4   10♦︎     0.307692\n",
            "5    2♥︎     0.307692\n",
            "6    9♠︎     0.307692\n",
            "7    7♣︎     0.307692\n",
            "8    4♥︎     0.307692\n",
            "9    J♣︎     0.307692\n",
            "10   Q♣︎     0.307692\n",
            "11   5♣︎     0.307692\n",
            "12   8♣︎     0.307692\n",
            "13  10♦︎     0.307692\n",
            "14   9♦︎     0.307692\n",
            "15   A♥︎     0.307692\n",
            "16   5♠︎     0.307692\n",
            "17   K♥︎     0.307692\n",
            "18   J♦︎     0.307692\n",
            "19   Q♣︎     0.307692\n",
            "20   5♥︎     0.307692\n",
            "21   K♠︎     0.307692\n",
            "22   Q♥︎     0.307692\n",
            "23   8♠︎     0.307692\n",
            "24   4♠︎     0.307692\n",
            "25   5♥︎     0.307692\n",
            "26   4♣︎     0.307692\n",
            "27   6♠︎     0.307692\n",
            "28   2♠︎     0.307692\n",
            "29   A♥︎     0.307692\n",
            "30   2♦︎     0.307692\n",
            "31   6♦︎     0.307692\n",
            "32   9♣︎     0.307692\n",
            "33   Q♣︎     0.307692\n",
            "34   8♣︎     0.307692\n",
            "35   6♠︎     0.307692\n",
            "36   7♦︎     0.307692\n",
            "37   8♠︎     0.307692\n",
            "38   4♦︎     0.307692\n",
            "39   4♣︎     0.307692\n",
            "40   9♣︎     0.307692\n",
            "41   A♥︎     0.307692\n",
            "42   4♥︎     0.307692\n",
            "43   8♥︎     0.307692\n",
            "44   8♦︎     0.307692\n",
            "45   6♣︎     0.307692\n",
            "46   2♠︎     0.307692\n",
            "47   A♠︎     0.307692\n",
            "48   A♦︎     0.307692\n",
            "49   6♣︎     0.307692\n"
          ],
          "name": "stdout"
        },
        {
          "output_type": "execute_result",
          "data": {
            "text/plain": [
              "Text(0, 0.5, 'Probability')"
            ]
          },
          "metadata": {
            "tags": []
          },
          "execution_count": 151
        },
        {
          "output_type": "display_data",
          "data": {
            "image/png": "[encoded data removed]",
            "text/plain": [
              "<Figure size 432x288 with 1 Axes>"
            ]
          },
          "metadata": {
            "tags": []
          }
        }
      ]
    }
  ]
}