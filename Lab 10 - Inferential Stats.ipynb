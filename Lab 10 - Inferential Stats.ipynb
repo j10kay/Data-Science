{
  "nbformat": 4,
  "nbformat_minor": 0,
  "metadata": {
    "kernelspec": {
      "display_name": "Python 3",
      "language": "python",
      "name": "python3"
    },
    "language_info": {
      "codemirror_mode": {
        "name": "ipython",
        "version": 3
      },
      "file_extension": ".py",
      "mimetype": "text/x-python",
      "name": "python",
      "nbconvert_exporter": "python",
      "pygments_lexer": "ipython3",
      "version": "3.7.6"
    },
    "colab": {
      "name": "Lab 10 - October 15.ipynb",
      "provenance": [],
      "collapsed_sections": []
    }
  },
  "cells": [
    {
      "cell_type": "markdown",
      "metadata": {
        "id": "RNMpq0JWrV5t"
      },
      "source": [
        "# Lab 10: Testing Hypotheses\n",
        "\n",
        "Welcome to Lab 10 !\n",
        "\n",
        "After such an extensive introduction to programming for data science, we are finally moving into the section of the course where we can apply our new skils to answer real questions.  \n",
        "\n",
        "In this lab, we'll take a look again at probabilities with decks of cards followed by using testing techniques in the Chapter 11 to test the idea of the therapeutic touch, the idea that some practitioner can feel and massage your human energy field. \n",
        "\n",
        "Outline:\n",
        "\n",
        "     1: Assesing Jades Models\n",
        "    \n",
        "     2: Examining the Therapeutic Touch  \n",
        "    \n",
        "Run the cells below to get started."
      ]
    },
    {
      "cell_type": "code",
      "metadata": {
        "id": "iBWS5e7lrV5v",
        "outputId": "9042a68a-e967-47b3-c9c0-fc9bd39e594e",
        "colab": {
          "base_uri": "https://localhost:8080/",
          "height": 87
        }
      },
      "source": [
        "from datascience import *\n",
        "import pandas as pd\n",
        "import numpy as np \n",
        "import matplotlib\n",
        "%matplotlib inline\n",
        "import matplotlib.pyplot as plt\n",
        "plt.style.use('fivethirtyeight')"
      ],
      "execution_count": 2,
      "outputs": [
        {
          "output_type": "stream",
          "text": [
            "/usr/local/lib/python3.6/dist-packages/datascience/tables.py:17: MatplotlibDeprecationWarning: The 'warn' parameter of use() is deprecated since Matplotlib 3.1 and will be removed in 3.3.  If any parameter follows 'warn', they should be pass as keyword, not positionally.\n",
            "  matplotlib.use('agg', warn=False)\n",
            "/usr/local/lib/python3.6/dist-packages/datascience/util.py:10: MatplotlibDeprecationWarning: The 'warn' parameter of use() is deprecated since Matplotlib 3.1 and will be removed in 3.3.  If any parameter follows 'warn', they should be pass as keyword, not positionally.\n",
            "  matplotlib.use('agg', warn=False)\n"
          ],
          "name": "stderr"
        }
      ]
    },
    {
      "cell_type": "markdown",
      "metadata": {
        "id": "wW7KXKXmrV5z"
      },
      "source": [
        "## 1. Assessing Jade's Models\n",
        "#### Games with Jade\n",
        "\n",
        "Our friend Jade comes over and asks us to play a game with her. The game works like this: \n",
        "\n",
        "> We will draw randomly with replacement from a simplified 13 card deck with 4 face cards (A, J, Q, K), and 9 numbered cards (2, 3, 4, 5, 6, 7, 8, 9, 10). If we draw cards with replacement 13 times, and if the number of face cards is greater than or equal to 4, we lose.\n",
        "> \n",
        "> Otherwise, Jade wins.\n",
        "\n",
        "We play the game once and we lose, observing 8 total face cards. We are angry and accuse Jade of cheating! Jade is adamant, however, that the deck is fair.\n",
        "\n",
        "Jade's model claims that there is an equal chance of getting any of the cards (A, 2, 3, 4, 5, 6, 7, 8, 9, 10, J, Q, K), but we do not believe her. We believe that the deck is clearly rigged, with face cards (A, J, Q, K) being more likely than the numbered cards (2, 3, 4, 5, 6, 7, 8, 9, 10)."
      ]
    },
    {
      "cell_type": "markdown",
      "metadata": {
        "id": "NnhOtSl_rV50"
      },
      "source": [
        "**Question 1:** Assign `deck_model_probabilities` to a two-item array containing the chance of drawing a face card as the first element, and the chance of drawing a numbered card as the second element under Jade's model. Since we're working with probabilities, make sure your values are between 0 and 1. "
      ]
    },
    {
      "cell_type": "code",
      "metadata": {
        "id": "LFhpadoArV51",
        "outputId": "66d45f2e-1912-43df-f040-94191b7b0d70",
        "colab": {
          "base_uri": "https://localhost:8080/",
          "height": 35
        }
      },
      "source": [
        "face_cards = ('A', 'J', 'Q', 'K')\n",
        "numbered_cards = ('1', '2', '3', '4', '5', '6', '7', '8', '9')\n",
        "face_card_probability = len(face_cards)/(len(face_cards) + len(numbered_cards))\n",
        "numbered_card_probability = len(numbered_cards)/(len(face_cards) + len(numbered_cards))\n",
        "deck_model_probabilities = [face_card_probability, numbered_card_probability]\n",
        "deck_model_probabilities"
      ],
      "execution_count": 3,
      "outputs": [
        {
          "output_type": "execute_result",
          "data": {
            "text/plain": [
              "[0.3076923076923077, 0.6923076923076923]"
            ]
          },
          "metadata": {
            "tags": []
          },
          "execution_count": 3
        }
      ]
    },
    {
      "cell_type": "markdown",
      "metadata": {
        "id": "A1Q3VELkrV54"
      },
      "source": [
        "**Question 2:** We believe Jade's model is incorrect. In particular, we believe there to be a  larger chance of getting a face card. Which of the following statistics can we use during our simulation to test between the model and our alternative? Assign `statistic_choice` to the correct answer. \n",
        "\n",
        "1. The actual number of face cards we get in 13 draws\n",
        "2. The distance (absolute value) between the actual number of face cards in 13 draws and the expected number of face cards in 13 draws (4)\n",
        "3. The expected number of face cards in 13 draws (4)"
      ]
    },
    {
      "cell_type": "code",
      "metadata": {
        "id": "Fi8P9JnIrV55",
        "outputId": "273b9c20-dc03-4910-d7e3-5d436ae0e7c0",
        "colab": {
          "base_uri": "https://localhost:8080/",
          "height": 35
        }
      },
      "source": [
        "statistic_choice = 2\n",
        "statistic_choice"
      ],
      "execution_count": 4,
      "outputs": [
        {
          "output_type": "execute_result",
          "data": {
            "text/plain": [
              "2"
            ]
          },
          "metadata": {
            "tags": []
          },
          "execution_count": 4
        }
      ]
    },
    {
      "cell_type": "markdown",
      "metadata": {
        "id": "oIk2Xp9OrV57"
      },
      "source": [
        "**Question 3:** Define the function `deck_simulation_and_statistic`, which, given a sample size and an array of model proportions (like the one you created in Question 1), returns the number of face cards in one simulation of drawing a card under the model specified in `model_proportions`. "
      ]
    },
    {
      "cell_type": "code",
      "metadata": {
        "id": "dICuqTvTrV58",
        "outputId": "728c9378-e6bb-4dea-9d62-0a1b515765ee",
        "colab": {
          "base_uri": "https://localhost:8080/",
          "height": 35
        }
      },
      "source": [
        "def deck_simulation_and_statistic(sample_size, model_proportions):\n",
        "    return (sample_size * sample_proportions(sample_size, model_proportions)).item(0)\n",
        "\n",
        "deck_simulation_and_statistic(13, deck_model_probabilities)"
      ],
      "execution_count": 7,
      "outputs": [
        {
          "output_type": "execute_result",
          "data": {
            "text/plain": [
              "3.0"
            ]
          },
          "metadata": {
            "tags": []
          },
          "execution_count": 7
        }
      ]
    },
    {
      "cell_type": "markdown",
      "metadata": {
        "id": "cPwNpHozrV6E"
      },
      "source": [
        "**Question 4:** Use your function from above to simulate the drawing of 13 cards 5000 times under the proportions that you specified in Question 1. Keep track of all of your statistics in `deck_statistics`. "
      ]
    },
    {
      "cell_type": "code",
      "metadata": {
        "id": "5lU9YVzprV6F",
        "outputId": "1e173281-65b1-4cb0-a06d-d73afd724824",
        "colab": {
          "base_uri": "https://localhost:8080/",
          "height": 35
        }
      },
      "source": [
        "repetitions = 5000 \n",
        "deck_statistics = []\n",
        "for i in np.arange(repetitions):\n",
        "    deck_statistics = np.append(deck_statistics, deck_simulation_and_statistic(13, deck_model_probabilities))\n",
        "\n",
        "deck_statistics"
      ],
      "execution_count": 9,
      "outputs": [
        {
          "output_type": "execute_result",
          "data": {
            "text/plain": [
              "array([10.,  3.,  6., ...,  4.,  2.,  3.])"
            ]
          },
          "metadata": {
            "tags": []
          },
          "execution_count": 9
        }
      ]
    },
    {
      "cell_type": "code",
      "metadata": {
        "id": "Vo_8fX5mnQ0I",
        "outputId": "b36db4b6-ee69-49a3-9d79-91f6b3e1fed1",
        "colab": {
          "base_uri": "https://localhost:8080/",
          "height": 301
        }
      },
      "source": [
        "Table().with_column(\n",
        "    'Deck Statistics', deck_statistics\n",
        ").hist(bins = np.arange(0.0, 13.0, 1))"
      ],
      "execution_count": 11,
      "outputs": [
        {
          "output_type": "display_data",
          "data": {
            "image/png": "[encoded data removed]",
            "text/plain": [
              "<Figure size 432x288 with 1 Axes>"
            ]
          },
          "metadata": {
            "tags": []
          }
        }
      ]
    },
    {
      "cell_type": "markdown",
      "metadata": {
        "id": "nyOZ945srV6I"
      },
      "source": [
        "**Question 5:** Given your observed value, do you believe that Jade's model is reasonable, or is our alternative more likely? Explain your answer using the distribution drawn in the previous problem. "
      ]
    },
    {
      "cell_type": "markdown",
      "metadata": {
        "id": "O38Ut8GirV6I"
      },
      "source": [
        "I think Jade's model is very reasonable. With her model, we have an equal chance of drawing any card (1/13). The probability of drawing a face card then becomes 4/13. This essentially means that in 13 draws (with replacement), we should expect 4 face cards. Our simulation over 5000 iterations shows peak values of 4 and 5 face cards for 13 draws. This behavior is consistent with Jane's model. Additionally, we see from the plot above that is is unlikely but possible to select 8 face cards in a run of 13 draws so her model accounts for this possibility as well. Based on current findings, Jane's model holds. "
      ]
    },
    {
      "cell_type": "markdown",
      "metadata": {
        "id": "0sMJG0PWrV6J"
      },
      "source": [
        "## 2. Examining the Therapeutic Touch\n",
        "\n",
        "### What is the Therapeutic Touch\n",
        "\n",
        "The Therapeutic Touch (TT) is the idea that everyone can feel the Human Energy Field (HEF) around individuals.  Those who practice TT have described different people's HEFs as \"warm as Jell-O\" and \"tactile as taffy.\" \n",
        "\n",
        "TT was a popular technique used throughout the 20th century that was toted as a great way to bring balance to a person's health. Certain practitioners claim they have the ability to feel the HEF and can massage it in order to promote health and relaxation in individuals.\n",
        "\n",
        "### Emily Rosa\n",
        "\n",
        "[Emily Rosa](https://en.wikipedia.org/wiki/Emily_Rosa) was a 4th grade student who was very familiar with the world of TT, thanks to her parents, who were both medical practitioners and skeptics of TT.\n",
        "\n",
        "For her 4th grade science fair project, Emily decided to test whether or not TT practitioners could truly interact with a person's HEF. She later went on to p"
      ]
    },
    {
      "cell_type": "markdown",
      "metadata": {
        "id": "AtdFEndirV6K"
      },
      "source": [
        "### Emily's Experiment\n",
        "\n",
        "Emily's experiment was clean, simple, and effective. Due to her parents' occupations in the medical field, she had wide access to people who claimed to be TT practitioners. \n",
        "\n",
        "Emily took 21 TT practitioners and used them for her science experiment. She would take a TT practitioner and ask them to extend their hands through a screen (which they can't see through). Emily would be on the other side and would flip a fair coin. Depending on how the coin landed, she would put out either her left hand or her right hand. The TT practitioner would then have to answer which hand Emily put out. If a pracitioner could truly interact with a person's HEF, it would be expected that they answered correctly.\n",
        "\n",
        "Overall, through 210 samples, the practitioner picked the correct hand 44% of the time. \n",
        "\n",
        "Emily's main goal here was to test whether or not the TT practicioners' guesses were random, like the flip of a coin. In most medical experiments, this is the norm. We want to test whether or not the treatment has an effect, *not* whether or not the treatment actually works. \n",
        "\n",
        "We will now begin to formulate this experiment in terms of the terminology we learned in this course. "
      ]
    },
    {
      "cell_type": "markdown",
      "metadata": {
        "id": "gvvInoS1rV6L"
      },
      "source": [
        "**Question 1:** Describe Emily’s model for how likely the TT practitioners are to choose the correct hand. What alternative model is her model meant to discredit? Discuss with students around you to come to a conclusion. Check in with a TA or LA if you are stuck."
      ]
    },
    {
      "cell_type": "markdown",
      "metadata": {
        "id": "wxv7skijrV6M"
      },
      "source": [
        "Emily's model was that TT practitioners are just as likely to choose the correct hand as anyone else because the guesses are random/based on chance. Her model is opposing the alternative model that using TT give a better prediction rate than relying purely on chance."
      ]
    },
    {
      "cell_type": "markdown",
      "metadata": {
        "id": "k8Z_Pl4xrV6N"
      },
      "source": [
        "**Question 2:** Remember that the practitioner got the correct answer 44% (0.44) of the time. According to Emily's model, on average, what proportion of times do we expect the practitioner to guess the correct hand? Make sure your answer is between 0 and 1. "
      ]
    },
    {
      "cell_type": "code",
      "metadata": {
        "id": "_TpE_smtrV6P",
        "outputId": "5eba4f41-2879-4254-bb39-cf30527c8809",
        "colab": {
          "base_uri": "https://localhost:8080/",
          "height": 35
        }
      },
      "source": [
        "expected_proportion_correct = 1/2\n",
        "expected_proportion_correct"
      ],
      "execution_count": 13,
      "outputs": [
        {
          "output_type": "execute_result",
          "data": {
            "text/plain": [
              "0.5"
            ]
          },
          "metadata": {
            "tags": []
          },
          "execution_count": 13
        }
      ]
    },
    {
      "cell_type": "markdown",
      "metadata": {
        "id": "8-sV5HuJrV6W"
      },
      "source": [
        "The goal now is to see if our deviation from this expected proportion of correct answers is due to something other than chance. \n",
        "\n",
        "**Question 3:** We usually use a statistic to help determine which model the evidence points towards. What is a statistic that we can use to compare outcomes under Emily’s model to what was observed? Assign `valid_stat` to an array of integer(s) representing test statistics that Emily can use: \n",
        "\n",
        "1. The difference between the expected percent correct and the actual percent correct\n",
        "2. The absolute difference between the expected percent correct and the actual percent correct\n",
        "3. The sum of the expected percent correct and the actual percent correct\n"
      ]
    },
    {
      "cell_type": "code",
      "metadata": {
        "id": "ZEvII0IkrV6X",
        "outputId": "e610ab5a-0f81-4862-ff9d-aaf5e9cc39d9",
        "colab": {
          "base_uri": "https://localhost:8080/",
          "height": 35
        }
      },
      "source": [
        "valid_stat = [2]\n",
        "valid_stat"
      ],
      "execution_count": 14,
      "outputs": [
        {
          "output_type": "execute_result",
          "data": {
            "text/plain": [
              "[2]"
            ]
          },
          "metadata": {
            "tags": []
          },
          "execution_count": 14
        }
      ]
    },
    {
      "cell_type": "markdown",
      "metadata": {
        "id": "il_bhx5QrV6c"
      },
      "source": [
        "**Question 4:** Why is the statistic from Question 3 the best choice for comparing outcomes in Emily's experiment? How does it relate to the models you defined in question 1?"
      ]
    },
    {
      "cell_type": "markdown",
      "metadata": {
        "id": "gmIpuqA-rV6d"
      },
      "source": [
        "If the TT practioners make random guesses, the percent of correct predictions should be close to 50%. If TT truly has an effect on prediction, the percentage will move away from 50% in either direction.\n",
        "\n",
        "The key for us is the distance between TT prediction accuracy and the percent of correct guesses from random guesses. Big distances are evidence that TT has an effect on prediction."
      ]
    },
    {
      "cell_type": "markdown",
      "metadata": {
        "id": "qu-8j0nLrV6e"
      },
      "source": [
        "**Question 5:** Define the function `statistic` which takes in an expected proportion and an actual proportion, and returns the value of the statistic chosen in Question 3. Assume that the argument takes in proportions, but  return your answer as a percentage. \n",
        "\n",
        "*Hint:* Remember we are asking for a **percentage**, not a proportion. "
      ]
    },
    {
      "cell_type": "code",
      "metadata": {
        "id": "4qE-OsqdrV6g"
      },
      "source": [
        "def statistic(expected_prop, actual_prop):\n",
        "    return abs(100*(expected_prop - actual_prop))\n"
      ],
      "execution_count": 15,
      "outputs": []
    },
    {
      "cell_type": "markdown",
      "metadata": {
        "id": "daZ3HELkrV6l"
      },
      "source": [
        "**Question 6:** Use your newly defined function to calculate the observed statistic from Emily's experiment. "
      ]
    },
    {
      "cell_type": "code",
      "metadata": {
        "id": "yL2dpuRYrV6m",
        "outputId": "e90599e5-888a-4c78-befe-f12a864c4dc8",
        "colab": {
          "base_uri": "https://localhost:8080/",
          "height": 35
        }
      },
      "source": [
        "observed_statistic = statistic(0.50, 0.44)\n",
        "observed_statistic"
      ],
      "execution_count": 16,
      "outputs": [
        {
          "output_type": "execute_result",
          "data": {
            "text/plain": [
              "6.0"
            ]
          },
          "metadata": {
            "tags": []
          },
          "execution_count": 16
        }
      ]
    },
    {
      "cell_type": "markdown",
      "metadata": {
        "id": "QcXl_uz7rV6r"
      },
      "source": [
        "**Is this observed statistic consistent with what we might see under Emily’s model?**\n",
        "\n",
        "In order to answer this question, we must simulate the experiment as though Emily's model was correct, and calculate our statistic for every simulation.\n",
        "\n",
        "### `sample_proportions`\n",
        "\n",
        "`sample_proportions` is a function in the **datascience** package. It can be used to randomly sample from multiple categories when you know the proportion of data points that are expected to fall in each category. `sample_proportions` takes two arguments: the sample size and an array that contains the distribution of categories in the population (should sum to 1).\n",
        "\n",
        "Consider flipping a fair coin, where the two outcomes (coin lands heads and coin lands tails) occur with an equal chance. We expect that half of all coin flips will land heads, and half of all coin flips will land tails.\n",
        "\n",
        "Run the following cell to see the simulation of 10 flips of a fair coin. Let the first item of `coin_proportions` be the proportion of heads and the second item of `coin_proportions` be the proportion of tails."
      ]
    },
    {
      "cell_type": "code",
      "metadata": {
        "id": "RU9cpIAcrV6s",
        "outputId": "d11544e9-08ee-450d-cf1b-f8417658f670",
        "colab": {
          "base_uri": "https://localhost:8080/",
          "height": 35
        }
      },
      "source": [
        "coin_proportions = [0.5, 0.5]\n",
        "ten_flips = sample_proportions(10, coin_proportions)\n",
        "ten_flips"
      ],
      "execution_count": 22,
      "outputs": [
        {
          "output_type": "execute_result",
          "data": {
            "text/plain": [
              "array([0.7, 0.3])"
            ]
          },
          "metadata": {
            "tags": []
          },
          "execution_count": 22
        }
      ]
    },
    {
      "cell_type": "markdown",
      "metadata": {
        "id": "yAefK-ymrV6y"
      },
      "source": [
        "`sample_proportions` returns an array that is the same length as the proportion array that is passed through. It contains the proportion of each category that appears in the sample. \n",
        "\n",
        "In our example, the first item of `ten_flips` is the simulated proportion of heads and the second item of `ten_flips` is the simulated proportion of tails."
      ]
    },
    {
      "cell_type": "code",
      "metadata": {
        "id": "t1ZP2FiKrV6z",
        "outputId": "de6ea2f1-88e5-46f5-91d4-3eed83017186",
        "colab": {
          "base_uri": "https://localhost:8080/",
          "height": 35
        }
      },
      "source": [
        "simluated_proportion_heads = ten_flips[0]\n",
        "simluated_proportion_tails = ten_flips[1]\n",
        "\n",
        "print(\"In our simluation, \" + str(simluated_proportion_heads) + \" of flips were heads and \" \\\n",
        "     + str(simluated_proportion_tails) + \" of flips were tails.\")"
      ],
      "execution_count": 23,
      "outputs": [
        {
          "output_type": "stream",
          "text": [
            "In our simluation, 0.7 of flips were heads and 0.3 of flips were tails.\n"
          ],
          "name": "stdout"
        }
      ]
    },
    {
      "cell_type": "markdown",
      "metadata": {
        "id": "6gnURVQvrV64"
      },
      "source": [
        "**Question 7:** To begin simulating, we should start by creating a representation of Emily's model to use for our simulation. This will be an array with two items in it. The first item should be the proportion of times, assuming that Emily’s model was correct, a TT practictioner picks the correct hand. The second item should be the proportion of times, under the same assumption, that the TT practitioner picks the incorrect hand. Assign `model_proportions` to this array. \n",
        "\n",
        "After this, we can simulate 210 hand choices, as Emily evaluated in real life, and find a single statistic to summarize this instance of the simulation. Use the `sample_proportions` function and assign the proportion of correct hand choices (out of 210) to `simulation_proportion_correct`. Lastly, use your statistic function to assign `one_statistic`  to the value of the statistic for this one simulation."
      ]
    },
    {
      "cell_type": "code",
      "metadata": {
        "id": "XQjqc-9qrV65",
        "outputId": "6c95ca3c-1f2c-4942-9000-0cb5f0d53f20",
        "colab": {
          "base_uri": "https://localhost:8080/",
          "height": 35
        }
      },
      "source": [
        "model_proportions = [0.5, 0.5]\n",
        "simulation_proportion_correct = sample_proportions(210, model_proportions)\n",
        "one_statistic = statistic(model_proportions[0], simulation_proportion_correct[0])\n",
        "one_statistic"
      ],
      "execution_count": 37,
      "outputs": [
        {
          "output_type": "execute_result",
          "data": {
            "text/plain": [
              "2.857142857142858"
            ]
          },
          "metadata": {
            "tags": []
          },
          "execution_count": 37
        }
      ]
    },
    {
      "cell_type": "markdown",
      "metadata": {
        "id": "c6XF54MxrV6-"
      },
      "source": [
        "**Question 8:** Let's now see what the distribution of statistics is actually like under Emily's model. \n",
        "\n",
        "Define the function `simulation_and_statistic` to take in the `model_proportions` array and the expected proportion of times a TT practitioner would guess a hand correctly under Emily's model. The function should simulate Emily running through the experiment 210 times and return the statistic of this one simulation. \n",
        "\n",
        "*Hint:* This should follow the same pattern as the code you did in the previous problem.  "
      ]
    },
    {
      "cell_type": "code",
      "metadata": {
        "id": "TXcjwkV8rV6_"
      },
      "source": [
        "def simulation_and_statistic(model_proportions, expected_proportion_correct):\n",
        "    '''Simulates 210 TT hand choices under Emily’s model. \n",
        "    Returns one statistic from the simulation.'''\n",
        "    return statistic(model_proportions[0], expected_proportion_correct[0])"
      ],
      "execution_count": 38,
      "outputs": []
    },
    {
      "cell_type": "markdown",
      "metadata": {
        "id": "bHpdJyNJrV7C"
      },
      "source": [
        "Using this function, assign `simulated_statistics` to an array of 1000 statistics that you calculated under the assumption that Emily's model was true."
      ]
    },
    {
      "cell_type": "code",
      "metadata": {
        "id": "H5qJ5AcFrV7D",
        "outputId": "db04ab52-7d01-4869-f156-93d601df00b3",
        "colab": {
          "base_uri": "https://localhost:8080/",
          "height": 1000
        }
      },
      "source": [
        "num_repetitions = 1000\n",
        "\n",
        "simulated_statistics = []\n",
        "\n",
        "for i in np.arange(num_repetitions):\n",
        "    simulated_statistics = np.append(simulated_statistics, simulation_and_statistic(model_proportions, sample_proportions(210, model_proportions)))\n",
        "\n",
        "simulated_statistics"
      ],
      "execution_count": 41,
      "outputs": [
        {
          "output_type": "execute_result",
          "data": {
            "text/plain": [
              "array([ 2.38095238,  0.47619048,  0.        ,  2.38095238,  2.38095238,\n",
              "        3.80952381,  3.33333333,  1.9047619 ,  2.38095238,  1.9047619 ,\n",
              "        0.47619048,  0.47619048,  2.38095238,  6.19047619,  1.9047619 ,\n",
              "        6.19047619,  5.71428571,  4.76190476,  1.9047619 ,  3.33333333,\n",
              "        1.42857143,  2.85714286,  5.23809524,  2.38095238,  2.85714286,\n",
              "        0.95238095,  3.33333333,  4.76190476,  0.        ,  7.61904762,\n",
              "        6.19047619,  0.        ,  1.42857143,  0.        ,  1.42857143,\n",
              "        2.38095238,  0.95238095,  4.76190476,  2.38095238,  1.9047619 ,\n",
              "        1.9047619 ,  0.47619048,  1.42857143,  0.95238095,  0.95238095,\n",
              "        0.95238095,  4.76190476,  3.80952381,  0.95238095,  4.76190476,\n",
              "        4.76190476,  2.38095238,  4.76190476,  0.95238095,  0.47619048,\n",
              "        1.42857143,  0.95238095,  3.33333333,  0.47619048,  4.76190476,\n",
              "        2.38095238,  0.        ,  3.80952381,  5.71428571,  4.76190476,\n",
              "        4.76190476,  5.23809524,  0.95238095,  4.28571429,  6.66666667,\n",
              "        3.80952381,  0.95238095,  0.47619048,  0.47619048,  5.23809524,\n",
              "        5.71428571,  1.42857143,  0.95238095,  6.66666667,  4.76190476,\n",
              "        3.33333333,  0.        ,  4.28571429,  0.47619048,  4.28571429,\n",
              "        2.85714286,  1.42857143,  2.85714286,  5.23809524,  8.57142857,\n",
              "        3.80952381,  2.85714286,  0.        ,  4.76190476,  3.80952381,\n",
              "        1.9047619 ,  1.9047619 ,  7.61904762,  0.47619048,  2.85714286,\n",
              "        3.80952381,  1.42857143,  1.9047619 ,  0.95238095,  2.38095238,\n",
              "        1.9047619 ,  0.95238095,  1.42857143,  4.28571429,  1.9047619 ,\n",
              "        1.9047619 ,  0.95238095,  4.28571429,  1.9047619 ,  4.28571429,\n",
              "        4.76190476,  1.42857143,  2.38095238,  2.85714286,  0.95238095,\n",
              "        0.95238095,  5.23809524,  4.76190476,  7.61904762,  0.47619048,\n",
              "        2.38095238,  5.23809524,  0.95238095,  0.47619048,  0.47619048,\n",
              "        0.        ,  0.        ,  0.47619048,  3.33333333,  3.33333333,\n",
              "        6.19047619,  2.85714286,  3.33333333,  0.95238095,  2.38095238,\n",
              "        0.47619048,  0.47619048,  4.76190476,  7.61904762,  5.23809524,\n",
              "        6.66666667,  1.42857143,  0.47619048,  2.85714286,  0.95238095,\n",
              "        0.95238095,  3.33333333,  1.42857143,  0.95238095,  1.9047619 ,\n",
              "        1.42857143,  4.28571429,  2.38095238,  4.28571429,  1.42857143,\n",
              "        0.95238095,  1.9047619 ,  4.28571429,  2.38095238,  2.38095238,\n",
              "        7.14285714,  2.85714286,  2.85714286,  2.38095238,  4.28571429,\n",
              "        2.85714286,  2.38095238,  2.85714286,  0.95238095,  2.85714286,\n",
              "        1.42857143,  2.38095238,  1.42857143,  4.76190476,  0.95238095,\n",
              "        3.33333333,  1.9047619 ,  1.9047619 ,  2.38095238,  3.33333333,\n",
              "        2.38095238,  2.38095238,  0.95238095,  0.        ,  2.85714286,\n",
              "        0.95238095,  0.95238095,  2.38095238,  1.9047619 ,  1.42857143,\n",
              "        1.42857143,  1.42857143,  2.85714286,  3.33333333,  4.28571429,\n",
              "        2.85714286,  6.19047619,  1.42857143,  0.95238095,  3.80952381,\n",
              "        0.95238095,  1.42857143,  2.85714286,  1.9047619 ,  3.80952381,\n",
              "        1.9047619 ,  3.80952381,  5.71428571,  0.95238095,  2.38095238,\n",
              "        3.80952381,  0.47619048,  6.66666667,  3.80952381,  1.42857143,\n",
              "        0.95238095,  4.28571429,  2.38095238,  0.        ,  5.23809524,\n",
              "        2.38095238,  3.33333333,  2.85714286,  5.71428571,  2.85714286,\n",
              "        3.80952381,  1.9047619 ,  0.47619048,  1.42857143,  0.47619048,\n",
              "        0.95238095,  1.9047619 ,  3.33333333,  4.28571429,  4.76190476,\n",
              "        5.23809524,  2.85714286,  0.        ,  1.42857143,  5.23809524,\n",
              "        6.66666667,  2.38095238,  2.38095238,  6.19047619,  3.80952381,\n",
              "        2.85714286,  1.42857143,  1.9047619 ,  4.76190476,  4.76190476,\n",
              "        0.47619048,  1.42857143,  0.47619048,  0.47619048,  0.47619048,\n",
              "        2.38095238,  0.95238095,  0.        ,  8.0952381 ,  3.80952381,\n",
              "        0.47619048,  2.38095238,  4.76190476,  7.14285714,  3.33333333,\n",
              "        2.85714286,  3.80952381,  0.47619048,  0.47619048,  1.42857143,\n",
              "        0.95238095,  0.47619048,  4.28571429,  1.42857143,  9.04761905,\n",
              "        4.28571429,  0.95238095,  4.76190476,  1.9047619 ,  0.        ,\n",
              "        0.47619048,  3.33333333,  0.47619048,  3.80952381,  3.33333333,\n",
              "        5.71428571,  3.33333333,  1.42857143,  4.28571429,  0.47619048,\n",
              "        4.76190476,  3.33333333,  0.47619048,  8.57142857,  0.        ,\n",
              "        3.80952381,  4.76190476,  4.76190476,  5.71428571,  2.38095238,\n",
              "        1.9047619 ,  2.38095238,  3.80952381,  3.33333333,  1.9047619 ,\n",
              "        0.95238095,  3.33333333,  2.38095238,  7.14285714,  0.47619048,\n",
              "        3.33333333,  3.33333333,  2.85714286,  2.85714286,  5.23809524,\n",
              "        6.19047619,  2.38095238,  3.80952381,  0.47619048,  0.47619048,\n",
              "        4.28571429,  3.33333333,  0.        ,  2.85714286,  0.95238095,\n",
              "        2.85714286,  1.42857143,  4.76190476,  4.76190476,  1.42857143,\n",
              "        0.        ,  0.        ,  2.85714286,  5.23809524,  4.76190476,\n",
              "        3.33333333,  9.04761905,  7.14285714,  1.42857143,  2.85714286,\n",
              "        1.9047619 ,  0.        ,  0.47619048,  1.9047619 ,  1.42857143,\n",
              "        8.57142857,  2.85714286,  0.47619048,  7.14285714,  0.47619048,\n",
              "        4.28571429,  1.42857143,  5.71428571,  3.33333333,  1.9047619 ,\n",
              "        0.        ,  4.28571429,  4.28571429,  2.85714286,  6.66666667,\n",
              "        0.47619048,  0.        ,  4.28571429,  2.85714286,  2.85714286,\n",
              "        0.47619048,  0.47619048,  3.33333333,  3.80952381,  0.95238095,\n",
              "        5.23809524,  1.42857143,  3.33333333,  1.42857143,  3.33333333,\n",
              "        2.85714286,  7.61904762,  0.        ,  1.42857143,  0.95238095,\n",
              "        0.47619048,  4.28571429,  0.47619048,  6.66666667,  0.95238095,\n",
              "        1.9047619 ,  3.33333333,  4.28571429,  2.85714286,  0.        ,\n",
              "        5.23809524,  0.95238095,  0.        ,  6.19047619,  0.        ,\n",
              "        2.38095238,  0.95238095,  0.        ,  1.42857143,  2.38095238,\n",
              "        1.9047619 ,  7.14285714,  6.66666667,  4.28571429,  2.85714286,\n",
              "        2.38095238,  2.85714286,  2.85714286,  1.9047619 ,  3.80952381,\n",
              "        0.95238095,  1.42857143,  0.95238095,  5.23809524,  0.95238095,\n",
              "        3.80952381,  1.42857143,  4.76190476,  0.        ,  1.9047619 ,\n",
              "        3.33333333,  1.42857143,  2.38095238,  3.33333333,  0.        ,\n",
              "        4.76190476,  4.28571429,  1.42857143,  1.42857143,  3.33333333,\n",
              "        4.28571429,  2.38095238,  3.33333333,  3.80952381,  4.28571429,\n",
              "        2.85714286,  1.42857143,  2.85714286,  2.38095238,  1.42857143,\n",
              "        4.76190476,  0.47619048,  6.19047619,  4.28571429,  5.71428571,\n",
              "        0.47619048,  1.9047619 ,  5.23809524,  3.33333333,  3.33333333,\n",
              "        1.42857143,  5.71428571,  5.23809524,  0.95238095,  0.        ,\n",
              "        2.85714286,  2.85714286,  1.9047619 ,  6.19047619,  5.71428571,\n",
              "        7.61904762,  0.95238095,  3.80952381,  0.        ,  5.71428571,\n",
              "        6.19047619,  6.19047619,  0.47619048,  0.95238095,  3.33333333,\n",
              "        4.28571429,  7.61904762,  0.        ,  0.95238095,  3.80952381,\n",
              "        4.28571429,  0.95238095,  5.71428571,  0.95238095,  0.47619048,\n",
              "        4.28571429,  2.38095238,  5.23809524,  0.        ,  0.95238095,\n",
              "        0.95238095,  0.47619048,  1.42857143,  4.76190476,  3.80952381,\n",
              "        3.33333333,  1.9047619 ,  2.38095238,  5.23809524,  1.42857143,\n",
              "        1.9047619 ,  0.95238095,  2.85714286,  0.47619048,  1.42857143,\n",
              "        0.95238095,  2.85714286,  2.38095238,  3.80952381,  0.        ,\n",
              "        1.9047619 ,  1.9047619 ,  1.9047619 ,  3.80952381,  0.47619048,\n",
              "        0.95238095,  6.66666667,  0.95238095,  3.80952381,  0.95238095,\n",
              "        4.76190476,  2.85714286,  0.        ,  0.        ,  0.47619048,\n",
              "        0.47619048,  0.        ,  0.47619048,  2.85714286,  5.23809524,\n",
              "        3.80952381,  4.28571429,  6.19047619,  3.80952381,  0.47619048,\n",
              "        2.38095238,  4.76190476,  3.80952381,  0.47619048,  0.        ,\n",
              "        7.14285714,  0.95238095,  0.        ,  4.76190476,  0.        ,\n",
              "        5.71428571,  7.61904762,  5.23809524,  0.95238095,  5.23809524,\n",
              "        2.85714286,  1.9047619 ,  3.80952381,  2.85714286,  4.28571429,\n",
              "        2.85714286,  2.38095238,  1.9047619 ,  5.23809524,  3.33333333,\n",
              "        6.19047619,  2.38095238,  2.85714286,  1.9047619 ,  1.42857143,\n",
              "        1.9047619 ,  0.47619048,  1.42857143,  4.76190476,  4.76190476,\n",
              "        1.42857143,  0.47619048,  2.85714286,  5.23809524,  4.28571429,\n",
              "        3.80952381,  3.33333333,  0.        ,  0.47619048,  7.14285714,\n",
              "        2.85714286,  1.42857143,  2.38095238,  4.76190476,  2.85714286,\n",
              "        2.38095238,  4.28571429,  3.33333333,  5.71428571,  0.95238095,\n",
              "        3.80952381,  3.80952381,  0.95238095,  3.33333333,  3.80952381,\n",
              "        0.        ,  1.9047619 ,  1.42857143,  3.80952381,  3.80952381,\n",
              "        2.38095238,  3.33333333,  2.38095238,  0.95238095,  3.33333333,\n",
              "        1.9047619 ,  5.71428571,  0.47619048,  2.85714286,  3.33333333,\n",
              "        2.85714286,  1.9047619 ,  3.33333333,  3.33333333,  1.42857143,\n",
              "        3.33333333,  0.47619048,  1.42857143,  3.33333333,  4.76190476,\n",
              "        0.        ,  0.47619048,  2.38095238,  1.42857143,  2.38095238,\n",
              "        4.28571429,  2.85714286,  0.95238095,  2.85714286,  0.47619048,\n",
              "        0.95238095,  1.42857143,  1.42857143,  0.        ,  0.47619048,\n",
              "        6.19047619,  1.42857143,  0.47619048,  1.9047619 ,  2.38095238,\n",
              "        7.14285714,  0.47619048,  2.85714286,  2.85714286,  4.28571429,\n",
              "        4.76190476,  0.47619048,  0.        ,  6.66666667,  5.23809524,\n",
              "        7.14285714,  0.95238095,  5.71428571,  4.28571429,  4.28571429,\n",
              "        1.42857143,  5.23809524,  1.42857143,  5.71428571,  0.95238095,\n",
              "        2.85714286,  4.76190476,  0.        ,  3.80952381,  4.76190476,\n",
              "        0.        ,  5.23809524,  3.33333333,  5.71428571,  0.47619048,\n",
              "        1.42857143,  1.42857143,  4.76190476,  0.95238095,  0.47619048,\n",
              "        3.80952381,  4.28571429,  5.23809524,  0.47619048,  0.47619048,\n",
              "        3.33333333,  5.23809524,  2.85714286,  6.19047619,  3.80952381,\n",
              "        1.9047619 ,  0.95238095,  0.47619048,  3.80952381,  0.47619048,\n",
              "        0.95238095,  3.80952381,  0.        ,  2.38095238,  2.85714286,\n",
              "        0.        ,  0.47619048,  4.28571429,  3.33333333,  5.23809524,\n",
              "        5.23809524,  3.33333333,  0.95238095,  0.47619048,  0.95238095,\n",
              "        7.61904762,  3.33333333,  6.66666667,  7.61904762,  3.33333333,\n",
              "        1.42857143,  0.95238095,  2.85714286,  0.47619048,  0.47619048,\n",
              "        0.47619048,  2.38095238,  3.80952381,  3.33333333,  7.14285714,\n",
              "        0.47619048,  3.33333333,  5.23809524,  0.95238095,  6.19047619,\n",
              "        0.47619048,  0.47619048,  2.38095238,  1.42857143,  2.85714286,\n",
              "        7.14285714,  4.28571429,  3.80952381,  1.42857143,  4.76190476,\n",
              "        7.14285714,  3.80952381,  0.        ,  6.19047619,  2.38095238,\n",
              "        1.9047619 ,  0.47619048,  1.9047619 ,  6.66666667,  0.47619048,\n",
              "        0.        ,  0.47619048,  0.47619048,  2.38095238,  0.47619048,\n",
              "        0.95238095,  1.9047619 ,  4.28571429,  6.66666667,  0.95238095,\n",
              "        4.28571429,  0.47619048,  2.85714286,  0.        ,  1.9047619 ,\n",
              "        1.42857143,  0.        ,  8.57142857,  1.42857143,  8.0952381 ,\n",
              "        0.95238095,  3.33333333,  7.14285714,  1.9047619 ,  0.95238095,\n",
              "        5.71428571,  5.23809524,  1.42857143,  7.14285714,  2.38095238,\n",
              "        0.95238095,  0.95238095,  4.28571429,  2.85714286,  3.80952381,\n",
              "        0.        ,  4.76190476,  3.33333333,  2.85714286,  0.95238095,\n",
              "        0.95238095,  4.76190476,  2.38095238,  4.76190476,  3.80952381,\n",
              "        2.85714286,  1.9047619 ,  1.9047619 ,  1.42857143,  2.38095238,\n",
              "        0.95238095,  0.47619048,  1.42857143,  0.47619048,  0.47619048,\n",
              "        1.9047619 ,  5.23809524,  4.76190476,  1.42857143,  2.85714286,\n",
              "        0.47619048,  5.71428571,  1.9047619 ,  0.        ,  3.33333333,\n",
              "        2.38095238,  1.9047619 ,  2.38095238,  0.        ,  6.19047619,\n",
              "        1.9047619 ,  2.85714286,  2.85714286,  0.95238095,  4.76190476,\n",
              "        1.9047619 ,  1.42857143,  2.38095238,  1.9047619 ,  0.        ,\n",
              "        1.42857143,  4.76190476,  1.9047619 ,  1.42857143,  1.9047619 ,\n",
              "        5.71428571,  2.38095238,  0.95238095,  3.33333333,  0.        ,\n",
              "        1.42857143,  0.95238095,  0.47619048,  1.42857143,  0.47619048,\n",
              "        6.19047619,  3.33333333,  2.38095238,  3.33333333,  5.71428571,\n",
              "        0.47619048,  2.85714286,  5.23809524,  3.80952381,  3.80952381,\n",
              "        3.80952381,  4.28571429,  6.19047619,  1.42857143,  2.38095238,\n",
              "        0.95238095,  7.14285714,  0.95238095,  0.47619048,  5.71428571,\n",
              "        2.38095238,  1.9047619 ,  1.9047619 ,  1.9047619 ,  3.80952381,\n",
              "        0.95238095,  0.47619048,  2.85714286,  4.76190476,  1.42857143,\n",
              "        9.52380952,  0.47619048,  1.9047619 ,  2.38095238,  1.42857143,\n",
              "        2.85714286,  6.19047619,  0.95238095,  8.0952381 ,  0.47619048,\n",
              "        0.        ,  4.28571429,  0.47619048,  0.47619048,  0.        ,\n",
              "        2.85714286,  3.80952381,  3.33333333,  0.95238095,  0.95238095,\n",
              "        0.47619048,  3.80952381,  0.95238095,  2.38095238,  1.9047619 ,\n",
              "        0.95238095,  1.9047619 ,  3.33333333,  2.85714286,  5.23809524,\n",
              "        0.        ,  2.38095238,  1.9047619 ,  1.9047619 ,  1.9047619 ,\n",
              "        4.76190476,  3.33333333,  3.33333333,  4.28571429,  1.9047619 ,\n",
              "        6.19047619,  1.42857143,  2.85714286,  0.47619048,  0.        ,\n",
              "        3.80952381,  0.95238095,  0.47619048,  6.66666667,  1.9047619 ,\n",
              "        2.38095238,  3.80952381,  0.95238095,  7.14285714,  0.47619048,\n",
              "        1.42857143,  1.9047619 ,  1.42857143,  2.38095238,  2.38095238,\n",
              "        0.47619048,  2.85714286,  2.38095238,  7.14285714,  3.33333333,\n",
              "        2.38095238,  2.38095238,  2.38095238,  2.38095238,  1.9047619 ,\n",
              "        1.42857143,  1.9047619 ,  3.80952381,  2.38095238,  3.80952381,\n",
              "        3.33333333,  1.42857143,  0.95238095,  2.38095238,  3.33333333,\n",
              "        2.38095238,  3.33333333,  0.95238095,  0.        ,  1.9047619 ,\n",
              "        1.42857143, 10.        ,  0.95238095,  0.95238095,  9.04761905,\n",
              "        3.33333333,  3.33333333,  2.85714286,  1.9047619 ,  0.47619048,\n",
              "        0.95238095,  2.85714286,  4.28571429,  0.47619048,  0.95238095,\n",
              "        4.76190476,  3.33333333,  2.38095238,  1.42857143,  0.95238095,\n",
              "        5.71428571,  2.38095238,  0.        ,  1.9047619 ,  1.9047619 ,\n",
              "       10.        ,  0.        ,  2.85714286,  5.23809524,  3.33333333,\n",
              "        1.9047619 ,  1.42857143,  1.9047619 ,  2.85714286,  3.80952381,\n",
              "        0.47619048,  2.38095238,  0.47619048,  3.33333333,  1.9047619 ,\n",
              "        5.23809524,  3.80952381,  2.38095238,  6.66666667,  2.85714286])"
            ]
          },
          "metadata": {
            "tags": []
          },
          "execution_count": 41
        }
      ]
    },
    {
      "cell_type": "markdown",
      "metadata": {
        "id": "lou7aCTirV7G"
      },
      "source": [
        "**Question 9:** Create a percent distribution histogram of your `simulated_statistics`. Be sure to label all parts of your plot."
      ]
    },
    {
      "cell_type": "code",
      "metadata": {
        "id": "G5nlXwhZrV7H",
        "outputId": "716e8bb8-bbac-4cf8-eed3-191c63b4558f",
        "colab": {
          "base_uri": "https://localhost:8080/",
          "height": 301
        }
      },
      "source": [
        "Table().with_column(\n",
        "    'Distance between Simulated % and 50%', simulated_statistics\n",
        ").hist()"
      ],
      "execution_count": 42,
      "outputs": [
        {
          "output_type": "display_data",
          "data": {
            "image/png": "[encoded data removed]",
            "text/plain": [
              "<Figure size 432x288 with 1 Axes>"
            ]
          },
          "metadata": {
            "tags": []
          }
        }
      ]
    },
    {
      "cell_type": "markdown",
      "metadata": {
        "id": "0ZZ2v8M_rV7J"
      },
      "source": [
        "We can make a visual argument as to whether we believe the observed statistic is consistent with Emily’s model. Here, since larger values of the test statistic suggest the alternative model (where the chance of guessing the correct hand is something other than 50%), we can formalize our analysis by finding what proportion of simulated statistics were as large or larger than our observed test statistic (the area at or to the right of the observed test statistic). If this area is small enough, we’ll declare that the observed data are inconsistent with our simulated model."
      ]
    },
    {
      "cell_type": "markdown",
      "metadata": {
        "id": "CIp6qJayrV7J"
      },
      "source": [
        "**Question 10:** Calculate the proportion of simulated statistics greater than or equal to the observed statistic. \n"
      ]
    },
    {
      "cell_type": "code",
      "metadata": {
        "id": "sE6H9chyrV7K",
        "outputId": "cbd8a20d-ed19-4793-d7c2-cb1d313e7bd5",
        "colab": {
          "base_uri": "https://localhost:8080/",
          "height": 35
        }
      },
      "source": [
        "proportion_greater_or_equal = len([x for x in simulated_statistics if x >= observed_statistic])/len(simulated_statistics)\n",
        "proportion_greater_or_equal"
      ],
      "execution_count": 43,
      "outputs": [
        {
          "output_type": "execute_result",
          "data": {
            "text/plain": [
              "0.079"
            ]
          },
          "metadata": {
            "tags": []
          },
          "execution_count": 43
        }
      ]
    },
    {
      "cell_type": "markdown",
      "metadata": {
        "id": "I_fyIkHqrV7P"
      },
      "source": [
        "By convention, we often compare the proportion we just calculated to 0.05. If the proportion of simulated statistics greater than or equal to the observed statistic is sufficiently small (less than or equal to 0.05), then this is evidence against Emily's model. Otherwise, we don’t have any reason to doubt Emily’s model.\n",
        "\n",
        "This should help you make your own conclusions about Emily Rosa's experiment.\n",
        "\n",
        "Therapeutic touch fell out of use after this experiment, which was eventually accepted into one of the premier medical journals. TT practitioners hit back and accused Emily and her family of tampering with the results, while some claimed that Emily's bad spiritual mood towards therapeutic touch made it difficult to read her HEF. Whatever it may be, Emily's experiment is a classic example about how anyone, with the right resources, can test anything they want!\n",
        "\n",
        "Think to yourself about the following questions:\n",
        "\n",
        "1. Is the data more consistent with Emily' model (practioners were randomly guessing)?\n",
        "2. What does this mean in terms of Emily's experiment? Do the TT practitioners' answers follow an even chance model or is there something else at play? "
      ]
    }
  ]
}