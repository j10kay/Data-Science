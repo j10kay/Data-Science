{
  "nbformat": 4,
  "nbformat_minor": 0,
  "metadata": {
    "colab": {
      "name": "A_B_Testing_Intermediate.ipynb",
      "provenance": [],
      "collapsed_sections": []
    },
    "kernelspec": {
      "name": "python3",
      "display_name": "Python 3"
    }
  },
  "cells": [
    {
      "cell_type": "markdown",
      "metadata": {
        "id": "vuo7ze2FTFDM"
      },
      "source": [
        "# Lab 11: A/B Testing and Causality\n",
        "\n",
        "## 1. Ramen Ratings\n",
        "Ramen is delicious, it's a well known fact, and different countries around the world make theirs in unique ways. But is there one country that makes better ramen than another? In this assignment, we will take utilize A/B testing to answer this question"
      ]
    },
    {
      "cell_type": "code",
      "metadata": {
        "id": "Dm-sdBfZJmBy",
        "outputId": "3471ee07-db9e-408b-aeb1-24f9adc5725c",
        "colab": {
          "resources": {
            "http://localhost:8080/nbextensions/google.colab/files.js": {
              "data": "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",
              "ok": true,
              "headers": [
                [
                  "content-type",
                  "application/javascript"
                ]
              ],
              "status": 200,
              "status_text": ""
            }
          },
          "base_uri": "https://localhost:8080/",
          "height": 108
        }
      },
      "source": [
        "import pandas as pd\n",
        "import numpy as np\n",
        "import matplotlib.pyplot as plt\n",
        "\n",
        "from google.colab import files\n",
        "uploaded = files.upload()\n",
        " "
      ],
      "execution_count": 2,
      "outputs": [
        {
          "output_type": "display_data",
          "data": {
            "text/html": [
              "\n",
              "     <input type=\"file\" id=\"files-b2d364c1-6574-4081-a864-84fe0b5bdb14\" name=\"files[]\" multiple disabled\n",
              "        style=\"border:none\" />\n",
              "     <output id=\"result-b2d364c1-6574-4081-a864-84fe0b5bdb14\">\n",
              "      Upload widget is only available when the cell has been executed in the\n",
              "      current browser session. Please rerun this cell to enable.\n",
              "      </output>\n",
              "      <script src=\"/nbextensions/google.colab/files.js\"></script> "
            ],
            "text/plain": [
              "<IPython.core.display.HTML object>"
            ]
          },
          "metadata": {
            "tags": []
          }
        },
        {
          "output_type": "stream",
          "text": [
            "Saving Pokemon.csv to Pokemon.csv\n",
            "Saving ramen-ratings.csv to ramen-ratings.csv\n"
          ],
          "name": "stdout"
        }
      ]
    },
    {
      "cell_type": "markdown",
      "metadata": {
        "id": "8OileLAVUWRi"
      },
      "source": [
        "If we take a look at our data, we see that we have different columns regarding brand, variety, the style of noodle, etc. But for this lab, we'll be focusing on the country and stars. Namely, we'll be only focusing two ramen countries, Malaysia and Taiwan"
      ]
    },
    {
      "cell_type": "code",
      "metadata": {
        "id": "RQL7kxg4J1TZ",
        "outputId": "2b838f6a-0fa7-4cc5-ac28-846dabe5c620",
        "colab": {
          "base_uri": "https://localhost:8080/",
          "height": 415
        }
      },
      "source": [
        "ramen_df = pd.read_csv('ramen-ratings.csv')\n",
        "ramen_df\n"
      ],
      "execution_count": 3,
      "outputs": [
        {
          "output_type": "execute_result",
          "data": {
            "text/html": [
              "<div>\n",
              "<style scoped>\n",
              "    .dataframe tbody tr th:only-of-type {\n",
              "        vertical-align: middle;\n",
              "    }\n",
              "\n",
              "    .dataframe tbody tr th {\n",
              "        vertical-align: top;\n",
              "    }\n",
              "\n",
              "    .dataframe thead th {\n",
              "        text-align: right;\n",
              "    }\n",
              "</style>\n",
              "<table border=\"1\" class=\"dataframe\">\n",
              "  <thead>\n",
              "    <tr style=\"text-align: right;\">\n",
              "      <th></th>\n",
              "      <th>Review #</th>\n",
              "      <th>Brand</th>\n",
              "      <th>Variety</th>\n",
              "      <th>Style</th>\n",
              "      <th>Country</th>\n",
              "      <th>Stars</th>\n",
              "      <th>Top Ten</th>\n",
              "    </tr>\n",
              "  </thead>\n",
              "  <tbody>\n",
              "    <tr>\n",
              "      <th>0</th>\n",
              "      <td>2580</td>\n",
              "      <td>New Touch</td>\n",
              "      <td>T's Restaurant Tantanmen</td>\n",
              "      <td>Cup</td>\n",
              "      <td>Japan</td>\n",
              "      <td>3.75</td>\n",
              "      <td>NaN</td>\n",
              "    </tr>\n",
              "    <tr>\n",
              "      <th>1</th>\n",
              "      <td>2579</td>\n",
              "      <td>Just Way</td>\n",
              "      <td>Noodles Spicy Hot Sesame Spicy Hot Sesame Guan...</td>\n",
              "      <td>Pack</td>\n",
              "      <td>Taiwan</td>\n",
              "      <td>1</td>\n",
              "      <td>NaN</td>\n",
              "    </tr>\n",
              "    <tr>\n",
              "      <th>2</th>\n",
              "      <td>2578</td>\n",
              "      <td>Nissin</td>\n",
              "      <td>Cup Noodles Chicken Vegetable</td>\n",
              "      <td>Cup</td>\n",
              "      <td>USA</td>\n",
              "      <td>2.25</td>\n",
              "      <td>NaN</td>\n",
              "    </tr>\n",
              "    <tr>\n",
              "      <th>3</th>\n",
              "      <td>2577</td>\n",
              "      <td>Wei Lih</td>\n",
              "      <td>GGE Ramen Snack Tomato Flavor</td>\n",
              "      <td>Pack</td>\n",
              "      <td>Taiwan</td>\n",
              "      <td>2.75</td>\n",
              "      <td>NaN</td>\n",
              "    </tr>\n",
              "    <tr>\n",
              "      <th>4</th>\n",
              "      <td>2576</td>\n",
              "      <td>Ching's Secret</td>\n",
              "      <td>Singapore Curry</td>\n",
              "      <td>Pack</td>\n",
              "      <td>India</td>\n",
              "      <td>3.75</td>\n",
              "      <td>NaN</td>\n",
              "    </tr>\n",
              "    <tr>\n",
              "      <th>...</th>\n",
              "      <td>...</td>\n",
              "      <td>...</td>\n",
              "      <td>...</td>\n",
              "      <td>...</td>\n",
              "      <td>...</td>\n",
              "      <td>...</td>\n",
              "      <td>...</td>\n",
              "    </tr>\n",
              "    <tr>\n",
              "      <th>2575</th>\n",
              "      <td>5</td>\n",
              "      <td>Vifon</td>\n",
              "      <td>Hu Tiu Nam Vang [\"Phnom Penh\" style] Asian Sty...</td>\n",
              "      <td>Bowl</td>\n",
              "      <td>Vietnam</td>\n",
              "      <td>3.5</td>\n",
              "      <td>NaN</td>\n",
              "    </tr>\n",
              "    <tr>\n",
              "      <th>2576</th>\n",
              "      <td>4</td>\n",
              "      <td>Wai Wai</td>\n",
              "      <td>Oriental Style Instant Noodles</td>\n",
              "      <td>Pack</td>\n",
              "      <td>Thailand</td>\n",
              "      <td>1</td>\n",
              "      <td>NaN</td>\n",
              "    </tr>\n",
              "    <tr>\n",
              "      <th>2577</th>\n",
              "      <td>3</td>\n",
              "      <td>Wai Wai</td>\n",
              "      <td>Tom Yum Shrimp</td>\n",
              "      <td>Pack</td>\n",
              "      <td>Thailand</td>\n",
              "      <td>2</td>\n",
              "      <td>NaN</td>\n",
              "    </tr>\n",
              "    <tr>\n",
              "      <th>2578</th>\n",
              "      <td>2</td>\n",
              "      <td>Wai Wai</td>\n",
              "      <td>Tom Yum Chili Flavor</td>\n",
              "      <td>Pack</td>\n",
              "      <td>Thailand</td>\n",
              "      <td>2</td>\n",
              "      <td>NaN</td>\n",
              "    </tr>\n",
              "    <tr>\n",
              "      <th>2579</th>\n",
              "      <td>1</td>\n",
              "      <td>Westbrae</td>\n",
              "      <td>Miso Ramen</td>\n",
              "      <td>Pack</td>\n",
              "      <td>USA</td>\n",
              "      <td>0.5</td>\n",
              "      <td>NaN</td>\n",
              "    </tr>\n",
              "  </tbody>\n",
              "</table>\n",
              "<p>2580 rows × 7 columns</p>\n",
              "</div>"
            ],
            "text/plain": [
              "      Review #           Brand  ... Stars Top Ten\n",
              "0         2580       New Touch  ...  3.75     NaN\n",
              "1         2579        Just Way  ...     1     NaN\n",
              "2         2578          Nissin  ...  2.25     NaN\n",
              "3         2577         Wei Lih  ...  2.75     NaN\n",
              "4         2576  Ching's Secret  ...  3.75     NaN\n",
              "...        ...             ...  ...   ...     ...\n",
              "2575         5           Vifon  ...   3.5     NaN\n",
              "2576         4         Wai Wai  ...     1     NaN\n",
              "2577         3         Wai Wai  ...     2     NaN\n",
              "2578         2         Wai Wai  ...     2     NaN\n",
              "2579         1        Westbrae  ...   0.5     NaN\n",
              "\n",
              "[2580 rows x 7 columns]"
            ]
          },
          "metadata": {
            "tags": []
          },
          "execution_count": 3
        }
      ]
    },
    {
      "cell_type": "markdown",
      "metadata": {
        "id": "jxEd3D6tUwTa"
      },
      "source": [
        "**Question 1**: Create a new data frame called `taiwan_and_malaysia` that only consists of data for countries Malaysia and Taiwan, and check the data type of the Stars column"
      ]
    },
    {
      "cell_type": "code",
      "metadata": {
        "id": "WiwVqEewLiaY",
        "outputId": "03dde338-c60b-4482-ad4c-f2cb29d3aefe",
        "colab": {
          "base_uri": "https://localhost:8080/",
          "height": 415
        }
      },
      "source": [
        "# your code here\n",
        "taiwan_and_malaysia = ramen_df[ramen_df['Country'].isin(['Malaysia', 'Taiwan'])]\n",
        "taiwan_and_malaysia"
      ],
      "execution_count": 6,
      "outputs": [
        {
          "output_type": "execute_result",
          "data": {
            "text/html": [
              "<div>\n",
              "<style scoped>\n",
              "    .dataframe tbody tr th:only-of-type {\n",
              "        vertical-align: middle;\n",
              "    }\n",
              "\n",
              "    .dataframe tbody tr th {\n",
              "        vertical-align: top;\n",
              "    }\n",
              "\n",
              "    .dataframe thead th {\n",
              "        text-align: right;\n",
              "    }\n",
              "</style>\n",
              "<table border=\"1\" class=\"dataframe\">\n",
              "  <thead>\n",
              "    <tr style=\"text-align: right;\">\n",
              "      <th></th>\n",
              "      <th>Review #</th>\n",
              "      <th>Brand</th>\n",
              "      <th>Variety</th>\n",
              "      <th>Style</th>\n",
              "      <th>Country</th>\n",
              "      <th>Stars</th>\n",
              "      <th>Top Ten</th>\n",
              "    </tr>\n",
              "  </thead>\n",
              "  <tbody>\n",
              "    <tr>\n",
              "      <th>1</th>\n",
              "      <td>2579</td>\n",
              "      <td>Just Way</td>\n",
              "      <td>Noodles Spicy Hot Sesame Spicy Hot Sesame Guan...</td>\n",
              "      <td>Pack</td>\n",
              "      <td>Taiwan</td>\n",
              "      <td>1</td>\n",
              "      <td>NaN</td>\n",
              "    </tr>\n",
              "    <tr>\n",
              "      <th>3</th>\n",
              "      <td>2577</td>\n",
              "      <td>Wei Lih</td>\n",
              "      <td>GGE Ramen Snack Tomato Flavor</td>\n",
              "      <td>Pack</td>\n",
              "      <td>Taiwan</td>\n",
              "      <td>2.75</td>\n",
              "      <td>NaN</td>\n",
              "    </tr>\n",
              "    <tr>\n",
              "      <th>28</th>\n",
              "      <td>2552</td>\n",
              "      <td>MyKuali</td>\n",
              "      <td>Penang White Curry Rice Vermicelli Soup</td>\n",
              "      <td>Bowl</td>\n",
              "      <td>Malaysia</td>\n",
              "      <td>5</td>\n",
              "      <td>NaN</td>\n",
              "    </tr>\n",
              "    <tr>\n",
              "      <th>40</th>\n",
              "      <td>2540</td>\n",
              "      <td>Wei Lih</td>\n",
              "      <td>GGE Noodle Snack Wheat Crackers Mexican Spicy</td>\n",
              "      <td>Pack</td>\n",
              "      <td>Taiwan</td>\n",
              "      <td>3.25</td>\n",
              "      <td>NaN</td>\n",
              "    </tr>\n",
              "    <tr>\n",
              "      <th>65</th>\n",
              "      <td>2515</td>\n",
              "      <td>Uni-President</td>\n",
              "      <td>Man Han Feast Spicy Beef Flavor Instant Noodles</td>\n",
              "      <td>Bowl</td>\n",
              "      <td>Taiwan</td>\n",
              "      <td>5</td>\n",
              "      <td>NaN</td>\n",
              "    </tr>\n",
              "    <tr>\n",
              "      <th>...</th>\n",
              "      <td>...</td>\n",
              "      <td>...</td>\n",
              "      <td>...</td>\n",
              "      <td>...</td>\n",
              "      <td>...</td>\n",
              "      <td>...</td>\n",
              "      <td>...</td>\n",
              "    </tr>\n",
              "    <tr>\n",
              "      <th>2500</th>\n",
              "      <td>80</td>\n",
              "      <td>Unif / Tung-I</td>\n",
              "      <td>Artificial Chicken</td>\n",
              "      <td>Pack</td>\n",
              "      <td>Taiwan</td>\n",
              "      <td>3.5</td>\n",
              "      <td>NaN</td>\n",
              "    </tr>\n",
              "    <tr>\n",
              "      <th>2512</th>\n",
              "      <td>68</td>\n",
              "      <td>Wei Lih</td>\n",
              "      <td>Jah Jan Mien Instant Noodle With Fried Soybean...</td>\n",
              "      <td>Pack</td>\n",
              "      <td>Taiwan</td>\n",
              "      <td>4</td>\n",
              "      <td>NaN</td>\n",
              "    </tr>\n",
              "    <tr>\n",
              "      <th>2522</th>\n",
              "      <td>58</td>\n",
              "      <td>Ve Wong</td>\n",
              "      <td>A-One Bun Tom Shrimp</td>\n",
              "      <td>Pack</td>\n",
              "      <td>Taiwan</td>\n",
              "      <td>3</td>\n",
              "      <td>NaN</td>\n",
              "    </tr>\n",
              "    <tr>\n",
              "      <th>2537</th>\n",
              "      <td>43</td>\n",
              "      <td>Kim Ve Wong</td>\n",
              "      <td>Jaopai Series: Vegetarian Instant Noodles</td>\n",
              "      <td>Bowl</td>\n",
              "      <td>Taiwan</td>\n",
              "      <td>0</td>\n",
              "      <td>NaN</td>\n",
              "    </tr>\n",
              "    <tr>\n",
              "      <th>2572</th>\n",
              "      <td>8</td>\n",
              "      <td>Tung-I</td>\n",
              "      <td>Chinese Beef Instant Rice Noodle</td>\n",
              "      <td>Pack</td>\n",
              "      <td>Taiwan</td>\n",
              "      <td>3</td>\n",
              "      <td>NaN</td>\n",
              "    </tr>\n",
              "  </tbody>\n",
              "</table>\n",
              "<p>380 rows × 7 columns</p>\n",
              "</div>"
            ],
            "text/plain": [
              "      Review #          Brand  ... Stars Top Ten\n",
              "1         2579       Just Way  ...     1     NaN\n",
              "3         2577        Wei Lih  ...  2.75     NaN\n",
              "28        2552        MyKuali  ...     5     NaN\n",
              "40        2540        Wei Lih  ...  3.25     NaN\n",
              "65        2515  Uni-President  ...     5     NaN\n",
              "...        ...            ...  ...   ...     ...\n",
              "2500        80  Unif / Tung-I  ...   3.5     NaN\n",
              "2512        68        Wei Lih  ...     4     NaN\n",
              "2522        58        Ve Wong  ...     3     NaN\n",
              "2537        43    Kim Ve Wong  ...     0     NaN\n",
              "2572         8         Tung-I  ...     3     NaN\n",
              "\n",
              "[380 rows x 7 columns]"
            ]
          },
          "metadata": {
            "tags": []
          },
          "execution_count": 6
        }
      ]
    },
    {
      "cell_type": "code",
      "metadata": {
        "id": "sKbqxECNmfZp",
        "outputId": "a5585142-f273-44c4-ce93-f337eaa3d337",
        "colab": {
          "base_uri": "https://localhost:8080/",
          "height": 104
        }
      },
      "source": [
        "taiwan_and_malaysia['Stars'].describe()"
      ],
      "execution_count": 7,
      "outputs": [
        {
          "output_type": "execute_result",
          "data": {
            "text/plain": [
              "count     380\n",
              "unique     33\n",
              "top         5\n",
              "freq       95\n",
              "Name: Stars, dtype: object"
            ]
          },
          "metadata": {
            "tags": []
          },
          "execution_count": 7
        }
      ]
    },
    {
      "cell_type": "markdown",
      "metadata": {
        "id": "o56e9M-fVFgj"
      },
      "source": [
        "**Question 2:** We see here that the data type of the Stars column is a little unexpected, so we should do three things:\n",
        "\n",
        "\n",
        "\n",
        "1.   Sort the column to find any values that we may not want\n",
        "2.   Remove those values if there are any\n",
        "3.   Update the Sort column to contain float values using **astype()**\n",
        "\n",
        "\n",
        "\n"
      ]
    },
    {
      "cell_type": "code",
      "metadata": {
        "id": "SbRL6BigMLw2",
        "outputId": "45720e6c-bb48-48b5-8e8d-13980c252268",
        "colab": {
          "base_uri": "https://localhost:8080/",
          "height": 505
        }
      },
      "source": [
        "# your code here\n",
        "taiwan_and_malaysia.sort_values(by=['Stars'], inplace=True)\n",
        "taiwan_and_malaysia"
      ],
      "execution_count": null,
      "outputs": [
        {
          "output_type": "stream",
          "text": [
            "/usr/local/lib/python3.6/dist-packages/ipykernel_launcher.py:2: SettingWithCopyWarning: \n",
            "A value is trying to be set on a copy of a slice from a DataFrame\n",
            "\n",
            "See the caveats in the documentation: https://pandas.pydata.org/pandas-docs/stable/user_guide/indexing.html#returning-a-view-versus-a-copy\n",
            "  \n"
          ],
          "name": "stderr"
        },
        {
          "output_type": "execute_result",
          "data": {
            "text/html": [
              "<div>\n",
              "<style scoped>\n",
              "    .dataframe tbody tr th:only-of-type {\n",
              "        vertical-align: middle;\n",
              "    }\n",
              "\n",
              "    .dataframe tbody tr th {\n",
              "        vertical-align: top;\n",
              "    }\n",
              "\n",
              "    .dataframe thead th {\n",
              "        text-align: right;\n",
              "    }\n",
              "</style>\n",
              "<table border=\"1\" class=\"dataframe\">\n",
              "  <thead>\n",
              "    <tr style=\"text-align: right;\">\n",
              "      <th></th>\n",
              "      <th>Review #</th>\n",
              "      <th>Brand</th>\n",
              "      <th>Variety</th>\n",
              "      <th>Style</th>\n",
              "      <th>Country</th>\n",
              "      <th>Stars</th>\n",
              "      <th>Top Ten</th>\n",
              "    </tr>\n",
              "  </thead>\n",
              "  <tbody>\n",
              "    <tr>\n",
              "      <th>2287</th>\n",
              "      <td>293</td>\n",
              "      <td>Tiger</td>\n",
              "      <td>Onion Flaver Rice Noodle</td>\n",
              "      <td>Bowl</td>\n",
              "      <td>Taiwan</td>\n",
              "      <td>0</td>\n",
              "      <td>NaN</td>\n",
              "    </tr>\n",
              "    <tr>\n",
              "      <th>707</th>\n",
              "      <td>1873</td>\n",
              "      <td>Vedan</td>\n",
              "      <td>Wei Wei A Instant Noodles Chicken Flavor</td>\n",
              "      <td>Bowl</td>\n",
              "      <td>Taiwan</td>\n",
              "      <td>0</td>\n",
              "      <td>NaN</td>\n",
              "    </tr>\n",
              "    <tr>\n",
              "      <th>2082</th>\n",
              "      <td>498</td>\n",
              "      <td>Hsin Tung Yang</td>\n",
              "      <td>Tiny Noodle With Oyster Flavor</td>\n",
              "      <td>Pack</td>\n",
              "      <td>Taiwan</td>\n",
              "      <td>0</td>\n",
              "      <td>NaN</td>\n",
              "    </tr>\n",
              "    <tr>\n",
              "      <th>2537</th>\n",
              "      <td>43</td>\n",
              "      <td>Kim Ve Wong</td>\n",
              "      <td>Jaopai Series: Vegetarian Instant Noodles</td>\n",
              "      <td>Bowl</td>\n",
              "      <td>Taiwan</td>\n",
              "      <td>0</td>\n",
              "      <td>NaN</td>\n",
              "    </tr>\n",
              "    <tr>\n",
              "      <th>2060</th>\n",
              "      <td>520</td>\n",
              "      <td>Nan Hsing</td>\n",
              "      <td>Vegetarian Rice Noodles</td>\n",
              "      <td>Bowl</td>\n",
              "      <td>Taiwan</td>\n",
              "      <td>0.25</td>\n",
              "      <td>NaN</td>\n",
              "    </tr>\n",
              "    <tr>\n",
              "      <th>...</th>\n",
              "      <td>...</td>\n",
              "      <td>...</td>\n",
              "      <td>...</td>\n",
              "      <td>...</td>\n",
              "      <td>...</td>\n",
              "      <td>...</td>\n",
              "      <td>...</td>\n",
              "    </tr>\n",
              "    <tr>\n",
              "      <th>262</th>\n",
              "      <td>2318</td>\n",
              "      <td>Happy Cook</td>\n",
              "      <td>Sichuan Spicy Flavor</td>\n",
              "      <td>Pack</td>\n",
              "      <td>Taiwan</td>\n",
              "      <td>5.0</td>\n",
              "      <td>NaN</td>\n",
              "    </tr>\n",
              "    <tr>\n",
              "      <th>530</th>\n",
              "      <td>2050</td>\n",
              "      <td>MyKuali</td>\n",
              "      <td>Penang Red Tom Yum Goong Noodle Authentic Taste</td>\n",
              "      <td>Cup</td>\n",
              "      <td>Malaysia</td>\n",
              "      <td>5.00</td>\n",
              "      <td>NaN</td>\n",
              "    </tr>\n",
              "    <tr>\n",
              "      <th>591</th>\n",
              "      <td>1989</td>\n",
              "      <td>MyKuali</td>\n",
              "      <td>Penang White curry Noodle Authentic Taste</td>\n",
              "      <td>Pack</td>\n",
              "      <td>Malaysia</td>\n",
              "      <td>5.00</td>\n",
              "      <td>NaN</td>\n",
              "    </tr>\n",
              "    <tr>\n",
              "      <th>603</th>\n",
              "      <td>1977</td>\n",
              "      <td>MyOri</td>\n",
              "      <td>Malaysia Penang Green Curry Vermicelli (New Pa...</td>\n",
              "      <td>Pack</td>\n",
              "      <td>Malaysia</td>\n",
              "      <td>5.00</td>\n",
              "      <td>NaN</td>\n",
              "    </tr>\n",
              "    <tr>\n",
              "      <th>993</th>\n",
              "      <td>1587</td>\n",
              "      <td>Mi E-Zee</td>\n",
              "      <td>Plain Noodles</td>\n",
              "      <td>Pack</td>\n",
              "      <td>Malaysia</td>\n",
              "      <td>Unrated</td>\n",
              "      <td>NaN</td>\n",
              "    </tr>\n",
              "  </tbody>\n",
              "</table>\n",
              "<p>380 rows × 7 columns</p>\n",
              "</div>"
            ],
            "text/plain": [
              "      Review #           Brand  ...    Stars Top Ten\n",
              "2287       293           Tiger  ...        0     NaN\n",
              "707       1873           Vedan  ...        0     NaN\n",
              "2082       498  Hsin Tung Yang  ...        0     NaN\n",
              "2537        43     Kim Ve Wong  ...        0     NaN\n",
              "2060       520       Nan Hsing  ...     0.25     NaN\n",
              "...        ...             ...  ...      ...     ...\n",
              "262       2318      Happy Cook  ...      5.0     NaN\n",
              "530       2050         MyKuali  ...     5.00     NaN\n",
              "591       1989         MyKuali  ...     5.00     NaN\n",
              "603       1977           MyOri  ...     5.00     NaN\n",
              "993       1587        Mi E-Zee  ...  Unrated     NaN\n",
              "\n",
              "[380 rows x 7 columns]"
            ]
          },
          "metadata": {
            "tags": []
          },
          "execution_count": 12
        }
      ]
    },
    {
      "cell_type": "code",
      "metadata": {
        "id": "nmAS2-1xm18S",
        "outputId": "4f5ab91c-375a-4a17-c6af-32751c772da6",
        "colab": {
          "base_uri": "https://localhost:8080/",
          "height": 450
        }
      },
      "source": [
        "taiwan_and_malaysia = taiwan_and_malaysia[taiwan_and_malaysia['Stars'] != 'Unrated']\n",
        "taiwan_and_malaysia['Stars'] = taiwan_and_malaysia['Stars'].astype(float)\n",
        "taiwan_and_malaysia.sort_values(by=['Stars'], inplace=True)\n",
        "taiwan_and_malaysia"
      ],
      "execution_count": 11,
      "outputs": [
        {
          "output_type": "stream",
          "text": [
            "/usr/local/lib/python3.6/dist-packages/pandas/core/computation/expressions.py:68: FutureWarning: elementwise comparison failed; returning scalar instead, but in the future will perform elementwise comparison\n",
            "  return op(a, b)\n"
          ],
          "name": "stderr"
        },
        {
          "output_type": "execute_result",
          "data": {
            "text/html": [
              "<div>\n",
              "<style scoped>\n",
              "    .dataframe tbody tr th:only-of-type {\n",
              "        vertical-align: middle;\n",
              "    }\n",
              "\n",
              "    .dataframe tbody tr th {\n",
              "        vertical-align: top;\n",
              "    }\n",
              "\n",
              "    .dataframe thead th {\n",
              "        text-align: right;\n",
              "    }\n",
              "</style>\n",
              "<table border=\"1\" class=\"dataframe\">\n",
              "  <thead>\n",
              "    <tr style=\"text-align: right;\">\n",
              "      <th></th>\n",
              "      <th>Review #</th>\n",
              "      <th>Brand</th>\n",
              "      <th>Variety</th>\n",
              "      <th>Style</th>\n",
              "      <th>Country</th>\n",
              "      <th>Stars</th>\n",
              "      <th>Top Ten</th>\n",
              "    </tr>\n",
              "  </thead>\n",
              "  <tbody>\n",
              "    <tr>\n",
              "      <th>2287</th>\n",
              "      <td>293</td>\n",
              "      <td>Tiger</td>\n",
              "      <td>Onion Flaver Rice Noodle</td>\n",
              "      <td>Bowl</td>\n",
              "      <td>Taiwan</td>\n",
              "      <td>0.00</td>\n",
              "      <td>NaN</td>\n",
              "    </tr>\n",
              "    <tr>\n",
              "      <th>707</th>\n",
              "      <td>1873</td>\n",
              "      <td>Vedan</td>\n",
              "      <td>Wei Wei A Instant Noodles Chicken Flavor</td>\n",
              "      <td>Bowl</td>\n",
              "      <td>Taiwan</td>\n",
              "      <td>0.00</td>\n",
              "      <td>NaN</td>\n",
              "    </tr>\n",
              "    <tr>\n",
              "      <th>2082</th>\n",
              "      <td>498</td>\n",
              "      <td>Hsin Tung Yang</td>\n",
              "      <td>Tiny Noodle With Oyster Flavor</td>\n",
              "      <td>Pack</td>\n",
              "      <td>Taiwan</td>\n",
              "      <td>0.00</td>\n",
              "      <td>NaN</td>\n",
              "    </tr>\n",
              "    <tr>\n",
              "      <th>2537</th>\n",
              "      <td>43</td>\n",
              "      <td>Kim Ve Wong</td>\n",
              "      <td>Jaopai Series: Vegetarian Instant Noodles</td>\n",
              "      <td>Bowl</td>\n",
              "      <td>Taiwan</td>\n",
              "      <td>0.00</td>\n",
              "      <td>NaN</td>\n",
              "    </tr>\n",
              "    <tr>\n",
              "      <th>2060</th>\n",
              "      <td>520</td>\n",
              "      <td>Nan Hsing</td>\n",
              "      <td>Vegetarian Rice Noodles</td>\n",
              "      <td>Bowl</td>\n",
              "      <td>Taiwan</td>\n",
              "      <td>0.25</td>\n",
              "      <td>NaN</td>\n",
              "    </tr>\n",
              "    <tr>\n",
              "      <th>...</th>\n",
              "      <td>...</td>\n",
              "      <td>...</td>\n",
              "      <td>...</td>\n",
              "      <td>...</td>\n",
              "      <td>...</td>\n",
              "      <td>...</td>\n",
              "      <td>...</td>\n",
              "    </tr>\n",
              "    <tr>\n",
              "      <th>966</th>\n",
              "      <td>1614</td>\n",
              "      <td>The Bridge</td>\n",
              "      <td>Penang White Curry Noodle</td>\n",
              "      <td>Pack</td>\n",
              "      <td>Malaysia</td>\n",
              "      <td>5.00</td>\n",
              "      <td>NaN</td>\n",
              "    </tr>\n",
              "    <tr>\n",
              "      <th>980</th>\n",
              "      <td>1600</td>\n",
              "      <td>Chering Chang</td>\n",
              "      <td>Instant Non-Fried Noodles Shallot Pork Flavour</td>\n",
              "      <td>Pack</td>\n",
              "      <td>Taiwan</td>\n",
              "      <td>5.00</td>\n",
              "      <td>NaN</td>\n",
              "    </tr>\n",
              "    <tr>\n",
              "      <th>412</th>\n",
              "      <td>2168</td>\n",
              "      <td>Tseng Noodles</td>\n",
              "      <td>Rice Noodle Shallot With Braised Pork Flavor</td>\n",
              "      <td>Pack</td>\n",
              "      <td>Taiwan</td>\n",
              "      <td>5.00</td>\n",
              "      <td>NaN</td>\n",
              "    </tr>\n",
              "    <tr>\n",
              "      <th>159</th>\n",
              "      <td>2421</td>\n",
              "      <td>Uni-President</td>\n",
              "      <td>Baseball Snack Noodle</td>\n",
              "      <td>Pack</td>\n",
              "      <td>Taiwan</td>\n",
              "      <td>5.00</td>\n",
              "      <td>NaN</td>\n",
              "    </tr>\n",
              "    <tr>\n",
              "      <th>489</th>\n",
              "      <td>2091</td>\n",
              "      <td>MyKuali</td>\n",
              "      <td>Penang Hokkien Prawn Noodle Authentic Taste</td>\n",
              "      <td>Cup</td>\n",
              "      <td>Malaysia</td>\n",
              "      <td>5.00</td>\n",
              "      <td>NaN</td>\n",
              "    </tr>\n",
              "  </tbody>\n",
              "</table>\n",
              "<p>379 rows × 7 columns</p>\n",
              "</div>"
            ],
            "text/plain": [
              "      Review #           Brand  ... Stars Top Ten\n",
              "2287       293           Tiger  ...  0.00     NaN\n",
              "707       1873           Vedan  ...  0.00     NaN\n",
              "2082       498  Hsin Tung Yang  ...  0.00     NaN\n",
              "2537        43     Kim Ve Wong  ...  0.00     NaN\n",
              "2060       520       Nan Hsing  ...  0.25     NaN\n",
              "...        ...             ...  ...   ...     ...\n",
              "966       1614      The Bridge  ...  5.00     NaN\n",
              "980       1600   Chering Chang  ...  5.00     NaN\n",
              "412       2168   Tseng Noodles  ...  5.00     NaN\n",
              "159       2421   Uni-President  ...  5.00     NaN\n",
              "489       2091         MyKuali  ...  5.00     NaN\n",
              "\n",
              "[379 rows x 7 columns]"
            ]
          },
          "metadata": {
            "tags": []
          },
          "execution_count": 11
        }
      ]
    },
    {
      "cell_type": "markdown",
      "metadata": {
        "id": "fr_mHsCTWVWN"
      },
      "source": [
        "Now that we've cleaned up our data set, we can know visualize the distribution of ramen ratings for Taiwan and Malaysia. The code below creates an overlapped histogram of our data, and we can see that the distrubution of data in Taiwan is slightly left than that of Malaysia. This can suggest that ramen and Taiwan is rated lower than ramen in Malaysia."
      ]
    },
    {
      "cell_type": "code",
      "metadata": {
        "id": "ZLtTX-KEOeUq",
        "outputId": "4d24ddcd-bc38-4658-b030-e0a2e25ef7ed",
        "colab": {
          "base_uri": "https://localhost:8080/",
          "height": 425
        }
      },
      "source": [
        "taiwan = []\n",
        "malaysia = []\n",
        "for index , row in taiwan_and_malaysia.iterrows():\n",
        "  if row[\"Country\"] == \"Taiwan\":\n",
        "    taiwan.append(row[\"Stars\"])\n",
        "  else:\n",
        "    malaysia.append(row[\"Stars\"])\n",
        "\n",
        "taiwan = np.array(taiwan)\n",
        "malaysia = np.array(malaysia)\n",
        "\n",
        "plt.figure(figsize=(8,6))\n",
        "plt.hist(taiwan,bins=10,alpha=0.5,label=\"Taiwan\")\n",
        "plt.hist(malaysia,bins=10,alpha=0.5,label=\"Malaysia\")\n",
        "plt.xlabel(\"Ratings\",size=\"14\")\n",
        "plt.ylabel(\"Count\",size=\"14\")\n",
        "plt.title(\"Distribution of Ramen Ratings for Malaysia and Taiwan\")\n",
        "plt.legend(loc=\"upper left\")"
      ],
      "execution_count": 12,
      "outputs": [
        {
          "output_type": "execute_result",
          "data": {
            "text/plain": [
              "<matplotlib.legend.Legend at 0x7f146d4066a0>"
            ]
          },
          "metadata": {
            "tags": []
          },
          "execution_count": 12
        },
        {
          "output_type": "display_data",
          "data": {
            "image/png": "[encoded data removed]",
            "text/plain": [
              "<Figure size 576x432 with 1 Axes>"
            ]
          },
          "metadata": {
            "tags": [],
            "needs_background": "light"
          }
        }
      ]
    },
    {
      "cell_type": "markdown",
      "metadata": {
        "id": "Y9qWqk7mYJEe"
      },
      "source": [
        "In order to do our A/B testing, we'll need to create our null and alternative and hypothesis. For all we know, the results shown in our histogram was simply chance, and does not reflect the population of Taiwanese and Malaysian ramen as whole:\n",
        "\n",
        "**Null Hypothesis:** The distribution of ramen ratings is the same for both Taiwan and Malaysia. The difference in the data given to us is simply chance\n",
        "\n",
        "**Alternative Hypothesis:** In population, ramen in Malaysia is rated higher than ramen Taiwan\n",
        "\n",
        "Now, we can start our testing by only using the Country and Stars column, since that's all we'll be working with"
      ]
    },
    {
      "cell_type": "markdown",
      "metadata": {
        "id": "nwrUyQm_PxRQ"
      },
      "source": [
        "**Question 3:** Create a new dataframe that consists of only the Country and Stars column"
      ]
    },
    {
      "cell_type": "code",
      "metadata": {
        "id": "-NuMSXh5ieeK",
        "outputId": "a288d54c-8573-401d-f6fe-431999daeec3",
        "colab": {
          "base_uri": "https://localhost:8080/",
          "height": 415
        }
      },
      "source": [
        "country_and_stars = taiwan_and_malaysia[['Country', 'Stars']]\n",
        "country_and_stars"
      ],
      "execution_count": 13,
      "outputs": [
        {
          "output_type": "execute_result",
          "data": {
            "text/html": [
              "<div>\n",
              "<style scoped>\n",
              "    .dataframe tbody tr th:only-of-type {\n",
              "        vertical-align: middle;\n",
              "    }\n",
              "\n",
              "    .dataframe tbody tr th {\n",
              "        vertical-align: top;\n",
              "    }\n",
              "\n",
              "    .dataframe thead th {\n",
              "        text-align: right;\n",
              "    }\n",
              "</style>\n",
              "<table border=\"1\" class=\"dataframe\">\n",
              "  <thead>\n",
              "    <tr style=\"text-align: right;\">\n",
              "      <th></th>\n",
              "      <th>Country</th>\n",
              "      <th>Stars</th>\n",
              "    </tr>\n",
              "  </thead>\n",
              "  <tbody>\n",
              "    <tr>\n",
              "      <th>2287</th>\n",
              "      <td>Taiwan</td>\n",
              "      <td>0.00</td>\n",
              "    </tr>\n",
              "    <tr>\n",
              "      <th>707</th>\n",
              "      <td>Taiwan</td>\n",
              "      <td>0.00</td>\n",
              "    </tr>\n",
              "    <tr>\n",
              "      <th>2082</th>\n",
              "      <td>Taiwan</td>\n",
              "      <td>0.00</td>\n",
              "    </tr>\n",
              "    <tr>\n",
              "      <th>2537</th>\n",
              "      <td>Taiwan</td>\n",
              "      <td>0.00</td>\n",
              "    </tr>\n",
              "    <tr>\n",
              "      <th>2060</th>\n",
              "      <td>Taiwan</td>\n",
              "      <td>0.25</td>\n",
              "    </tr>\n",
              "    <tr>\n",
              "      <th>...</th>\n",
              "      <td>...</td>\n",
              "      <td>...</td>\n",
              "    </tr>\n",
              "    <tr>\n",
              "      <th>966</th>\n",
              "      <td>Malaysia</td>\n",
              "      <td>5.00</td>\n",
              "    </tr>\n",
              "    <tr>\n",
              "      <th>980</th>\n",
              "      <td>Taiwan</td>\n",
              "      <td>5.00</td>\n",
              "    </tr>\n",
              "    <tr>\n",
              "      <th>412</th>\n",
              "      <td>Taiwan</td>\n",
              "      <td>5.00</td>\n",
              "    </tr>\n",
              "    <tr>\n",
              "      <th>159</th>\n",
              "      <td>Taiwan</td>\n",
              "      <td>5.00</td>\n",
              "    </tr>\n",
              "    <tr>\n",
              "      <th>489</th>\n",
              "      <td>Malaysia</td>\n",
              "      <td>5.00</td>\n",
              "    </tr>\n",
              "  </tbody>\n",
              "</table>\n",
              "<p>379 rows × 2 columns</p>\n",
              "</div>"
            ],
            "text/plain": [
              "       Country  Stars\n",
              "2287    Taiwan   0.00\n",
              "707     Taiwan   0.00\n",
              "2082    Taiwan   0.00\n",
              "2537    Taiwan   0.00\n",
              "2060    Taiwan   0.25\n",
              "...        ...    ...\n",
              "966   Malaysia   5.00\n",
              "980     Taiwan   5.00\n",
              "412     Taiwan   5.00\n",
              "159     Taiwan   5.00\n",
              "489   Malaysia   5.00\n",
              "\n",
              "[379 rows x 2 columns]"
            ]
          },
          "metadata": {
            "tags": []
          },
          "execution_count": 13
        }
      ]
    },
    {
      "cell_type": "markdown",
      "metadata": {
        "id": "D7xQjHl7K6Hx"
      },
      "source": [
        "**Question 4:** Complete the function difference_of_rating_average which takes in a dataframe and an optional column name and returns the difference in stars average for Malaysia and Taiwan. Get the difference in average for the dataframe you made in question 3\n",
        "\n",
        "**Note:** the parameter, `column_name=\"Country\"` means that if no column name gets passed in when the function is called, it'll use the Country column by default"
      ]
    },
    {
      "cell_type": "code",
      "metadata": {
        "id": "ys-oLksMqqgp",
        "outputId": "c6f5d45c-193c-4e58-be72-a388086d9d8f",
        "colab": {
          "base_uri": "https://localhost:8080/",
          "height": 35
        }
      },
      "source": [
        "from statistics import mean \n",
        "\n",
        "def difference_of_rating_average(dataframe, column_name=\"Country\"):\n",
        "    taiwan = []\n",
        "    malaysia = []\n",
        "    for index , row in dataframe.iterrows():\n",
        "      country = dataframe.loc[index, column_name]\n",
        "      if country == \"Taiwan\":\n",
        "        taiwan_stars = dataframe.loc[index, \"Stars\"]        \n",
        "        taiwan.append(taiwan_stars) \n",
        "      elif country == \"Malaysia\":\n",
        "        malaysia_stars = dataframe.loc[index, \"Stars\"]\n",
        "        malaysia.append(malaysia_stars)\n",
        "    return mean(malaysia) - mean(taiwan)\n",
        "\n",
        "difference_of_rating_average(country_and_stars)"
      ],
      "execution_count": 17,
      "outputs": [
        {
          "output_type": "execute_result",
          "data": {
            "text/plain": [
              "0.4887917626728111"
            ]
          },
          "metadata": {
            "tags": []
          },
          "execution_count": 17
        }
      ]
    },
    {
      "cell_type": "markdown",
      "metadata": {
        "id": "J2gHhyUkY_CU"
      },
      "source": [
        "The function written in Question 4 will help us in creating our simulation. The code below creates one simulation by taking in the entire dataframe of taiwan and malaysia made in Question 1, and making a new data frame from just the Country and Stars columns. From there, it creates a copy of that modified dataframe and adds anouther column, Shuffle which consists of the Country column being put in a random order, and calls `difference_of_rating_average` with the column name being the Shuffle column. \n",
        "\n",
        "**You can call the function using the dataframe you made in Question 1**"
      ]
    },
    {
      "cell_type": "code",
      "metadata": {
        "id": "Tes6et52tIcx",
        "outputId": "d8b216a1-b413-4aa2-83f8-6ddc81647a4f",
        "colab": {
          "base_uri": "https://localhost:8080/",
          "height": 35
        }
      },
      "source": [
        "def one_simulated_difference(table):\n",
        "    table1 = pd.concat([table[\"Country\"],table[\"Stars\"]],axis=1,keys=['Country','Stars'])\n",
        "    shuffled_labels = table1[\"Country\"].sample(frac=1).values\n",
        "\n",
        "    shuffled_table = table1\n",
        "    shuffled_table[\"Shuffle\"] = shuffled_labels\n",
        "    return difference_of_rating_average(table1,\"Shuffle\")\n",
        "\n",
        "one_simulated_difference(taiwan_and_malaysia)"
      ],
      "execution_count": 18,
      "outputs": [
        {
          "output_type": "execute_result",
          "data": {
            "text/plain": [
              "-0.13396025345622098"
            ]
          },
          "metadata": {
            "tags": []
          },
          "execution_count": 18
        }
      ]
    },
    {
      "cell_type": "markdown",
      "metadata": {
        "id": "0wQb4W23Lxso"
      },
      "source": [
        "**Question 5**: Simulate running our single simulation function 100 times, store the results in an array, and plot the results using a histogram"
      ]
    },
    {
      "cell_type": "code",
      "metadata": {
        "id": "uTb8mXfZLP23",
        "outputId": "debc0965-559f-4365-f71b-b57f788a8ce7",
        "colab": {
          "base_uri": "https://localhost:8080/",
          "height": 409
        }
      },
      "source": [
        "hundred_simulations = []\n",
        "for i in np.arange(100):\n",
        "  hundred_simulations = np.append(hundred_simulations, one_simulated_difference(taiwan_and_malaysia))\n",
        "    \n",
        "plt.figure(figsize=(8,6))\n",
        "plt.hist(hundred_simulations, bins=10, alpha=0.5, color=\"red\")\n",
        "plt.xlabel(\"Star Ratings\", size=\"16\")\n",
        "plt.ylabel(\"Count\", size=\"16\")\n",
        "plt.title(\"Distribution of Ramen Rating Difference between Taiwan and Malaysia\")\n",
        "plt.show()"
      ],
      "execution_count": 21,
      "outputs": [
        {
          "output_type": "display_data",
          "data": {
            "image/png": "[encoded data removed]",
            "text/plain": [
              "<Figure size 576x432 with 1 Axes>"
            ]
          },
          "metadata": {
            "tags": [],
            "needs_background": "light"
          }
        }
      ]
    },
    {
      "cell_type": "markdown",
      "metadata": {
        "id": "6GFvgpVxNtvX"
      },
      "source": [
        "**Question 6**: Based on the the histogram you made, which hypothesis does the data favor."
      ]
    },
    {
      "cell_type": "markdown",
      "metadata": {
        "id": "XVX5ZHiBbw_C"
      },
      "source": [
        "Null hypothesis"
      ]
    },
    {
      "cell_type": "markdown",
      "metadata": {
        "id": "FNLC4SilfZaj"
      },
      "source": [
        "## 2. Pokemon Strength"
      ]
    },
    {
      "cell_type": "markdown",
      "metadata": {
        "id": "h0mN9OX1s4-B"
      },
      "source": [
        "Pokemon has been one of the most popular trading card games since it's release in the 1990s. For this section, we'll take a look at pokemon data to see if having a secondary type causes Pokemon to have higher total stats\n"
      ]
    },
    {
      "cell_type": "code",
      "metadata": {
        "id": "FdP_lFnBfqJB",
        "outputId": "a2d22cd6-fe09-425a-8e6f-1d4ef89ccdaa",
        "colab": {
          "base_uri": "https://localhost:8080/",
          "height": 202
        }
      },
      "source": [
        "pokemon_df = pd.read_csv('Pokemon.csv')\n",
        "pokemon_df.head()"
      ],
      "execution_count": 22,
      "outputs": [
        {
          "output_type": "execute_result",
          "data": {
            "text/html": [
              "<div>\n",
              "<style scoped>\n",
              "    .dataframe tbody tr th:only-of-type {\n",
              "        vertical-align: middle;\n",
              "    }\n",
              "\n",
              "    .dataframe tbody tr th {\n",
              "        vertical-align: top;\n",
              "    }\n",
              "\n",
              "    .dataframe thead th {\n",
              "        text-align: right;\n",
              "    }\n",
              "</style>\n",
              "<table border=\"1\" class=\"dataframe\">\n",
              "  <thead>\n",
              "    <tr style=\"text-align: right;\">\n",
              "      <th></th>\n",
              "      <th>#</th>\n",
              "      <th>Name</th>\n",
              "      <th>Type 1</th>\n",
              "      <th>Type 2</th>\n",
              "      <th>Total</th>\n",
              "      <th>HP</th>\n",
              "      <th>Attack</th>\n",
              "      <th>Defense</th>\n",
              "      <th>Sp. Atk</th>\n",
              "      <th>Sp. Def</th>\n",
              "      <th>Speed</th>\n",
              "      <th>Generation</th>\n",
              "      <th>Legendary</th>\n",
              "    </tr>\n",
              "  </thead>\n",
              "  <tbody>\n",
              "    <tr>\n",
              "      <th>0</th>\n",
              "      <td>1</td>\n",
              "      <td>Bulbasaur</td>\n",
              "      <td>Grass</td>\n",
              "      <td>Poison</td>\n",
              "      <td>318</td>\n",
              "      <td>45</td>\n",
              "      <td>49</td>\n",
              "      <td>49</td>\n",
              "      <td>65</td>\n",
              "      <td>65</td>\n",
              "      <td>45</td>\n",
              "      <td>1</td>\n",
              "      <td>False</td>\n",
              "    </tr>\n",
              "    <tr>\n",
              "      <th>1</th>\n",
              "      <td>2</td>\n",
              "      <td>Ivysaur</td>\n",
              "      <td>Grass</td>\n",
              "      <td>Poison</td>\n",
              "      <td>405</td>\n",
              "      <td>60</td>\n",
              "      <td>62</td>\n",
              "      <td>63</td>\n",
              "      <td>80</td>\n",
              "      <td>80</td>\n",
              "      <td>60</td>\n",
              "      <td>1</td>\n",
              "      <td>False</td>\n",
              "    </tr>\n",
              "    <tr>\n",
              "      <th>2</th>\n",
              "      <td>3</td>\n",
              "      <td>Venusaur</td>\n",
              "      <td>Grass</td>\n",
              "      <td>Poison</td>\n",
              "      <td>525</td>\n",
              "      <td>80</td>\n",
              "      <td>82</td>\n",
              "      <td>83</td>\n",
              "      <td>100</td>\n",
              "      <td>100</td>\n",
              "      <td>80</td>\n",
              "      <td>1</td>\n",
              "      <td>False</td>\n",
              "    </tr>\n",
              "    <tr>\n",
              "      <th>3</th>\n",
              "      <td>3</td>\n",
              "      <td>VenusaurMega Venusaur</td>\n",
              "      <td>Grass</td>\n",
              "      <td>Poison</td>\n",
              "      <td>625</td>\n",
              "      <td>80</td>\n",
              "      <td>100</td>\n",
              "      <td>123</td>\n",
              "      <td>122</td>\n",
              "      <td>120</td>\n",
              "      <td>80</td>\n",
              "      <td>1</td>\n",
              "      <td>False</td>\n",
              "    </tr>\n",
              "    <tr>\n",
              "      <th>4</th>\n",
              "      <td>4</td>\n",
              "      <td>Charmander</td>\n",
              "      <td>Fire</td>\n",
              "      <td>NaN</td>\n",
              "      <td>309</td>\n",
              "      <td>39</td>\n",
              "      <td>52</td>\n",
              "      <td>43</td>\n",
              "      <td>60</td>\n",
              "      <td>50</td>\n",
              "      <td>65</td>\n",
              "      <td>1</td>\n",
              "      <td>False</td>\n",
              "    </tr>\n",
              "  </tbody>\n",
              "</table>\n",
              "</div>"
            ],
            "text/plain": [
              "   #                   Name Type 1  ... Speed  Generation  Legendary\n",
              "0  1              Bulbasaur  Grass  ...    45           1      False\n",
              "1  2                Ivysaur  Grass  ...    60           1      False\n",
              "2  3               Venusaur  Grass  ...    80           1      False\n",
              "3  3  VenusaurMega Venusaur  Grass  ...    80           1      False\n",
              "4  4             Charmander   Fire  ...    65           1      False\n",
              "\n",
              "[5 rows x 13 columns]"
            ]
          },
          "metadata": {
            "tags": []
          },
          "execution_count": 22
        }
      ]
    },
    {
      "cell_type": "markdown",
      "metadata": {
        "id": "QJBoZznTvJyZ"
      },
      "source": [
        "**Question 1:** Create a new dataframe called `secondary_types` which consists of the the Type 2 and Total columns in pokemon_df, and update the Type 2 column such that rows with NaN will be set to 0 and rows without NaN will be set to 1. This will help us be able to see which pokemon have secondary types or not"
      ]
    },
    {
      "cell_type": "code",
      "metadata": {
        "id": "vAbO_O8mgSL_",
        "outputId": "12e87d8e-755d-4301-e073-0262d35fa2b8",
        "colab": {
          "base_uri": "https://localhost:8080/",
          "height": 519
        }
      },
      "source": [
        "secondary_types = pokemon_df[['Type 2','Total']]\n",
        "secondary_types[\"Type 2\"] = secondary_types['Type 2'].apply(lambda x: 0 if pd.isnull(x) else 1)\n",
        "secondary_types"
      ],
      "execution_count": 26,
      "outputs": [
        {
          "output_type": "stream",
          "text": [
            "/usr/local/lib/python3.6/dist-packages/ipykernel_launcher.py:2: SettingWithCopyWarning: \n",
            "A value is trying to be set on a copy of a slice from a DataFrame.\n",
            "Try using .loc[row_indexer,col_indexer] = value instead\n",
            "\n",
            "See the caveats in the documentation: https://pandas.pydata.org/pandas-docs/stable/user_guide/indexing.html#returning-a-view-versus-a-copy\n",
            "  \n"
          ],
          "name": "stderr"
        },
        {
          "output_type": "execute_result",
          "data": {
            "text/html": [
              "<div>\n",
              "<style scoped>\n",
              "    .dataframe tbody tr th:only-of-type {\n",
              "        vertical-align: middle;\n",
              "    }\n",
              "\n",
              "    .dataframe tbody tr th {\n",
              "        vertical-align: top;\n",
              "    }\n",
              "\n",
              "    .dataframe thead th {\n",
              "        text-align: right;\n",
              "    }\n",
              "</style>\n",
              "<table border=\"1\" class=\"dataframe\">\n",
              "  <thead>\n",
              "    <tr style=\"text-align: right;\">\n",
              "      <th></th>\n",
              "      <th>Type 2</th>\n",
              "      <th>Total</th>\n",
              "    </tr>\n",
              "  </thead>\n",
              "  <tbody>\n",
              "    <tr>\n",
              "      <th>0</th>\n",
              "      <td>1</td>\n",
              "      <td>318</td>\n",
              "    </tr>\n",
              "    <tr>\n",
              "      <th>1</th>\n",
              "      <td>1</td>\n",
              "      <td>405</td>\n",
              "    </tr>\n",
              "    <tr>\n",
              "      <th>2</th>\n",
              "      <td>1</td>\n",
              "      <td>525</td>\n",
              "    </tr>\n",
              "    <tr>\n",
              "      <th>3</th>\n",
              "      <td>1</td>\n",
              "      <td>625</td>\n",
              "    </tr>\n",
              "    <tr>\n",
              "      <th>4</th>\n",
              "      <td>0</td>\n",
              "      <td>309</td>\n",
              "    </tr>\n",
              "    <tr>\n",
              "      <th>...</th>\n",
              "      <td>...</td>\n",
              "      <td>...</td>\n",
              "    </tr>\n",
              "    <tr>\n",
              "      <th>795</th>\n",
              "      <td>1</td>\n",
              "      <td>600</td>\n",
              "    </tr>\n",
              "    <tr>\n",
              "      <th>796</th>\n",
              "      <td>1</td>\n",
              "      <td>700</td>\n",
              "    </tr>\n",
              "    <tr>\n",
              "      <th>797</th>\n",
              "      <td>1</td>\n",
              "      <td>600</td>\n",
              "    </tr>\n",
              "    <tr>\n",
              "      <th>798</th>\n",
              "      <td>1</td>\n",
              "      <td>680</td>\n",
              "    </tr>\n",
              "    <tr>\n",
              "      <th>799</th>\n",
              "      <td>1</td>\n",
              "      <td>600</td>\n",
              "    </tr>\n",
              "  </tbody>\n",
              "</table>\n",
              "<p>800 rows × 2 columns</p>\n",
              "</div>"
            ],
            "text/plain": [
              "     Type 2  Total\n",
              "0         1    318\n",
              "1         1    405\n",
              "2         1    525\n",
              "3         1    625\n",
              "4         0    309\n",
              "..      ...    ...\n",
              "795       1    600\n",
              "796       1    700\n",
              "797       1    600\n",
              "798       1    680\n",
              "799       1    600\n",
              "\n",
              "[800 rows x 2 columns]"
            ]
          },
          "metadata": {
            "tags": []
          },
          "execution_count": 26
        }
      ]
    },
    {
      "cell_type": "code",
      "metadata": {
        "id": "ztvz3Yw-hw2J",
        "outputId": "36b02afb-ea40-49ed-e809-b679f4c78684",
        "colab": {
          "base_uri": "https://localhost:8080/",
          "height": 425
        }
      },
      "source": [
        "has_secondary = []\n",
        "non_secondary = []\n",
        "\n",
        "for index , row in secondary_types.iterrows():\n",
        "    if row[\"Type 2\"] == 0:\n",
        "      non_secondary.append(row[\"Total\"])\n",
        "    else:\n",
        "      has_secondary.append(row[\"Total\"])\n",
        "\n",
        "has_secondary = np.array(has_secondary)\n",
        "non_secondary = np.array(non_secondary)\n",
        "\n",
        "plt.figure(figsize=(8,6))\n",
        "plt.hist(has_secondary,bins=10,alpha=0.5,label=\"Secondary Type\")\n",
        "plt.hist(non_secondary,bins=10,alpha=0.5,label=\"Non Secodary Type\")\n",
        "plt.xlabel(\"Total Stats\",size=\"14\")\n",
        "plt.ylabel(\"Count\",size=\"14\")\n",
        "plt.title(\"Distribution of Secondary and Non-Secondary Typed Pokemon\")\n",
        "plt.legend(loc=\"upper left\")"
      ],
      "execution_count": 27,
      "outputs": [
        {
          "output_type": "execute_result",
          "data": {
            "text/plain": [
              "<matplotlib.legend.Legend at 0x7f146cb73ba8>"
            ]
          },
          "metadata": {
            "tags": []
          },
          "execution_count": 27
        },
        {
          "output_type": "display_data",
          "data": {
            "image/png": "[encoded data removed]",
            "text/plain": [
              "<Figure size 576x432 with 1 Axes>"
            ]
          },
          "metadata": {
            "tags": [],
            "needs_background": "light"
          }
        }
      ]
    },
    {
      "cell_type": "markdown",
      "metadata": {
        "id": "wyTl3_BPwIsv"
      },
      "source": [
        "We can see from this data that the non-secondary types are slightly left, which can indicate that not having a secondary type makes pokemon have less stats. But we can't jump to this conclusion without forming our hypotheses and creating a simulation\n",
        "\n",
        "**Question:** What are our null and alternative hypotheses?"
      ]
    },
    {
      "cell_type": "markdown",
      "metadata": {
        "id": "2anzs8zI0At-"
      },
      "source": [
        "**Null Hypothesis:** The distribution of Typed Pokemon is the same for both secondary and non-secondary; the difference is stochastic.\n",
        "\n",
        "**Alternative Hypothesis:** In the data, secondary typed pokemon is higher than non-secondary typed pokemon."
      ]
    },
    {
      "cell_type": "markdown",
      "metadata": {
        "id": "7wxIBAfvvuLA"
      },
      "source": [
        "**Question 2:** Use the `secondary_types` dataframe you made to get the difference in mean total stats for Pokemon with and without a secondary type"
      ]
    },
    {
      "cell_type": "code",
      "metadata": {
        "id": "D9KEdg5glda5",
        "outputId": "710d31fc-1185-4574-ef6f-5b5d76f55e88",
        "colab": {
          "base_uri": "https://localhost:8080/",
          "height": 35
        }
      },
      "source": [
        "def difference_in_sec_and_non_sec(dataframe, column_name=\"Type 2\"):\n",
        "  zero_cards = []\n",
        "  one_cards = []\n",
        "  for index, row in dataframe.iterrows():\n",
        "    card = dataframe.loc[index, column_name]\n",
        "    if card == 0:\n",
        "      zero_card = dataframe.loc[index, \"Total\"]      \n",
        "      zero_cards.append(zero_card)\n",
        "    elif card == 1:      \n",
        "      one_card = dataframe.loc[index, \"Total\"]      \n",
        "      one_cards.append(one_card)\n",
        "  return mean(one_cards) - mean(zero_cards)\n",
        "    \n",
        "difference_in_sec_and_non_sec(secondary_types, column_name=\"Type 2\")"
      ],
      "execution_count": 30,
      "outputs": [
        {
          "output_type": "execute_result",
          "data": {
            "text/plain": [
              "44"
            ]
          },
          "metadata": {
            "tags": []
          },
          "execution_count": 30
        }
      ]
    },
    {
      "cell_type": "markdown",
      "metadata": {
        "id": "vSGRhgLdwHG-"
      },
      "source": [
        "**Question 3:** Complete the function `simulated_difference_poke` which takes in no parameters. It should:\n",
        "\n",
        "\n",
        "1.   Create a copy of table1 with an extra column that holds the values in Type 2 shuffled in random order\n",
        "2.   returns the difference in mean total stats for pokemon with an without a secondary type\n",
        "\n"
      ]
    },
    {
      "cell_type": "code",
      "metadata": {
        "id": "pku0GTy0l7Js"
      },
      "source": [
        "def simulated_difference_poke():\n",
        "    table1 = pd.concat([pokemon_df[\"Type 2\"],pokemon_df['Total']], axis = 1, keys = [\"Type 2\",\"Total\"])\n",
        "    table1[\"Type 2\"] = (table1['Type 2'].notnull()).astype('int')\n",
        "\n",
        "    shuffled_labels = table1[\"Type 2\"].sample(frac=1).values\n",
        "    shuffled_table = table1\n",
        "    shuffled_table[\"Shuffle\"] = shuffled_labels\n",
        "    return difference_in_sec_and_non_sec(shuffled_table, \"Shuffle\")"
      ],
      "execution_count": 33,
      "outputs": []
    },
    {
      "cell_type": "code",
      "metadata": {
        "id": "cQ4-zxaXm7dN",
        "outputId": "5f0056dd-9483-4066-cdf3-c0bf6fbb7c65",
        "colab": {
          "base_uri": "https://localhost:8080/",
          "height": 35
        }
      },
      "source": [
        "simulated_difference_poke()"
      ],
      "execution_count": 34,
      "outputs": [
        {
          "output_type": "execute_result",
          "data": {
            "text/plain": [
              "-6"
            ]
          },
          "metadata": {
            "tags": []
          },
          "execution_count": 34
        }
      ]
    },
    {
      "cell_type": "markdown",
      "metadata": {
        "id": "mOhQswBWxX-J"
      },
      "source": [
        "**Question 4:** Run your `simulated_difference_poke` code 1000 times and display the results using a histogram. If your code times out with 1000, feel free to use a smaller number like 500. You'll get a similar result either way."
      ]
    },
    {
      "cell_type": "code",
      "metadata": {
        "id": "0wqNw8LVnjJX",
        "outputId": "dc5f4bb6-298b-46ba-ff49-88d2c65ce147",
        "colab": {
          "base_uri": "https://localhost:8080/",
          "height": 408
        }
      },
      "source": [
        "thousand_simulations = []\n",
        "for i in np.arange(1000):\n",
        "  thousand_simulations = np.append(thousand_simulations, simulated_difference_poke())\n",
        "    \n",
        "plt.figure(figsize=(8,6))\n",
        "plt.hist(thousand_simulations, bins=10, alpha=0.5, color=\"red\")\n",
        "plt.xlabel(\"Difference\", size=\"14\")\n",
        "plt.ylabel(\"Count\", size=\"14\")\n",
        "plt.title(\"Distribution of Difference between Secondary and Non-Secondary Typed Pokemon\")\n",
        "plt.show()"
      ],
      "execution_count": 35,
      "outputs": [
        {
          "output_type": "display_data",
          "data": {
            "image/png": "[encoded data removed]",
            "text/plain": [
              "<Figure size 576x432 with 1 Axes>"
            ]
          },
          "metadata": {
            "tags": [],
            "needs_background": "light"
          }
        }
      ]
    },
    {
      "cell_type": "markdown",
      "metadata": {
        "id": "_a05LpIlxxzv"
      },
      "source": [
        "**Question 5:** What can you conclude about this data? Is it safe to say that having a secondary type causes pokemon to have higher total stats? Why or why not? If we calculate our P value, what does the result say about our data?"
      ]
    },
    {
      "cell_type": "markdown",
      "metadata": {
        "id": "hJA8cUe60Ei0"
      },
      "source": [
        "Yes.  The P-value is above 0, meaning that the permuted samples resulted in a positive difference. This reinforces the idea that secondary type pokemon have higher total stats. \n"
      ]
    },
    {
      "cell_type": "code",
      "metadata": {
        "id": "KazzdSC09TkM",
        "outputId": "f5bc1f48-d345-4d98-f961-73d625ff5687",
        "colab": {
          "base_uri": "https://localhost:8080/",
          "height": 35
        }
      },
      "source": [
        "p_val = np.count_nonzero(thousand_simulations <= simulated_difference_poke())/1000\n",
        "p_val"
      ],
      "execution_count": 38,
      "outputs": [
        {
          "output_type": "execute_result",
          "data": {
            "text/plain": [
              "0.323"
            ]
          },
          "metadata": {
            "tags": []
          },
          "execution_count": 38
        }
      ]
    }
  ]
}