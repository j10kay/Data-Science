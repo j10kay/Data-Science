{
  "nbformat": 4,
  "nbformat_minor": 0,
  "metadata": {
    "colab": {
      "name": "Lab_6_September22.ipynb",
      "provenance": []
    },
    "kernelspec": {
      "name": "python3",
      "display_name": "Python 3"
    }
  },
  "cells": [
    {
      "cell_type": "markdown",
      "metadata": {
        "id": "PGW2995M-tgx",
        "colab_type": "text"
      },
      "source": [
        "# Web Scraping with Pandas and BeautifulSoup\n",
        "Web scraping is a useful way of gathering large sets of data very quickly. To put it simply, data scientists write code that inspects multiple web pages to get the data they want. For the purposes of this class, we'll be scraping our data using Pandas and BeautifulSoup. But before we get into the assigment, let's go over exactly how this all works"
      ]
    },
    {
      "cell_type": "code",
      "metadata": {
        "id": "QYj5DSjFrX2Q",
        "colab_type": "code",
        "colab": {}
      },
      "source": [
        "import pandas as pd\n",
        "import requests\n",
        "import numpy as np\n",
        "import matplotlib.pyplot as plt\n",
        " \n",
        "from urllib.request import urlopen\n",
        "from bs4 import BeautifulSoup\n",
        "from tabulate import tabulate"
      ],
      "execution_count": 1,
      "outputs": []
    },
    {
      "cell_type": "markdown",
      "metadata": {
        "id": "MrB9Fk0oJBGT",
        "colab_type": "text"
      },
      "source": [
        "Basically, all web scraping is doing is taking the HTML from the internet to see if there's any useful information we can extract from it. All your really need is a url of your choice, and some basic knowledge of HTML tags.\n",
        "\n",
        "**BeautifulSoup** is a Python library that allows you to take scrapped html and filter it to find whatever information you want, which we'll be using for this lab"
      ]
    },
    {
      "cell_type": "code",
      "metadata": {
        "id": "mXSXB-_5Ix4D",
        "colab_type": "code",
        "colab": {
          "base_uri": "https://localhost:8080/",
          "height": 245
        },
        "outputId": "f6148f69-8b57-4e39-81ae-0554609353f0"
      },
      "source": [
        " \n",
        "url = \"http://www.pythonscraping.com/pages/page1.html\"\n",
        " \n",
        "html = urlopen(url)\n",
        "bs = BeautifulSoup(html.read(),'html.parser')\n",
        "print(bs)"
      ],
      "execution_count": 2,
      "outputs": [
        {
          "output_type": "stream",
          "text": [
            "<html>\n",
            "<head>\n",
            "<title>A Useful Page</title>\n",
            "</head>\n",
            "<body>\n",
            "<h1>An Interesting Title</h1>\n",
            "<div>\n",
            "Lorem ipsum dolor sit amet, consectetur adipisicing elit, sed do eiusmod tempor incididunt ut labore et dolore magna aliqua. Ut enim ad minim veniam, quis nostrud exercitation ullamco laboris nisi ut aliquip ex ea commodo consequat. Duis aute irure dolor in reprehenderit in voluptate velit esse cillum dolore eu fugiat nulla pariatur. Excepteur sint occaecat cupidatat non proident, sunt in culpa qui officia deserunt mollit anim id est laborum.\n",
            "</div>\n",
            "</body>\n",
            "</html>\n",
            "\n"
          ],
          "name": "stdout"
        }
      ]
    },
    {
      "cell_type": "markdown",
      "metadata": {
        "id": "5WrvbgdbJm8E",
        "colab_type": "text"
      },
      "source": [
        "You can use BeautifulSoup to find just one element, or an array of elements in the HTML tree using functions like `find`, `find_all`, `bs.title`, etc. \n",
        "\n",
        "See the web scraping video or take a look at https://colab.research.google.com/drive/1RKPEsuRpqQ-eRtEuilN6cpGDEQKCqzwU?usp=sharing to see these functions in action"
      ]
    },
    {
      "cell_type": "code",
      "metadata": {
        "id": "5N0JZ7igIxzJ",
        "colab_type": "code",
        "colab": {
          "base_uri": "https://localhost:8080/",
          "height": 52
        },
        "outputId": "74394c5d-36b9-434f-ab15-a29eb73c17b3"
      },
      "source": [
        "url = \"http://www.pythonscraping.com/pages/page3.html\"\n",
        " \n",
        "html = urlopen(url)\n",
        "bs = BeautifulSoup(html.read(),'html.parser')\n",
        "print(bs.h1)\n",
        "print(bs.find_all('img'))"
      ],
      "execution_count": 3,
      "outputs": [
        {
          "output_type": "stream",
          "text": [
            "<h1>Totally Normal Gifts</h1>\n",
            "[<img src=\"../img/gifts/logo.jpg\" style=\"float:left;\"/>, <img src=\"../img/gifts/img1.jpg\"/>, <img src=\"../img/gifts/img2.jpg\"/>, <img src=\"../img/gifts/img3.jpg\"/>, <img src=\"../img/gifts/img4.jpg\"/>, <img src=\"../img/gifts/img6.jpg\"/>]\n"
          ],
          "name": "stdout"
        }
      ]
    },
    {
      "cell_type": "markdown",
      "metadata": {
        "id": "Emaf11aTzwlk",
        "colab_type": "text"
      },
      "source": [
        "### Section 1: Billionaires in 2015"
      ]
    },
    {
      "cell_type": "markdown",
      "metadata": {
        "id": "YKNN616HsenE",
        "colab_type": "text"
      },
      "source": [
        "For this assignment, we'll be scraping tabular data from Wikipeda's Billionaires articles. Since web scraping is fairly new, a lot of the dirty work is done for you. Your job is to grab the necessary data from the dataframes and answer some questions about them, as well as try to scrape some tabular data of your own!"
      ]
    },
    {
      "cell_type": "code",
      "metadata": {
        "id": "sIgei1_pOJRY",
        "colab_type": "code",
        "colab": {
          "base_uri": "https://localhost:8080/",
          "height": 415
        },
        "outputId": "568fd52d-9e9d-4c27-cf09-31674cf6eb23"
      },
      "source": [
        "# Opening the and reading the article's url.\n",
        "url = \"https://en.wikipedia.org/wiki/The_World%27s_Billionaires_2015\"\n",
        "html = urlopen(url)\n",
        "soup = BeautifulSoup(html.read(),'html.parser')\n",
        "# finding all table tags within the HTML tree. This will return a ResultSet of\n",
        "# table tags.\n",
        "table = soup.find_all('table') \n",
        "\n",
        "# convert table variable to string for parsing and have pandas take the html\n",
        "# and convert it into a dataframe.\n",
        "df = pd.read_html(str(table))\n",
        "\n",
        "# the table we want is in index 2, so we reinitialize the dataframe to that and\n",
        "# display.\n",
        "df = pd.DataFrame(df[2])\n",
        "df"
      ],
      "execution_count": 95,
      "outputs": [
        {
          "output_type": "execute_result",
          "data": {
            "text/html": [
              "<div>\n",
              "<style scoped>\n",
              "    .dataframe tbody tr th:only-of-type {\n",
              "        vertical-align: middle;\n",
              "    }\n",
              "\n",
              "    .dataframe tbody tr th {\n",
              "        vertical-align: top;\n",
              "    }\n",
              "\n",
              "    .dataframe thead th {\n",
              "        text-align: right;\n",
              "    }\n",
              "</style>\n",
              "<table border=\"1\" class=\"dataframe\">\n",
              "  <thead>\n",
              "    <tr style=\"text-align: right;\">\n",
              "      <th></th>\n",
              "      <th>No.</th>\n",
              "      <th>Name</th>\n",
              "      <th>Citizenship</th>\n",
              "      <th>Age</th>\n",
              "      <th>Net Worth USD billion</th>\n",
              "      <th>Source(s) of wealth</th>\n",
              "    </tr>\n",
              "  </thead>\n",
              "  <tbody>\n",
              "    <tr>\n",
              "      <th>0</th>\n",
              "      <td>1</td>\n",
              "      <td>Bill Gates</td>\n",
              "      <td>United States</td>\n",
              "      <td>59.0</td>\n",
              "      <td>79.2</td>\n",
              "      <td>Microsoft</td>\n",
              "    </tr>\n",
              "    <tr>\n",
              "      <th>1</th>\n",
              "      <td>2</td>\n",
              "      <td>Carlos Slim Helu</td>\n",
              "      <td>Mexico</td>\n",
              "      <td>75.0</td>\n",
              "      <td>77.1</td>\n",
              "      <td>Telecom</td>\n",
              "    </tr>\n",
              "    <tr>\n",
              "      <th>2</th>\n",
              "      <td>3</td>\n",
              "      <td>Warren Buffett</td>\n",
              "      <td>United States</td>\n",
              "      <td>84.0</td>\n",
              "      <td>72.7</td>\n",
              "      <td>Berkshire Hathaway</td>\n",
              "    </tr>\n",
              "    <tr>\n",
              "      <th>3</th>\n",
              "      <td>4</td>\n",
              "      <td>Amancio Ortega</td>\n",
              "      <td>Spain</td>\n",
              "      <td>78.0</td>\n",
              "      <td>64.5</td>\n",
              "      <td>Zara</td>\n",
              "    </tr>\n",
              "    <tr>\n",
              "      <th>4</th>\n",
              "      <td>5</td>\n",
              "      <td>Larry Ellison</td>\n",
              "      <td>United States</td>\n",
              "      <td>70.0</td>\n",
              "      <td>54.3</td>\n",
              "      <td>Oracle</td>\n",
              "    </tr>\n",
              "    <tr>\n",
              "      <th>...</th>\n",
              "      <td>...</td>\n",
              "      <td>...</td>\n",
              "      <td>...</td>\n",
              "      <td>...</td>\n",
              "      <td>...</td>\n",
              "      <td>...</td>\n",
              "    </tr>\n",
              "    <tr>\n",
              "      <th>97</th>\n",
              "      <td>96</td>\n",
              "      <td>Patrick Soon-Shiong</td>\n",
              "      <td>United States</td>\n",
              "      <td>63.0</td>\n",
              "      <td>12.2</td>\n",
              "      <td>Pharmaceuticals</td>\n",
              "    </tr>\n",
              "    <tr>\n",
              "      <th>98</th>\n",
              "      <td>99</td>\n",
              "      <td>Stefano Pessina</td>\n",
              "      <td>Italy</td>\n",
              "      <td>73.0</td>\n",
              "      <td>12.1</td>\n",
              "      <td>Drugstores</td>\n",
              "    </tr>\n",
              "    <tr>\n",
              "      <th>99</th>\n",
              "      <td>100</td>\n",
              "      <td>Richard Kinder</td>\n",
              "      <td>United States</td>\n",
              "      <td>70.0</td>\n",
              "      <td>12.0</td>\n",
              "      <td>Pipelines</td>\n",
              "    </tr>\n",
              "    <tr>\n",
              "      <th>100</th>\n",
              "      <td>100</td>\n",
              "      <td>Elon Musk</td>\n",
              "      <td>United States</td>\n",
              "      <td>43.0</td>\n",
              "      <td>12.0</td>\n",
              "      <td>Tesla Motors</td>\n",
              "    </tr>\n",
              "    <tr>\n",
              "      <th>101</th>\n",
              "      <td>100</td>\n",
              "      <td>Stephen Schwarzman</td>\n",
              "      <td>United States</td>\n",
              "      <td>68.0</td>\n",
              "      <td>12.0</td>\n",
              "      <td>Investments</td>\n",
              "    </tr>\n",
              "  </tbody>\n",
              "</table>\n",
              "<p>102 rows × 6 columns</p>\n",
              "</div>"
            ],
            "text/plain": [
              "     No.                 Name  ... Net Worth USD billion  Source(s) of wealth\n",
              "0      1           Bill Gates  ...                  79.2            Microsoft\n",
              "1      2     Carlos Slim Helu  ...                  77.1              Telecom\n",
              "2      3       Warren Buffett  ...                  72.7   Berkshire Hathaway\n",
              "3      4       Amancio Ortega  ...                  64.5                 Zara\n",
              "4      5        Larry Ellison  ...                  54.3               Oracle\n",
              "..   ...                  ...  ...                   ...                  ...\n",
              "97    96  Patrick Soon-Shiong  ...                  12.2      Pharmaceuticals\n",
              "98    99      Stefano Pessina  ...                  12.1           Drugstores\n",
              "99   100       Richard Kinder  ...                  12.0            Pipelines\n",
              "100  100            Elon Musk  ...                  12.0         Tesla Motors\n",
              "101  100   Stephen Schwarzman  ...                  12.0          Investments\n",
              "\n",
              "[102 rows x 6 columns]"
            ]
          },
          "metadata": {
            "tags": []
          },
          "execution_count": 95
        }
      ]
    },
    {
      "cell_type": "markdown",
      "metadata": {
        "id": "BRgscEODx1aV",
        "colab_type": "text"
      },
      "source": [
        "**Question 1**: In order to get a cleaner view of this data set, sort the Age column in ascending order.\n",
        "\n",
        "\n"
      ]
    },
    {
      "cell_type": "code",
      "metadata": {
        "id": "ZKDquskgyRtk",
        "colab_type": "code",
        "colab": {
          "base_uri": "https://localhost:8080/",
          "height": 415
        },
        "outputId": "c88ea14d-5136-4fe3-bcad-212958580ec2"
      },
      "source": [
        "df = df.sort_values(by=['Age'])\n",
        "df"
      ],
      "execution_count": 96,
      "outputs": [
        {
          "output_type": "execute_result",
          "data": {
            "text/html": [
              "<div>\n",
              "<style scoped>\n",
              "    .dataframe tbody tr th:only-of-type {\n",
              "        vertical-align: middle;\n",
              "    }\n",
              "\n",
              "    .dataframe tbody tr th {\n",
              "        vertical-align: top;\n",
              "    }\n",
              "\n",
              "    .dataframe thead th {\n",
              "        text-align: right;\n",
              "    }\n",
              "</style>\n",
              "<table border=\"1\" class=\"dataframe\">\n",
              "  <thead>\n",
              "    <tr style=\"text-align: right;\">\n",
              "      <th></th>\n",
              "      <th>No.</th>\n",
              "      <th>Name</th>\n",
              "      <th>Citizenship</th>\n",
              "      <th>Age</th>\n",
              "      <th>Net Worth USD billion</th>\n",
              "      <th>Source(s) of wealth</th>\n",
              "    </tr>\n",
              "  </thead>\n",
              "  <tbody>\n",
              "    <tr>\n",
              "      <th>15</th>\n",
              "      <td>16</td>\n",
              "      <td>Mark Zuckerberg</td>\n",
              "      <td>United States</td>\n",
              "      <td>30.0</td>\n",
              "      <td>33.4</td>\n",
              "      <td>Facebook</td>\n",
              "    </tr>\n",
              "    <tr>\n",
              "      <th>19</th>\n",
              "      <td>20</td>\n",
              "      <td>Sergey Brin</td>\n",
              "      <td>United States</td>\n",
              "      <td>41.0</td>\n",
              "      <td>29.2</td>\n",
              "      <td>Google</td>\n",
              "    </tr>\n",
              "    <tr>\n",
              "      <th>18</th>\n",
              "      <td>19</td>\n",
              "      <td>Larry Page</td>\n",
              "      <td>United States</td>\n",
              "      <td>41.0</td>\n",
              "      <td>29.7</td>\n",
              "      <td>Google</td>\n",
              "    </tr>\n",
              "    <tr>\n",
              "      <th>100</th>\n",
              "      <td>100</td>\n",
              "      <td>Elon Musk</td>\n",
              "      <td>United States</td>\n",
              "      <td>43.0</td>\n",
              "      <td>12.0</td>\n",
              "      <td>Tesla Motors</td>\n",
              "    </tr>\n",
              "    <tr>\n",
              "      <th>55</th>\n",
              "      <td>56</td>\n",
              "      <td>Ma Huateng</td>\n",
              "      <td>China</td>\n",
              "      <td>43.0</td>\n",
              "      <td>16.1</td>\n",
              "      <td>Internet media</td>\n",
              "    </tr>\n",
              "    <tr>\n",
              "      <th>...</th>\n",
              "      <td>...</td>\n",
              "      <td>...</td>\n",
              "      <td>...</td>\n",
              "      <td>...</td>\n",
              "      <td>...</td>\n",
              "      <td>...</td>\n",
              "    </tr>\n",
              "    <tr>\n",
              "      <th>52</th>\n",
              "      <td>53</td>\n",
              "      <td>Anne Cox Chambers</td>\n",
              "      <td>United States</td>\n",
              "      <td>95.0</td>\n",
              "      <td>17.0</td>\n",
              "      <td>Media</td>\n",
              "    </tr>\n",
              "    <tr>\n",
              "      <th>31</th>\n",
              "      <td>32</td>\n",
              "      <td>Maria Franca Fissolo</td>\n",
              "      <td>Italy</td>\n",
              "      <td>97.0</td>\n",
              "      <td>23.4</td>\n",
              "      <td>Nutella, chocolates</td>\n",
              "    </tr>\n",
              "    <tr>\n",
              "      <th>36</th>\n",
              "      <td>37</td>\n",
              "      <td>Beate Heister &amp; Karl Albrecht Jr.</td>\n",
              "      <td>Germany</td>\n",
              "      <td>NaN</td>\n",
              "      <td>21.3</td>\n",
              "      <td>Supermarkets</td>\n",
              "    </tr>\n",
              "    <tr>\n",
              "      <th>57</th>\n",
              "      <td>58</td>\n",
              "      <td>Thomas &amp; Raymond Kwok</td>\n",
              "      <td>Hong Kong</td>\n",
              "      <td>NaN</td>\n",
              "      <td>15.9</td>\n",
              "      <td>Real estate</td>\n",
              "    </tr>\n",
              "    <tr>\n",
              "      <th>68</th>\n",
              "      <td>69</td>\n",
              "      <td>Hinduja brothers</td>\n",
              "      <td>United Kingdom</td>\n",
              "      <td>NaN</td>\n",
              "      <td>14.5</td>\n",
              "      <td>Diversified</td>\n",
              "    </tr>\n",
              "  </tbody>\n",
              "</table>\n",
              "<p>102 rows × 6 columns</p>\n",
              "</div>"
            ],
            "text/plain": [
              "     No.  ...  Source(s) of wealth\n",
              "15    16  ...             Facebook\n",
              "19    20  ...               Google\n",
              "18    19  ...               Google\n",
              "100  100  ...         Tesla Motors\n",
              "55    56  ...       Internet media\n",
              "..   ...  ...                  ...\n",
              "52    53  ...                Media\n",
              "31    32  ...  Nutella, chocolates\n",
              "36    37  ...         Supermarkets\n",
              "57    58  ...          Real estate\n",
              "68    69  ...          Diversified\n",
              "\n",
              "[102 rows x 6 columns]"
            ]
          },
          "metadata": {
            "tags": []
          },
          "execution_count": 96
        }
      ]
    },
    {
      "cell_type": "markdown",
      "metadata": {
        "id": "SK0GTpgRy18h",
        "colab_type": "text"
      },
      "source": [
        "**Question 2**: Given this data from question 1, you see some instances of NaN values. Let's find the average age of billionaires for those  countries, and set those NaN values to that. That is, if there were a NaN value for the United States, set that NaN value to equal the average age of billionaires the United States. **Note: The only NaN values are in the age column, so don't worry about your answer modifying any of the other columns**\n",
        "\n",
        "Once you've done that, display the new table with the age column sorted."
      ]
    },
    {
      "cell_type": "code",
      "metadata": {
        "id": "aWzHbq23zaps",
        "colab_type": "code",
        "colab": {
          "base_uri": "https://localhost:8080/",
          "height": 415
        },
        "outputId": "340adf1f-f801-4730-b171-869224f49ec2"
      },
      "source": [
        "average_age = df.groupby(['Citizenship'])\n",
        "country_average_age = average_age['Age'].agg(np.mean)\n",
        "\n",
        "nan_indexes = df['Age'].isna()\n",
        "for index, bool_value in nan_indexes.items():\n",
        "  if bool_value:\n",
        "    df.at[index, 'Age'] = country_average_age[df.at[index, 'Citizenship']]\n",
        "\n",
        "df = df.sort_values(by=['Age'])\n",
        "df"
      ],
      "execution_count": 99,
      "outputs": [
        {
          "output_type": "execute_result",
          "data": {
            "text/html": [
              "<div>\n",
              "<style scoped>\n",
              "    .dataframe tbody tr th:only-of-type {\n",
              "        vertical-align: middle;\n",
              "    }\n",
              "\n",
              "    .dataframe tbody tr th {\n",
              "        vertical-align: top;\n",
              "    }\n",
              "\n",
              "    .dataframe thead th {\n",
              "        text-align: right;\n",
              "    }\n",
              "</style>\n",
              "<table border=\"1\" class=\"dataframe\">\n",
              "  <thead>\n",
              "    <tr style=\"text-align: right;\">\n",
              "      <th></th>\n",
              "      <th>No.</th>\n",
              "      <th>Name</th>\n",
              "      <th>Citizenship</th>\n",
              "      <th>Age</th>\n",
              "      <th>Net Worth USD billion</th>\n",
              "      <th>Source(s) of wealth</th>\n",
              "    </tr>\n",
              "  </thead>\n",
              "  <tbody>\n",
              "    <tr>\n",
              "      <th>15</th>\n",
              "      <td>16</td>\n",
              "      <td>Mark Zuckerberg</td>\n",
              "      <td>United States</td>\n",
              "      <td>30.0</td>\n",
              "      <td>33.4</td>\n",
              "      <td>Facebook</td>\n",
              "    </tr>\n",
              "    <tr>\n",
              "      <th>19</th>\n",
              "      <td>20</td>\n",
              "      <td>Sergey Brin</td>\n",
              "      <td>United States</td>\n",
              "      <td>41.0</td>\n",
              "      <td>29.2</td>\n",
              "      <td>Google</td>\n",
              "    </tr>\n",
              "    <tr>\n",
              "      <th>18</th>\n",
              "      <td>19</td>\n",
              "      <td>Larry Page</td>\n",
              "      <td>United States</td>\n",
              "      <td>41.0</td>\n",
              "      <td>29.7</td>\n",
              "      <td>Google</td>\n",
              "    </tr>\n",
              "    <tr>\n",
              "      <th>100</th>\n",
              "      <td>100</td>\n",
              "      <td>Elon Musk</td>\n",
              "      <td>United States</td>\n",
              "      <td>43.0</td>\n",
              "      <td>12.0</td>\n",
              "      <td>Tesla Motors</td>\n",
              "    </tr>\n",
              "    <tr>\n",
              "      <th>55</th>\n",
              "      <td>56</td>\n",
              "      <td>Ma Huateng</td>\n",
              "      <td>China</td>\n",
              "      <td>43.0</td>\n",
              "      <td>16.1</td>\n",
              "      <td>Internet media</td>\n",
              "    </tr>\n",
              "    <tr>\n",
              "      <th>...</th>\n",
              "      <td>...</td>\n",
              "      <td>...</td>\n",
              "      <td>...</td>\n",
              "      <td>...</td>\n",
              "      <td>...</td>\n",
              "      <td>...</td>\n",
              "    </tr>\n",
              "    <tr>\n",
              "      <th>72</th>\n",
              "      <td>73</td>\n",
              "      <td>Henry Sy</td>\n",
              "      <td>Philippines</td>\n",
              "      <td>90.0</td>\n",
              "      <td>14.2</td>\n",
              "      <td>Diversified</td>\n",
              "    </tr>\n",
              "    <tr>\n",
              "      <th>9</th>\n",
              "      <td>10</td>\n",
              "      <td>Liliane Bettencourt</td>\n",
              "      <td>France</td>\n",
              "      <td>92.0</td>\n",
              "      <td>40.1</td>\n",
              "      <td>L'Oréal</td>\n",
              "    </tr>\n",
              "    <tr>\n",
              "      <th>92</th>\n",
              "      <td>92</td>\n",
              "      <td>Jack Taylor</td>\n",
              "      <td>United States</td>\n",
              "      <td>92.0</td>\n",
              "      <td>12.5</td>\n",
              "      <td>Enterprise Rent-A-Car</td>\n",
              "    </tr>\n",
              "    <tr>\n",
              "      <th>52</th>\n",
              "      <td>53</td>\n",
              "      <td>Anne Cox Chambers</td>\n",
              "      <td>United States</td>\n",
              "      <td>95.0</td>\n",
              "      <td>17.0</td>\n",
              "      <td>Media</td>\n",
              "    </tr>\n",
              "    <tr>\n",
              "      <th>31</th>\n",
              "      <td>32</td>\n",
              "      <td>Maria Franca Fissolo</td>\n",
              "      <td>Italy</td>\n",
              "      <td>97.0</td>\n",
              "      <td>23.4</td>\n",
              "      <td>Nutella, chocolates</td>\n",
              "    </tr>\n",
              "  </tbody>\n",
              "</table>\n",
              "<p>102 rows × 6 columns</p>\n",
              "</div>"
            ],
            "text/plain": [
              "     No.                  Name  ... Net Worth USD billion    Source(s) of wealth\n",
              "15    16       Mark Zuckerberg  ...                  33.4               Facebook\n",
              "19    20           Sergey Brin  ...                  29.2                 Google\n",
              "18    19            Larry Page  ...                  29.7                 Google\n",
              "100  100             Elon Musk  ...                  12.0           Tesla Motors\n",
              "55    56            Ma Huateng  ...                  16.1         Internet media\n",
              "..   ...                   ...  ...                   ...                    ...\n",
              "72    73              Henry Sy  ...                  14.2            Diversified\n",
              "9     10   Liliane Bettencourt  ...                  40.1                L'Oréal\n",
              "92    92           Jack Taylor  ...                  12.5  Enterprise Rent-A-Car\n",
              "52    53     Anne Cox Chambers  ...                  17.0                  Media\n",
              "31    32  Maria Franca Fissolo  ...                  23.4    Nutella, chocolates\n",
              "\n",
              "[102 rows x 6 columns]"
            ]
          },
          "metadata": {
            "tags": []
          },
          "execution_count": 99
        }
      ]
    },
    {
      "cell_type": "markdown",
      "metadata": {
        "id": "LAJPwotY2i5s",
        "colab_type": "text"
      },
      "source": [
        "Often times in data science and stats, there will be outliers in your data set. An **outlier** is an extremely high or low value in your data that may throw off your statistics. For example, these US billionaires in this data set are outliers. The average person doesn't have a networth that high.\n",
        "\n",
        "In order to calculate the outlier threshold in your dataset, you'll need to find 3 things about your data: the interquartile range, the Q1, and the Q3.\n",
        "\n",
        "**Quartile 1**: The median of the lower half. Find the median of your data, and looking the left half, find the median of that. That's your Q1.\n",
        "\n",
        "**Quartile 3**: The median of the upper half. So the same thing as Q1, just for the right half\n",
        "\n",
        "**Interquartile range**: Q3 - Q1\n",
        "\n",
        "Here's the formula to find your outliers:\n",
        "\n",
        "**High: Q3 + (1.5 * IQR)**\n",
        "\n",
        "**Low: Q1 + (1.5 * IQR)**\n",
        "\n",
        "And if there are any numbers in your data set that is higher or lower than those, they are considered outliers\n",
        "\n"
      ]
    },
    {
      "cell_type": "markdown",
      "metadata": {
        "id": "0aX7gc30A_vb",
        "colab_type": "text"
      },
      "source": [
        "**Question 3**: Use the code box below to find if there are any outliers in the Age column. If there are, write a comment stating which billionaire(s) are outliers and remove them."
      ]
    },
    {
      "cell_type": "code",
      "metadata": {
        "id": "cBLE61CXA_SK",
        "colab_type": "code",
        "colab": {
          "base_uri": "https://localhost:8080/",
          "height": 35
        },
        "outputId": "3c571525-7fa8-4b7f-9c6d-588f12a50f9d"
      },
      "source": [
        "net_worth_median = df['Age'].median()\n",
        "lower_half = df.loc[df['Age'] < net_worth_median]\n",
        "upper_half = df.loc[df['Age'] > net_worth_median]\n",
        "quartile_1 = lower_half['Age'].median()\n",
        "quartile_3 = upper_half['Age'].median()\n",
        "interquartile_range = quartile_3 - quartile_1\n",
        "high_outlier = quartile_3 + (1.5 * interquartile_range)\n",
        "low_outlier = quartile_1 - (1.5 * interquartile_range)\n",
        "print(low_outlier, high_outlier)\n",
        "# There are no outliers "
      ],
      "execution_count": 100,
      "outputs": [
        {
          "output_type": "stream",
          "text": [
            "25.5 109.5\n"
          ],
          "name": "stdout"
        }
      ]
    },
    {
      "cell_type": "markdown",
      "metadata": {
        "id": "2R2BtifWCM8K",
        "colab_type": "text"
      },
      "source": [
        "**Question 4**: Print the average of the Age column with the outliers removed.\n",
        "\n"
      ]
    },
    {
      "cell_type": "code",
      "metadata": {
        "id": "DrSQMBVJC99Q",
        "colab_type": "code",
        "colab": {
          "base_uri": "https://localhost:8080/",
          "height": 35
        },
        "outputId": "dc62cae5-672d-4ab3-dff0-a52b867f9c01"
      },
      "source": [
        "df_without_outliers = df.loc[df['Age'] > low_outlier]\n",
        "df_without_outliers = df_without_outliers.loc[df['Age'] < high_outlier]\n",
        "modified_age_mean = df_without_outliers['Age'].mean(skipna = True)\n",
        "modified_age_mean"
      ],
      "execution_count": 101,
      "outputs": [
        {
          "output_type": "execute_result",
          "data": {
            "text/plain": [
              "67.67892156862744"
            ]
          },
          "metadata": {
            "tags": []
          },
          "execution_count": 101
        }
      ]
    },
    {
      "cell_type": "markdown",
      "metadata": {
        "id": "mHhsIvKCFVE4",
        "colab_type": "text"
      },
      "source": [
        "##Section 2: Billionaires in 2014\n",
        "\n",
        "Now that we've play around with 2015 data, let's take a look at the year prior."
      ]
    },
    {
      "cell_type": "markdown",
      "metadata": {
        "id": "Igz63iqG1Nhw",
        "colab_type": "text"
      },
      "source": [
        "**Question 1:** Using the techniques outlined in section 1, scrape the Top 100 billionaires table from The World's Billionaires 2014 wikipedia article [found here](https://en.wikipedia.org/wiki/The_World%27s_Billionaires_2014) and display the data.\n",
        "\n",
        "**Note:** If the hyperlink doesn't work, just copy and paste https://en.wikipedia.org/wiki/The_World%27s_Billionaires_2014 into your search bar."
      ]
    },
    {
      "cell_type": "code",
      "metadata": {
        "id": "mwhxhvL72xiq",
        "colab_type": "code",
        "colab": {
          "base_uri": "https://localhost:8080/",
          "height": 415
        },
        "outputId": "37bb68b1-5328-4143-8a85-df5fef22381e"
      },
      "source": [
        "# Opening the and reading the article's url.\n",
        "url = \"https://en.wikipedia.org/wiki/The_World%27s_Billionaires_2014\"\n",
        "html = urlopen(url)\n",
        "soup = BeautifulSoup(html.read(),'html.parser')\n",
        "# finding all table tags within the HTML tree. This will return a ResultSet of\n",
        "# table tags.\n",
        "table = soup.find_all('table') \n",
        "\n",
        "# convert table variable to string for parsing and have pandas take the html\n",
        "# and convert it into a dataframe.\n",
        "df_2014 = pd.read_html(str(table))\n",
        "\n",
        "# the table we want is in index 2, so we reinitialize the dataframe to that and\n",
        "# display.\n",
        "df_2014 = pd.DataFrame(df_2014[2])\n",
        "new_header = df_2014.iloc[0]\n",
        "df_2014 = df_2014[1:]\n",
        "df_2014.columns = new_header\n",
        "df_2014"
      ],
      "execution_count": 113,
      "outputs": [
        {
          "output_type": "execute_result",
          "data": {
            "text/html": [
              "<div>\n",
              "<style scoped>\n",
              "    .dataframe tbody tr th:only-of-type {\n",
              "        vertical-align: middle;\n",
              "    }\n",
              "\n",
              "    .dataframe tbody tr th {\n",
              "        vertical-align: top;\n",
              "    }\n",
              "\n",
              "    .dataframe thead th {\n",
              "        text-align: right;\n",
              "    }\n",
              "</style>\n",
              "<table border=\"1\" class=\"dataframe\">\n",
              "  <thead>\n",
              "    <tr style=\"text-align: right;\">\n",
              "      <th></th>\n",
              "      <th>No.</th>\n",
              "      <th>Name</th>\n",
              "      <th>Net Worth USD billion</th>\n",
              "      <th>Age</th>\n",
              "      <th>Nationality</th>\n",
              "      <th>Source(s) of wealth</th>\n",
              "    </tr>\n",
              "  </thead>\n",
              "  <tbody>\n",
              "    <tr>\n",
              "      <th>1</th>\n",
              "      <td>1</td>\n",
              "      <td>Bill Gates</td>\n",
              "      <td>76.00</td>\n",
              "      <td>58</td>\n",
              "      <td>United States</td>\n",
              "      <td>Microsoft</td>\n",
              "    </tr>\n",
              "    <tr>\n",
              "      <th>2</th>\n",
              "      <td>2</td>\n",
              "      <td>Carlos Slim Helu &amp; family</td>\n",
              "      <td>72.00</td>\n",
              "      <td>74</td>\n",
              "      <td>Mexico</td>\n",
              "      <td>telecom</td>\n",
              "    </tr>\n",
              "    <tr>\n",
              "      <th>3</th>\n",
              "      <td>3</td>\n",
              "      <td>Amancio Ortega</td>\n",
              "      <td>64.00</td>\n",
              "      <td>77</td>\n",
              "      <td>Spain</td>\n",
              "      <td>retail</td>\n",
              "    </tr>\n",
              "    <tr>\n",
              "      <th>4</th>\n",
              "      <td>4</td>\n",
              "      <td>Warren Buffett</td>\n",
              "      <td>58.20</td>\n",
              "      <td>83</td>\n",
              "      <td>United States</td>\n",
              "      <td>Berkshire Hathaway</td>\n",
              "    </tr>\n",
              "    <tr>\n",
              "      <th>5</th>\n",
              "      <td>5</td>\n",
              "      <td>Larry Ellison</td>\n",
              "      <td>48.00</td>\n",
              "      <td>69</td>\n",
              "      <td>United States</td>\n",
              "      <td>Oracle Corporation</td>\n",
              "    </tr>\n",
              "    <tr>\n",
              "      <th>...</th>\n",
              "      <td>...</td>\n",
              "      <td>...</td>\n",
              "      <td>...</td>\n",
              "      <td>...</td>\n",
              "      <td>...</td>\n",
              "      <td>...</td>\n",
              "    </tr>\n",
              "    <tr>\n",
              "      <th>97</th>\n",
              "      <td>97</td>\n",
              "      <td>Dhanin Chearavanont &amp; family</td>\n",
              "      <td>11.40</td>\n",
              "      <td>74</td>\n",
              "      <td>Thailand</td>\n",
              "      <td>food</td>\n",
              "    </tr>\n",
              "    <tr>\n",
              "      <th>98</th>\n",
              "      <td>97</td>\n",
              "      <td>Andrey Melnichenko</td>\n",
              "      <td>11.40</td>\n",
              "      <td>41</td>\n",
              "      <td>Russia</td>\n",
              "      <td>coal, fertilizers</td>\n",
              "    </tr>\n",
              "    <tr>\n",
              "      <th>99</th>\n",
              "      <td>97</td>\n",
              "      <td>Henry Sy &amp; family</td>\n",
              "      <td>11.40</td>\n",
              "      <td>89</td>\n",
              "      <td>Philippines</td>\n",
              "      <td>diversified</td>\n",
              "    </tr>\n",
              "    <tr>\n",
              "      <th>100</th>\n",
              "      <td>100</td>\n",
              "      <td>German Khan</td>\n",
              "      <td>11.30</td>\n",
              "      <td>52</td>\n",
              "      <td>Russia</td>\n",
              "      <td>oil, banking, telecom</td>\n",
              "    </tr>\n",
              "    <tr>\n",
              "      <th>101</th>\n",
              "      <td>100</td>\n",
              "      <td>Ananda Krishnan</td>\n",
              "      <td>11.30</td>\n",
              "      <td>75</td>\n",
              "      <td>Malaysia</td>\n",
              "      <td>telecom</td>\n",
              "    </tr>\n",
              "  </tbody>\n",
              "</table>\n",
              "<p>101 rows × 6 columns</p>\n",
              "</div>"
            ],
            "text/plain": [
              "0    No.                          Name  ...    Nationality    Source(s) of wealth\n",
              "1      1                    Bill Gates  ...  United States              Microsoft\n",
              "2      2     Carlos Slim Helu & family  ...         Mexico                telecom\n",
              "3      3                Amancio Ortega  ...          Spain                 retail\n",
              "4      4                Warren Buffett  ...  United States     Berkshire Hathaway\n",
              "5      5                 Larry Ellison  ...  United States     Oracle Corporation\n",
              "..   ...                           ...  ...            ...                    ...\n",
              "97    97  Dhanin Chearavanont & family  ...       Thailand                   food\n",
              "98    97            Andrey Melnichenko  ...         Russia      coal, fertilizers\n",
              "99    97             Henry Sy & family  ...    Philippines            diversified\n",
              "100  100                   German Khan  ...         Russia  oil, banking, telecom\n",
              "101  100               Ananda Krishnan  ...       Malaysia                telecom\n",
              "\n",
              "[101 rows x 6 columns]"
            ]
          },
          "metadata": {
            "tags": []
          },
          "execution_count": 113
        }
      ]
    },
    {
      "cell_type": "markdown",
      "metadata": {
        "id": "tlA70prA55FB",
        "colab_type": "text"
      },
      "source": [
        "From the data you can see that billionaires span across multiple countries around the world, and some countries, like the US, have multiple billionaires in them\n",
        "\n",
        "**Question 2**: Create a new dataframe that is the result of grouping the data from question 1 by country, and getting the average networth of billionaires for that country. **Note:** You'll have to convert the networth column to float values first."
      ]
    },
    {
      "cell_type": "code",
      "metadata": {
        "id": "4pqx2PC07uMU",
        "colab_type": "code",
        "colab": {
          "base_uri": "https://localhost:8080/",
          "height": 877
        },
        "outputId": "4fe334d2-0c36-4d04-d935-b0a586f58176"
      },
      "source": [
        "df_2014['Net Worth USD billion'] = df_2014['Net Worth USD billion'].astype(float)\n",
        "\n",
        "df_2014_country = df_2014.groupby(['Nationality'])\n",
        "df_2014_country_average_networth = df_2014_country['Net Worth USD billion'].agg(np.mean)\n",
        "\n",
        "countries = []\n",
        "averages = []\n",
        "for country, average in df_2014_country_average_networth.items():\n",
        "  countries.append(country)\n",
        "  averages.append(average)\n",
        "\n",
        "country_and_average_worth = pd.DataFrame(list(zip(countries,averages)), columns=['Country', 'Average Networth for Country'])\n",
        "country_and_average_worth"
      ],
      "execution_count": 129,
      "outputs": [
        {
          "output_type": "execute_result",
          "data": {
            "text/html": [
              "<div>\n",
              "<style scoped>\n",
              "    .dataframe tbody tr th:only-of-type {\n",
              "        vertical-align: middle;\n",
              "    }\n",
              "\n",
              "    .dataframe tbody tr th {\n",
              "        vertical-align: top;\n",
              "    }\n",
              "\n",
              "    .dataframe thead th {\n",
              "        text-align: right;\n",
              "    }\n",
              "</style>\n",
              "<table border=\"1\" class=\"dataframe\">\n",
              "  <thead>\n",
              "    <tr style=\"text-align: right;\">\n",
              "      <th></th>\n",
              "      <th>Country</th>\n",
              "      <th>Average Networth for Country</th>\n",
              "    </tr>\n",
              "  </thead>\n",
              "  <tbody>\n",
              "    <tr>\n",
              "      <th>0</th>\n",
              "      <td>Australia</td>\n",
              "      <td>17.700000</td>\n",
              "    </tr>\n",
              "    <tr>\n",
              "      <th>1</th>\n",
              "      <td>Brazil</td>\n",
              "      <td>17.850000</td>\n",
              "    </tr>\n",
              "    <tr>\n",
              "      <th>2</th>\n",
              "      <td>Canada</td>\n",
              "      <td>22.600000</td>\n",
              "    </tr>\n",
              "    <tr>\n",
              "      <th>3</th>\n",
              "      <td>Chile</td>\n",
              "      <td>15.500000</td>\n",
              "    </tr>\n",
              "    <tr>\n",
              "      <th>4</th>\n",
              "      <td>China</td>\n",
              "      <td>13.050000</td>\n",
              "    </tr>\n",
              "    <tr>\n",
              "      <th>5</th>\n",
              "      <td>Colombia</td>\n",
              "      <td>14.200000</td>\n",
              "    </tr>\n",
              "    <tr>\n",
              "      <th>6</th>\n",
              "      <td>Cyprus</td>\n",
              "      <td>13.600000</td>\n",
              "    </tr>\n",
              "    <tr>\n",
              "      <th>7</th>\n",
              "      <td>France</td>\n",
              "      <td>24.375000</td>\n",
              "    </tr>\n",
              "    <tr>\n",
              "      <th>8</th>\n",
              "      <td>Germany</td>\n",
              "      <td>17.900000</td>\n",
              "    </tr>\n",
              "    <tr>\n",
              "      <th>9</th>\n",
              "      <td>Hong Kong</td>\n",
              "      <td>20.280000</td>\n",
              "    </tr>\n",
              "    <tr>\n",
              "      <th>10</th>\n",
              "      <td>India</td>\n",
              "      <td>15.850000</td>\n",
              "    </tr>\n",
              "    <tr>\n",
              "      <th>11</th>\n",
              "      <td>Ireland</td>\n",
              "      <td>12.800000</td>\n",
              "    </tr>\n",
              "    <tr>\n",
              "      <th>12</th>\n",
              "      <td>Italy</td>\n",
              "      <td>22.850000</td>\n",
              "    </tr>\n",
              "    <tr>\n",
              "      <th>13</th>\n",
              "      <td>Japan</td>\n",
              "      <td>18.150000</td>\n",
              "    </tr>\n",
              "    <tr>\n",
              "      <th>14</th>\n",
              "      <td>Malaysia</td>\n",
              "      <td>11.400000</td>\n",
              "    </tr>\n",
              "    <tr>\n",
              "      <th>15</th>\n",
              "      <td>Mexico</td>\n",
              "      <td>33.033333</td>\n",
              "    </tr>\n",
              "    <tr>\n",
              "      <th>16</th>\n",
              "      <td>Nigeria</td>\n",
              "      <td>25.000000</td>\n",
              "    </tr>\n",
              "    <tr>\n",
              "      <th>17</th>\n",
              "      <td>Philippines</td>\n",
              "      <td>11.400000</td>\n",
              "    </tr>\n",
              "    <tr>\n",
              "      <th>18</th>\n",
              "      <td>Russia</td>\n",
              "      <td>14.980000</td>\n",
              "    </tr>\n",
              "    <tr>\n",
              "      <th>19</th>\n",
              "      <td>Saudi Arabia</td>\n",
              "      <td>17.850000</td>\n",
              "    </tr>\n",
              "    <tr>\n",
              "      <th>20</th>\n",
              "      <td>Spain</td>\n",
              "      <td>64.000000</td>\n",
              "    </tr>\n",
              "    <tr>\n",
              "      <th>21</th>\n",
              "      <td>Sweden</td>\n",
              "      <td>23.200000</td>\n",
              "    </tr>\n",
              "    <tr>\n",
              "      <th>22</th>\n",
              "      <td>Switzerland</td>\n",
              "      <td>12.000000</td>\n",
              "    </tr>\n",
              "    <tr>\n",
              "      <th>23</th>\n",
              "      <td>Thailand</td>\n",
              "      <td>11.400000</td>\n",
              "    </tr>\n",
              "    <tr>\n",
              "      <th>24</th>\n",
              "      <td>Ukraine</td>\n",
              "      <td>12.500000</td>\n",
              "    </tr>\n",
              "    <tr>\n",
              "      <th>25</th>\n",
              "      <td>United Kingdom</td>\n",
              "      <td>12.250000</td>\n",
              "    </tr>\n",
              "    <tr>\n",
              "      <th>26</th>\n",
              "      <td>United States</td>\n",
              "      <td>26.121622</td>\n",
              "    </tr>\n",
              "  </tbody>\n",
              "</table>\n",
              "</div>"
            ],
            "text/plain": [
              "           Country  Average Networth for Country\n",
              "0        Australia                     17.700000\n",
              "1           Brazil                     17.850000\n",
              "2           Canada                     22.600000\n",
              "3            Chile                     15.500000\n",
              "4            China                     13.050000\n",
              "5         Colombia                     14.200000\n",
              "6           Cyprus                     13.600000\n",
              "7           France                     24.375000\n",
              "8          Germany                     17.900000\n",
              "9        Hong Kong                     20.280000\n",
              "10           India                     15.850000\n",
              "11         Ireland                     12.800000\n",
              "12           Italy                     22.850000\n",
              "13           Japan                     18.150000\n",
              "14        Malaysia                     11.400000\n",
              "15          Mexico                     33.033333\n",
              "16         Nigeria                     25.000000\n",
              "17     Philippines                     11.400000\n",
              "18          Russia                     14.980000\n",
              "19    Saudi Arabia                     17.850000\n",
              "20           Spain                     64.000000\n",
              "21          Sweden                     23.200000\n",
              "22     Switzerland                     12.000000\n",
              "23        Thailand                     11.400000\n",
              "24         Ukraine                     12.500000\n",
              "25  United Kingdom                     12.250000\n",
              "26   United States                     26.121622"
            ]
          },
          "metadata": {
            "tags": []
          },
          "execution_count": 129
        }
      ]
    },
    {
      "cell_type": "markdown",
      "metadata": {
        "id": "RXJhPOLkB5p2",
        "colab_type": "text"
      },
      "source": [
        "**Question 3** Use an appropriate graph to visualize each country's average net worth from question 2, and state in a comment why you chose the graph you chose"
      ]
    },
    {
      "cell_type": "code",
      "metadata": {
        "id": "dofmV4I6CSrh",
        "colab_type": "code",
        "colab": {
          "base_uri": "https://localhost:8080/",
          "height": 366
        },
        "outputId": "815ddd96-267e-445b-ab5c-4d33a8342a82"
      },
      "source": [
        "plt.bar(countries, averages, color='red', width=0.5, edgecolor='black', linewidth=1.5)\n",
        "plt.xlabel(\"Country\")\n",
        "plt.ylabel('Average Net Worth')\n",
        "plt.title(\"Average Net Worth of Billionaires in each country\")\n",
        "plt.xticks(rotation=90)\n",
        "plt.show()\n",
        "\n",
        "#I chose a bar chart because there are only two variables involved and it will allow us visualize how the countries compare to one another."
      ],
      "execution_count": 136,
      "outputs": [
        {
          "output_type": "display_data",
          "data": {
            "image/png": "[encoded data removed]",
            "text/plain": [
              "<Figure size 432x288 with 1 Axes>"
            ]
          },
          "metadata": {
            "tags": [],
            "needs_background": "light"
          }
        }
      ]
    },
    {
      "cell_type": "markdown",
      "metadata": {
        "id": "i0uDVv8KDLC4",
        "colab_type": "text"
      },
      "source": [
        "**Question 4:** From the chart you made in question 3 you may see some interesting result regarding Spain, why do think that is? Is Spain an outlier when it's in the original table? What about when Spain is in the grouped table?"
      ]
    },
    {
      "cell_type": "markdown",
      "metadata": {
        "id": "m2xAv7RnEQKT",
        "colab_type": "text"
      },
      "source": [
        "Yes, Spain appears to have a far greater average net worth for billionaires than other countries. This is most likely because Spain has only one billionaire so the average is solely dependent on that individual whereas the averages for other countries are affected by a couple of billionaires. Based on this, I'd say Spain is an outlier when you consider the sample of billionaires in the original table(it has unrealistically high values that could drive the global average up). However, when isolated from other values, it is not an outlier. "
      ]
    }
  ]
}